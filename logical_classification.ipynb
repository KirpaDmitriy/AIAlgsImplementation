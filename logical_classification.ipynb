{
  "nbformat": 4,
  "nbformat_minor": 0,
  "metadata": {
    "colab": {
      "provenance": [],
      "toc_visible": true,
      "authorship_tag": "ABX9TyOivABAzRfqRHobBCJNJzx1",
      "include_colab_link": true
    },
    "kernelspec": {
      "name": "python3",
      "display_name": "Python 3"
    },
    "language_info": {
      "name": "python"
    }
  },
  "cells": [
    {
      "cell_type": "markdown",
      "metadata": {
        "id": "view-in-github",
        "colab_type": "text"
      },
      "source": [
        "<a href=\"https://colab.research.google.com/github/KirpaDmitriy/AIAlgsImplementation/blob/main/logical_classification.ipynb\" target=\"_parent\"><img src=\"https://colab.research.google.com/assets/colab-badge.svg\" alt=\"Open In Colab\"/></a>"
      ]
    },
    {
      "cell_type": "markdown",
      "source": [
        "# Лабораторная работа №3 \"Логическая классификация\"\n",
        "## Студент: Кирпа Дмитрий\n",
        "## Преподаватель: Мангараков Александр"
      ],
      "metadata": {
        "id": "WR5atdDSL2Kp"
      }
    },
    {
      "cell_type": "markdown",
      "source": [
        "## Подключение зависимостей"
      ],
      "metadata": {
        "id": "1kXbo0gKJ5OG"
      }
    },
    {
      "cell_type": "code",
      "execution_count": null,
      "metadata": {
        "id": "aHkLVvv7IIlz"
      },
      "outputs": [],
      "source": [
        "from time import perf_counter\n",
        "from typing import Any, Callable, Iterable\n",
        "\n",
        "import numpy as np\n",
        "import pandas as pd\n",
        "\n",
        "from scipy import stats\n",
        "from sklearn.metrics import mean_squared_error\n",
        "from sklearn.model_selection import train_test_split\n",
        "from sklearn.preprocessing import LabelEncoder\n",
        "from sklearn.tree import DecisionTreeClassifier"
      ]
    },
    {
      "cell_type": "code",
      "source": [
        "np.random.seed(42)"
      ],
      "metadata": {
        "id": "gc--ShQwJR3s"
      },
      "execution_count": null,
      "outputs": []
    },
    {
      "cell_type": "markdown",
      "source": [
        "## Данные"
      ],
      "metadata": {
        "id": "95_qVTzpJ_BG"
      }
    },
    {
      "cell_type": "markdown",
      "source": [
        "Был использован [набор](https://www.kaggle.com/datasets/valakhorasani/gym-members-exercise-dataset), содержащий показатели спортивных тренировок разных типов и показатели людей, их выполнявших:"
      ],
      "metadata": {
        "id": "m3FxNuGEMUvE"
      }
    },
    {
      "cell_type": "code",
      "source": [
        "data = pd.read_csv(\"gym_members_exercise_tracking.csv\")\n",
        "data.head()"
      ],
      "metadata": {
        "colab": {
          "base_uri": "https://localhost:8080/",
          "height": 243
        },
        "id": "3nJY09pMIuTA",
        "outputId": "04b480c8-93c8-46cc-b8aa-2b699adeba39"
      },
      "execution_count": null,
      "outputs": [
        {
          "output_type": "execute_result",
          "data": {
            "text/plain": [
              "   Age  Gender  Weight (kg)  Height (m)  Max_BPM  Avg_BPM  Resting_BPM  \\\n",
              "0   56    Male         88.3        1.71      180      157           60   \n",
              "1   46  Female         74.9        1.53      179      151           66   \n",
              "2   32  Female         68.1        1.66      167      122           54   \n",
              "3   25    Male         53.2        1.70      190      164           56   \n",
              "4   38    Male         46.1        1.79      188      158           68   \n",
              "\n",
              "   Session_Duration (hours)  Calories_Burned Workout_Type  Fat_Percentage  \\\n",
              "0                      1.69           1313.0         Yoga            12.6   \n",
              "1                      1.30            883.0         HIIT            33.9   \n",
              "2                      1.11            677.0       Cardio            33.4   \n",
              "3                      0.59            532.0     Strength            28.8   \n",
              "4                      0.64            556.0     Strength            29.2   \n",
              "\n",
              "   Water_Intake (liters)  Workout_Frequency (days/week)  Experience_Level  \\\n",
              "0                    3.5                              4                 3   \n",
              "1                    2.1                              4                 2   \n",
              "2                    2.3                              4                 2   \n",
              "3                    2.1                              3                 1   \n",
              "4                    2.8                              3                 1   \n",
              "\n",
              "     BMI  \n",
              "0  30.20  \n",
              "1  32.00  \n",
              "2  24.71  \n",
              "3  18.41  \n",
              "4  14.39  "
            ],
            "text/html": [
              "\n",
              "  <div id=\"df-f4ec816f-0543-4b58-9361-30ea54a387f9\" class=\"colab-df-container\">\n",
              "    <div>\n",
              "<style scoped>\n",
              "    .dataframe tbody tr th:only-of-type {\n",
              "        vertical-align: middle;\n",
              "    }\n",
              "\n",
              "    .dataframe tbody tr th {\n",
              "        vertical-align: top;\n",
              "    }\n",
              "\n",
              "    .dataframe thead th {\n",
              "        text-align: right;\n",
              "    }\n",
              "</style>\n",
              "<table border=\"1\" class=\"dataframe\">\n",
              "  <thead>\n",
              "    <tr style=\"text-align: right;\">\n",
              "      <th></th>\n",
              "      <th>Age</th>\n",
              "      <th>Gender</th>\n",
              "      <th>Weight (kg)</th>\n",
              "      <th>Height (m)</th>\n",
              "      <th>Max_BPM</th>\n",
              "      <th>Avg_BPM</th>\n",
              "      <th>Resting_BPM</th>\n",
              "      <th>Session_Duration (hours)</th>\n",
              "      <th>Calories_Burned</th>\n",
              "      <th>Workout_Type</th>\n",
              "      <th>Fat_Percentage</th>\n",
              "      <th>Water_Intake (liters)</th>\n",
              "      <th>Workout_Frequency (days/week)</th>\n",
              "      <th>Experience_Level</th>\n",
              "      <th>BMI</th>\n",
              "    </tr>\n",
              "  </thead>\n",
              "  <tbody>\n",
              "    <tr>\n",
              "      <th>0</th>\n",
              "      <td>56</td>\n",
              "      <td>Male</td>\n",
              "      <td>88.3</td>\n",
              "      <td>1.71</td>\n",
              "      <td>180</td>\n",
              "      <td>157</td>\n",
              "      <td>60</td>\n",
              "      <td>1.69</td>\n",
              "      <td>1313.0</td>\n",
              "      <td>Yoga</td>\n",
              "      <td>12.6</td>\n",
              "      <td>3.5</td>\n",
              "      <td>4</td>\n",
              "      <td>3</td>\n",
              "      <td>30.20</td>\n",
              "    </tr>\n",
              "    <tr>\n",
              "      <th>1</th>\n",
              "      <td>46</td>\n",
              "      <td>Female</td>\n",
              "      <td>74.9</td>\n",
              "      <td>1.53</td>\n",
              "      <td>179</td>\n",
              "      <td>151</td>\n",
              "      <td>66</td>\n",
              "      <td>1.30</td>\n",
              "      <td>883.0</td>\n",
              "      <td>HIIT</td>\n",
              "      <td>33.9</td>\n",
              "      <td>2.1</td>\n",
              "      <td>4</td>\n",
              "      <td>2</td>\n",
              "      <td>32.00</td>\n",
              "    </tr>\n",
              "    <tr>\n",
              "      <th>2</th>\n",
              "      <td>32</td>\n",
              "      <td>Female</td>\n",
              "      <td>68.1</td>\n",
              "      <td>1.66</td>\n",
              "      <td>167</td>\n",
              "      <td>122</td>\n",
              "      <td>54</td>\n",
              "      <td>1.11</td>\n",
              "      <td>677.0</td>\n",
              "      <td>Cardio</td>\n",
              "      <td>33.4</td>\n",
              "      <td>2.3</td>\n",
              "      <td>4</td>\n",
              "      <td>2</td>\n",
              "      <td>24.71</td>\n",
              "    </tr>\n",
              "    <tr>\n",
              "      <th>3</th>\n",
              "      <td>25</td>\n",
              "      <td>Male</td>\n",
              "      <td>53.2</td>\n",
              "      <td>1.70</td>\n",
              "      <td>190</td>\n",
              "      <td>164</td>\n",
              "      <td>56</td>\n",
              "      <td>0.59</td>\n",
              "      <td>532.0</td>\n",
              "      <td>Strength</td>\n",
              "      <td>28.8</td>\n",
              "      <td>2.1</td>\n",
              "      <td>3</td>\n",
              "      <td>1</td>\n",
              "      <td>18.41</td>\n",
              "    </tr>\n",
              "    <tr>\n",
              "      <th>4</th>\n",
              "      <td>38</td>\n",
              "      <td>Male</td>\n",
              "      <td>46.1</td>\n",
              "      <td>1.79</td>\n",
              "      <td>188</td>\n",
              "      <td>158</td>\n",
              "      <td>68</td>\n",
              "      <td>0.64</td>\n",
              "      <td>556.0</td>\n",
              "      <td>Strength</td>\n",
              "      <td>29.2</td>\n",
              "      <td>2.8</td>\n",
              "      <td>3</td>\n",
              "      <td>1</td>\n",
              "      <td>14.39</td>\n",
              "    </tr>\n",
              "  </tbody>\n",
              "</table>\n",
              "</div>\n",
              "    <div class=\"colab-df-buttons\">\n",
              "\n",
              "  <div class=\"colab-df-container\">\n",
              "    <button class=\"colab-df-convert\" onclick=\"convertToInteractive('df-f4ec816f-0543-4b58-9361-30ea54a387f9')\"\n",
              "            title=\"Convert this dataframe to an interactive table.\"\n",
              "            style=\"display:none;\">\n",
              "\n",
              "  <svg xmlns=\"http://www.w3.org/2000/svg\" height=\"24px\" viewBox=\"0 -960 960 960\">\n",
              "    <path d=\"M120-120v-720h720v720H120Zm60-500h600v-160H180v160Zm220 220h160v-160H400v160Zm0 220h160v-160H400v160ZM180-400h160v-160H180v160Zm440 0h160v-160H620v160ZM180-180h160v-160H180v160Zm440 0h160v-160H620v160Z\"/>\n",
              "  </svg>\n",
              "    </button>\n",
              "\n",
              "  <style>\n",
              "    .colab-df-container {\n",
              "      display:flex;\n",
              "      gap: 12px;\n",
              "    }\n",
              "\n",
              "    .colab-df-convert {\n",
              "      background-color: #E8F0FE;\n",
              "      border: none;\n",
              "      border-radius: 50%;\n",
              "      cursor: pointer;\n",
              "      display: none;\n",
              "      fill: #1967D2;\n",
              "      height: 32px;\n",
              "      padding: 0 0 0 0;\n",
              "      width: 32px;\n",
              "    }\n",
              "\n",
              "    .colab-df-convert:hover {\n",
              "      background-color: #E2EBFA;\n",
              "      box-shadow: 0px 1px 2px rgba(60, 64, 67, 0.3), 0px 1px 3px 1px rgba(60, 64, 67, 0.15);\n",
              "      fill: #174EA6;\n",
              "    }\n",
              "\n",
              "    .colab-df-buttons div {\n",
              "      margin-bottom: 4px;\n",
              "    }\n",
              "\n",
              "    [theme=dark] .colab-df-convert {\n",
              "      background-color: #3B4455;\n",
              "      fill: #D2E3FC;\n",
              "    }\n",
              "\n",
              "    [theme=dark] .colab-df-convert:hover {\n",
              "      background-color: #434B5C;\n",
              "      box-shadow: 0px 1px 3px 1px rgba(0, 0, 0, 0.15);\n",
              "      filter: drop-shadow(0px 1px 2px rgba(0, 0, 0, 0.3));\n",
              "      fill: #FFFFFF;\n",
              "    }\n",
              "  </style>\n",
              "\n",
              "    <script>\n",
              "      const buttonEl =\n",
              "        document.querySelector('#df-f4ec816f-0543-4b58-9361-30ea54a387f9 button.colab-df-convert');\n",
              "      buttonEl.style.display =\n",
              "        google.colab.kernel.accessAllowed ? 'block' : 'none';\n",
              "\n",
              "      async function convertToInteractive(key) {\n",
              "        const element = document.querySelector('#df-f4ec816f-0543-4b58-9361-30ea54a387f9');\n",
              "        const dataTable =\n",
              "          await google.colab.kernel.invokeFunction('convertToInteractive',\n",
              "                                                    [key], {});\n",
              "        if (!dataTable) return;\n",
              "\n",
              "        const docLinkHtml = 'Like what you see? Visit the ' +\n",
              "          '<a target=\"_blank\" href=https://colab.research.google.com/notebooks/data_table.ipynb>data table notebook</a>'\n",
              "          + ' to learn more about interactive tables.';\n",
              "        element.innerHTML = '';\n",
              "        dataTable['output_type'] = 'display_data';\n",
              "        await google.colab.output.renderOutput(dataTable, element);\n",
              "        const docLink = document.createElement('div');\n",
              "        docLink.innerHTML = docLinkHtml;\n",
              "        element.appendChild(docLink);\n",
              "      }\n",
              "    </script>\n",
              "  </div>\n",
              "\n",
              "\n",
              "<div id=\"df-8657a811-f6ce-42ab-9cfe-33a3d7774105\">\n",
              "  <button class=\"colab-df-quickchart\" onclick=\"quickchart('df-8657a811-f6ce-42ab-9cfe-33a3d7774105')\"\n",
              "            title=\"Suggest charts\"\n",
              "            style=\"display:none;\">\n",
              "\n",
              "<svg xmlns=\"http://www.w3.org/2000/svg\" height=\"24px\"viewBox=\"0 0 24 24\"\n",
              "     width=\"24px\">\n",
              "    <g>\n",
              "        <path d=\"M19 3H5c-1.1 0-2 .9-2 2v14c0 1.1.9 2 2 2h14c1.1 0 2-.9 2-2V5c0-1.1-.9-2-2-2zM9 17H7v-7h2v7zm4 0h-2V7h2v10zm4 0h-2v-4h2v4z\"/>\n",
              "    </g>\n",
              "</svg>\n",
              "  </button>\n",
              "\n",
              "<style>\n",
              "  .colab-df-quickchart {\n",
              "      --bg-color: #E8F0FE;\n",
              "      --fill-color: #1967D2;\n",
              "      --hover-bg-color: #E2EBFA;\n",
              "      --hover-fill-color: #174EA6;\n",
              "      --disabled-fill-color: #AAA;\n",
              "      --disabled-bg-color: #DDD;\n",
              "  }\n",
              "\n",
              "  [theme=dark] .colab-df-quickchart {\n",
              "      --bg-color: #3B4455;\n",
              "      --fill-color: #D2E3FC;\n",
              "      --hover-bg-color: #434B5C;\n",
              "      --hover-fill-color: #FFFFFF;\n",
              "      --disabled-bg-color: #3B4455;\n",
              "      --disabled-fill-color: #666;\n",
              "  }\n",
              "\n",
              "  .colab-df-quickchart {\n",
              "    background-color: var(--bg-color);\n",
              "    border: none;\n",
              "    border-radius: 50%;\n",
              "    cursor: pointer;\n",
              "    display: none;\n",
              "    fill: var(--fill-color);\n",
              "    height: 32px;\n",
              "    padding: 0;\n",
              "    width: 32px;\n",
              "  }\n",
              "\n",
              "  .colab-df-quickchart:hover {\n",
              "    background-color: var(--hover-bg-color);\n",
              "    box-shadow: 0 1px 2px rgba(60, 64, 67, 0.3), 0 1px 3px 1px rgba(60, 64, 67, 0.15);\n",
              "    fill: var(--button-hover-fill-color);\n",
              "  }\n",
              "\n",
              "  .colab-df-quickchart-complete:disabled,\n",
              "  .colab-df-quickchart-complete:disabled:hover {\n",
              "    background-color: var(--disabled-bg-color);\n",
              "    fill: var(--disabled-fill-color);\n",
              "    box-shadow: none;\n",
              "  }\n",
              "\n",
              "  .colab-df-spinner {\n",
              "    border: 2px solid var(--fill-color);\n",
              "    border-color: transparent;\n",
              "    border-bottom-color: var(--fill-color);\n",
              "    animation:\n",
              "      spin 1s steps(1) infinite;\n",
              "  }\n",
              "\n",
              "  @keyframes spin {\n",
              "    0% {\n",
              "      border-color: transparent;\n",
              "      border-bottom-color: var(--fill-color);\n",
              "      border-left-color: var(--fill-color);\n",
              "    }\n",
              "    20% {\n",
              "      border-color: transparent;\n",
              "      border-left-color: var(--fill-color);\n",
              "      border-top-color: var(--fill-color);\n",
              "    }\n",
              "    30% {\n",
              "      border-color: transparent;\n",
              "      border-left-color: var(--fill-color);\n",
              "      border-top-color: var(--fill-color);\n",
              "      border-right-color: var(--fill-color);\n",
              "    }\n",
              "    40% {\n",
              "      border-color: transparent;\n",
              "      border-right-color: var(--fill-color);\n",
              "      border-top-color: var(--fill-color);\n",
              "    }\n",
              "    60% {\n",
              "      border-color: transparent;\n",
              "      border-right-color: var(--fill-color);\n",
              "    }\n",
              "    80% {\n",
              "      border-color: transparent;\n",
              "      border-right-color: var(--fill-color);\n",
              "      border-bottom-color: var(--fill-color);\n",
              "    }\n",
              "    90% {\n",
              "      border-color: transparent;\n",
              "      border-bottom-color: var(--fill-color);\n",
              "    }\n",
              "  }\n",
              "</style>\n",
              "\n",
              "  <script>\n",
              "    async function quickchart(key) {\n",
              "      const quickchartButtonEl =\n",
              "        document.querySelector('#' + key + ' button');\n",
              "      quickchartButtonEl.disabled = true;  // To prevent multiple clicks.\n",
              "      quickchartButtonEl.classList.add('colab-df-spinner');\n",
              "      try {\n",
              "        const charts = await google.colab.kernel.invokeFunction(\n",
              "            'suggestCharts', [key], {});\n",
              "      } catch (error) {\n",
              "        console.error('Error during call to suggestCharts:', error);\n",
              "      }\n",
              "      quickchartButtonEl.classList.remove('colab-df-spinner');\n",
              "      quickchartButtonEl.classList.add('colab-df-quickchart-complete');\n",
              "    }\n",
              "    (() => {\n",
              "      let quickchartButtonEl =\n",
              "        document.querySelector('#df-8657a811-f6ce-42ab-9cfe-33a3d7774105 button');\n",
              "      quickchartButtonEl.style.display =\n",
              "        google.colab.kernel.accessAllowed ? 'block' : 'none';\n",
              "    })();\n",
              "  </script>\n",
              "</div>\n",
              "    </div>\n",
              "  </div>\n"
            ],
            "application/vnd.google.colaboratory.intrinsic+json": {
              "type": "dataframe",
              "variable_name": "data",
              "summary": "{\n  \"name\": \"data\",\n  \"rows\": 973,\n  \"fields\": [\n    {\n      \"column\": \"Age\",\n      \"properties\": {\n        \"dtype\": \"number\",\n        \"std\": 12,\n        \"min\": 18,\n        \"max\": 59,\n        \"num_unique_values\": 42,\n        \"samples\": [\n          26,\n          19,\n          41\n        ],\n        \"semantic_type\": \"\",\n        \"description\": \"\"\n      }\n    },\n    {\n      \"column\": \"Gender\",\n      \"properties\": {\n        \"dtype\": \"category\",\n        \"num_unique_values\": 2,\n        \"samples\": [\n          \"Female\",\n          \"Male\"\n        ],\n        \"semantic_type\": \"\",\n        \"description\": \"\"\n      }\n    },\n    {\n      \"column\": \"Weight (kg)\",\n      \"properties\": {\n        \"dtype\": \"number\",\n        \"std\": 21.20750049840718,\n        \"min\": 40.0,\n        \"max\": 129.9,\n        \"num_unique_values\": 532,\n        \"samples\": [\n          70.3,\n          127.1\n        ],\n        \"semantic_type\": \"\",\n        \"description\": \"\"\n      }\n    },\n    {\n      \"column\": \"Height (m)\",\n      \"properties\": {\n        \"dtype\": \"number\",\n        \"std\": 0.12771989460721703,\n        \"min\": 1.5,\n        \"max\": 2.0,\n        \"num_unique_values\": 51,\n        \"samples\": [\n          1.92,\n          1.96\n        ],\n        \"semantic_type\": \"\",\n        \"description\": \"\"\n      }\n    },\n    {\n      \"column\": \"Max_BPM\",\n      \"properties\": {\n        \"dtype\": \"number\",\n        \"std\": 11,\n        \"min\": 160,\n        \"max\": 199,\n        \"num_unique_values\": 40,\n        \"samples\": [\n          173,\n          199\n        ],\n        \"semantic_type\": \"\",\n        \"description\": \"\"\n      }\n    },\n    {\n      \"column\": \"Avg_BPM\",\n      \"properties\": {\n        \"dtype\": \"number\",\n        \"std\": 14,\n        \"min\": 120,\n        \"max\": 169,\n        \"num_unique_values\": 50,\n        \"samples\": [\n          161,\n          130\n        ],\n        \"semantic_type\": \"\",\n        \"description\": \"\"\n      }\n    },\n    {\n      \"column\": \"Resting_BPM\",\n      \"properties\": {\n        \"dtype\": \"number\",\n        \"std\": 7,\n        \"min\": 50,\n        \"max\": 74,\n        \"num_unique_values\": 25,\n        \"samples\": [\n          52,\n          62\n        ],\n        \"semantic_type\": \"\",\n        \"description\": \"\"\n      }\n    },\n    {\n      \"column\": \"Session_Duration (hours)\",\n      \"properties\": {\n        \"dtype\": \"number\",\n        \"std\": 0.3430334803899634,\n        \"min\": 0.5,\n        \"max\": 2.0,\n        \"num_unique_values\": 147,\n        \"samples\": [\n          1.9,\n          1.81\n        ],\n        \"semantic_type\": \"\",\n        \"description\": \"\"\n      }\n    },\n    {\n      \"column\": \"Calories_Burned\",\n      \"properties\": {\n        \"dtype\": \"number\",\n        \"std\": 272.64151645225877,\n        \"min\": 303.0,\n        \"max\": 1783.0,\n        \"num_unique_values\": 621,\n        \"samples\": [\n          1122.0,\n          494.0\n        ],\n        \"semantic_type\": \"\",\n        \"description\": \"\"\n      }\n    },\n    {\n      \"column\": \"Workout_Type\",\n      \"properties\": {\n        \"dtype\": \"category\",\n        \"num_unique_values\": 4,\n        \"samples\": [\n          \"HIIT\",\n          \"Strength\"\n        ],\n        \"semantic_type\": \"\",\n        \"description\": \"\"\n      }\n    },\n    {\n      \"column\": \"Fat_Percentage\",\n      \"properties\": {\n        \"dtype\": \"number\",\n        \"std\": 6.259418834269056,\n        \"min\": 10.0,\n        \"max\": 35.0,\n        \"num_unique_values\": 239,\n        \"samples\": [\n          26.1,\n          21.3\n        ],\n        \"semantic_type\": \"\",\n        \"description\": \"\"\n      }\n    },\n    {\n      \"column\": \"Water_Intake (liters)\",\n      \"properties\": {\n        \"dtype\": \"number\",\n        \"std\": 0.6001719365613234,\n        \"min\": 1.5,\n        \"max\": 3.7,\n        \"num_unique_values\": 23,\n        \"samples\": [\n          1.8,\n          3.3\n        ],\n        \"semantic_type\": \"\",\n        \"description\": \"\"\n      }\n    },\n    {\n      \"column\": \"Workout_Frequency (days/week)\",\n      \"properties\": {\n        \"dtype\": \"number\",\n        \"std\": 0,\n        \"min\": 2,\n        \"max\": 5,\n        \"num_unique_values\": 4,\n        \"samples\": [\n          3,\n          2\n        ],\n        \"semantic_type\": \"\",\n        \"description\": \"\"\n      }\n    },\n    {\n      \"column\": \"Experience_Level\",\n      \"properties\": {\n        \"dtype\": \"number\",\n        \"std\": 0,\n        \"min\": 1,\n        \"max\": 3,\n        \"num_unique_values\": 3,\n        \"samples\": [\n          3,\n          2\n        ],\n        \"semantic_type\": \"\",\n        \"description\": \"\"\n      }\n    },\n    {\n      \"column\": \"BMI\",\n      \"properties\": {\n        \"dtype\": \"number\",\n        \"std\": 6.660879393631086,\n        \"min\": 12.32,\n        \"max\": 49.84,\n        \"num_unique_values\": 771,\n        \"samples\": [\n          22.67,\n          23.94\n        ],\n        \"semantic_type\": \"\",\n        \"description\": \"\"\n      }\n    }\n  ]\n}"
            }
          },
          "metadata": {},
          "execution_count": 11
        }
      ]
    },
    {
      "cell_type": "markdown",
      "source": [
        "И категориальные, и количественные признаки в наборе представлены:"
      ],
      "metadata": {
        "id": "BZp-vboHJzer"
      }
    },
    {
      "cell_type": "code",
      "source": [
        "data.info()"
      ],
      "metadata": {
        "colab": {
          "base_uri": "https://localhost:8080/"
        },
        "id": "JabhcKNJI22f",
        "outputId": "2ac02788-0687-4981-b5f8-ad45ff18e7da"
      },
      "execution_count": null,
      "outputs": [
        {
          "output_type": "stream",
          "name": "stdout",
          "text": [
            "<class 'pandas.core.frame.DataFrame'>\n",
            "RangeIndex: 973 entries, 0 to 972\n",
            "Data columns (total 15 columns):\n",
            " #   Column                         Non-Null Count  Dtype  \n",
            "---  ------                         --------------  -----  \n",
            " 0   Age                            973 non-null    int64  \n",
            " 1   Gender                         973 non-null    object \n",
            " 2   Weight (kg)                    973 non-null    float64\n",
            " 3   Height (m)                     973 non-null    float64\n",
            " 4   Max_BPM                        973 non-null    int64  \n",
            " 5   Avg_BPM                        973 non-null    int64  \n",
            " 6   Resting_BPM                    973 non-null    int64  \n",
            " 7   Session_Duration (hours)       973 non-null    float64\n",
            " 8   Calories_Burned                973 non-null    float64\n",
            " 9   Workout_Type                   973 non-null    object \n",
            " 10  Fat_Percentage                 973 non-null    float64\n",
            " 11  Water_Intake (liters)          973 non-null    float64\n",
            " 12  Workout_Frequency (days/week)  973 non-null    int64  \n",
            " 13  Experience_Level               973 non-null    int64  \n",
            " 14  BMI                            973 non-null    float64\n",
            "dtypes: float64(7), int64(6), object(2)\n",
            "memory usage: 114.1+ KB\n"
          ]
        }
      ]
    },
    {
      "cell_type": "markdown",
      "source": [
        "Добление в набор данных пропусков:"
      ],
      "metadata": {
        "id": "rLP2_9YnJqpd"
      }
    },
    {
      "cell_type": "code",
      "source": [
        "data_with_nans = data.copy()\n",
        "\n",
        "num_cells_to_nullify = 750\n",
        "\n",
        "rows, cols = data.shape\n",
        "\n",
        "random_indices = np.random.choice(rows * cols, num_cells_to_nullify, replace=False)\n",
        "\n",
        "for index in random_indices:\n",
        "    row = index // cols\n",
        "    col = index % cols\n",
        "    data_with_nans.iat[row, col] = np.nan"
      ],
      "metadata": {
        "id": "CxsQaB68JNWR"
      },
      "execution_count": null,
      "outputs": []
    },
    {
      "cell_type": "code",
      "source": [
        "data_with_nans.info()"
      ],
      "metadata": {
        "colab": {
          "base_uri": "https://localhost:8080/"
        },
        "id": "V7vYsdDxJjAO",
        "outputId": "41f38243-68eb-4df1-e6ec-0d8b6f5847d8"
      },
      "execution_count": null,
      "outputs": [
        {
          "output_type": "stream",
          "name": "stdout",
          "text": [
            "<class 'pandas.core.frame.DataFrame'>\n",
            "RangeIndex: 973 entries, 0 to 972\n",
            "Data columns (total 15 columns):\n",
            " #   Column                         Non-Null Count  Dtype  \n",
            "---  ------                         --------------  -----  \n",
            " 0   Age                            926 non-null    float64\n",
            " 1   Gender                         920 non-null    object \n",
            " 2   Weight (kg)                    932 non-null    float64\n",
            " 3   Height (m)                     922 non-null    float64\n",
            " 4   Max_BPM                        918 non-null    float64\n",
            " 5   Avg_BPM                        918 non-null    float64\n",
            " 6   Resting_BPM                    937 non-null    float64\n",
            " 7   Session_Duration (hours)       924 non-null    float64\n",
            " 8   Calories_Burned                916 non-null    float64\n",
            " 9   Workout_Type                   929 non-null    object \n",
            " 10  Fat_Percentage                 920 non-null    float64\n",
            " 11  Water_Intake (liters)          920 non-null    float64\n",
            " 12  Workout_Frequency (days/week)  925 non-null    float64\n",
            " 13  Experience_Level               932 non-null    float64\n",
            " 14  BMI                            906 non-null    float64\n",
            "dtypes: float64(13), object(2)\n",
            "memory usage: 114.1+ KB\n"
          ]
        }
      ]
    },
    {
      "cell_type": "code",
      "source": [
        "data.Experience_Level.value_counts()"
      ],
      "metadata": {
        "colab": {
          "base_uri": "https://localhost:8080/",
          "height": 209
        },
        "id": "amIR3SE1_W7f",
        "outputId": "129730b0-5a31-4fd0-8c84-85b70ff3899f"
      },
      "execution_count": null,
      "outputs": [
        {
          "output_type": "execute_result",
          "data": {
            "text/plain": [
              "Experience_Level\n",
              "2    406\n",
              "1    376\n",
              "3    191\n",
              "Name: count, dtype: int64"
            ],
            "text/html": [
              "<div>\n",
              "<style scoped>\n",
              "    .dataframe tbody tr th:only-of-type {\n",
              "        vertical-align: middle;\n",
              "    }\n",
              "\n",
              "    .dataframe tbody tr th {\n",
              "        vertical-align: top;\n",
              "    }\n",
              "\n",
              "    .dataframe thead th {\n",
              "        text-align: right;\n",
              "    }\n",
              "</style>\n",
              "<table border=\"1\" class=\"dataframe\">\n",
              "  <thead>\n",
              "    <tr style=\"text-align: right;\">\n",
              "      <th></th>\n",
              "      <th>count</th>\n",
              "    </tr>\n",
              "    <tr>\n",
              "      <th>Experience_Level</th>\n",
              "      <th></th>\n",
              "    </tr>\n",
              "  </thead>\n",
              "  <tbody>\n",
              "    <tr>\n",
              "      <th>2</th>\n",
              "      <td>406</td>\n",
              "    </tr>\n",
              "    <tr>\n",
              "      <th>1</th>\n",
              "      <td>376</td>\n",
              "    </tr>\n",
              "    <tr>\n",
              "      <th>3</th>\n",
              "      <td>191</td>\n",
              "    </tr>\n",
              "  </tbody>\n",
              "</table>\n",
              "</div><br><label><b>dtype:</b> int64</label>"
            ]
          },
          "metadata": {},
          "execution_count": 15
        }
      ]
    },
    {
      "cell_type": "code",
      "source": [
        "X_train_classification_nans, X_test_classification_nans, y_train_classification_nans, y_test_classification_nans = train_test_split(data_with_nans.drop(columns=['Experience_Level']), data_with_nans.Experience_Level, test_size=0.25)\n",
        "X_train_classification_cleaned_nans, X_test_classification_cleaned_nans, y_train_classification_cleaned_nans, y_test_classification_cleaned_nans = train_test_split(data_with_nans.dropna().drop(columns=['Experience_Level']), data_with_nans.dropna().Experience_Level, test_size=0.25)\n",
        "X_train_classification, X_test_classification, y_train_classification, y_test_classification = train_test_split(data.drop(columns=['Experience_Level']), data.Experience_Level, test_size=0.25)\n",
        "\n",
        "X_train_classification.head()"
      ],
      "metadata": {
        "colab": {
          "base_uri": "https://localhost:8080/",
          "height": 243
        },
        "id": "1TOhSjTEETgo",
        "outputId": "7f3984e6-5468-478e-bd1d-30346a04ed4b"
      },
      "execution_count": null,
      "outputs": [
        {
          "output_type": "execute_result",
          "data": {
            "text/plain": [
              "     Age  Gender  Weight (kg)  Height (m)  Max_BPM  Avg_BPM  Resting_BPM  \\\n",
              "354   25    Male         76.5        1.96      180      120           59   \n",
              "98    45  Female         59.4        1.51      169      142           65   \n",
              "951   49    Male         57.2        1.89      192      135           62   \n",
              "825   58  Female         56.5        1.70      170      122           57   \n",
              "569   53    Male         61.0        1.63      170      124           74   \n",
              "\n",
              "     Session_Duration (hours)  Calories_Burned Workout_Type  Fat_Percentage  \\\n",
              "354                      0.67            442.0     Strength            23.2   \n",
              "98                       1.15            735.0     Strength            33.1   \n",
              "951                      1.14            762.0       Cardio            21.1   \n",
              "825                      0.74            406.0         Yoga            27.0   \n",
              "569                      0.54            331.0       Cardio            20.0   \n",
              "\n",
              "     Water_Intake (liters)  Workout_Frequency (days/week)    BMI  \n",
              "354                    2.3                              3  19.91  \n",
              "98                     1.9                              4  26.05  \n",
              "951                    3.5                              2  16.01  \n",
              "825                    2.7                              2  19.55  \n",
              "569                    3.4                              3  22.96  "
            ],
            "text/html": [
              "\n",
              "  <div id=\"df-c4bcd6a2-2a37-4a3e-8171-7a36b2a45a0c\" class=\"colab-df-container\">\n",
              "    <div>\n",
              "<style scoped>\n",
              "    .dataframe tbody tr th:only-of-type {\n",
              "        vertical-align: middle;\n",
              "    }\n",
              "\n",
              "    .dataframe tbody tr th {\n",
              "        vertical-align: top;\n",
              "    }\n",
              "\n",
              "    .dataframe thead th {\n",
              "        text-align: right;\n",
              "    }\n",
              "</style>\n",
              "<table border=\"1\" class=\"dataframe\">\n",
              "  <thead>\n",
              "    <tr style=\"text-align: right;\">\n",
              "      <th></th>\n",
              "      <th>Age</th>\n",
              "      <th>Gender</th>\n",
              "      <th>Weight (kg)</th>\n",
              "      <th>Height (m)</th>\n",
              "      <th>Max_BPM</th>\n",
              "      <th>Avg_BPM</th>\n",
              "      <th>Resting_BPM</th>\n",
              "      <th>Session_Duration (hours)</th>\n",
              "      <th>Calories_Burned</th>\n",
              "      <th>Workout_Type</th>\n",
              "      <th>Fat_Percentage</th>\n",
              "      <th>Water_Intake (liters)</th>\n",
              "      <th>Workout_Frequency (days/week)</th>\n",
              "      <th>BMI</th>\n",
              "    </tr>\n",
              "  </thead>\n",
              "  <tbody>\n",
              "    <tr>\n",
              "      <th>354</th>\n",
              "      <td>25</td>\n",
              "      <td>Male</td>\n",
              "      <td>76.5</td>\n",
              "      <td>1.96</td>\n",
              "      <td>180</td>\n",
              "      <td>120</td>\n",
              "      <td>59</td>\n",
              "      <td>0.67</td>\n",
              "      <td>442.0</td>\n",
              "      <td>Strength</td>\n",
              "      <td>23.2</td>\n",
              "      <td>2.3</td>\n",
              "      <td>3</td>\n",
              "      <td>19.91</td>\n",
              "    </tr>\n",
              "    <tr>\n",
              "      <th>98</th>\n",
              "      <td>45</td>\n",
              "      <td>Female</td>\n",
              "      <td>59.4</td>\n",
              "      <td>1.51</td>\n",
              "      <td>169</td>\n",
              "      <td>142</td>\n",
              "      <td>65</td>\n",
              "      <td>1.15</td>\n",
              "      <td>735.0</td>\n",
              "      <td>Strength</td>\n",
              "      <td>33.1</td>\n",
              "      <td>1.9</td>\n",
              "      <td>4</td>\n",
              "      <td>26.05</td>\n",
              "    </tr>\n",
              "    <tr>\n",
              "      <th>951</th>\n",
              "      <td>49</td>\n",
              "      <td>Male</td>\n",
              "      <td>57.2</td>\n",
              "      <td>1.89</td>\n",
              "      <td>192</td>\n",
              "      <td>135</td>\n",
              "      <td>62</td>\n",
              "      <td>1.14</td>\n",
              "      <td>762.0</td>\n",
              "      <td>Cardio</td>\n",
              "      <td>21.1</td>\n",
              "      <td>3.5</td>\n",
              "      <td>2</td>\n",
              "      <td>16.01</td>\n",
              "    </tr>\n",
              "    <tr>\n",
              "      <th>825</th>\n",
              "      <td>58</td>\n",
              "      <td>Female</td>\n",
              "      <td>56.5</td>\n",
              "      <td>1.70</td>\n",
              "      <td>170</td>\n",
              "      <td>122</td>\n",
              "      <td>57</td>\n",
              "      <td>0.74</td>\n",
              "      <td>406.0</td>\n",
              "      <td>Yoga</td>\n",
              "      <td>27.0</td>\n",
              "      <td>2.7</td>\n",
              "      <td>2</td>\n",
              "      <td>19.55</td>\n",
              "    </tr>\n",
              "    <tr>\n",
              "      <th>569</th>\n",
              "      <td>53</td>\n",
              "      <td>Male</td>\n",
              "      <td>61.0</td>\n",
              "      <td>1.63</td>\n",
              "      <td>170</td>\n",
              "      <td>124</td>\n",
              "      <td>74</td>\n",
              "      <td>0.54</td>\n",
              "      <td>331.0</td>\n",
              "      <td>Cardio</td>\n",
              "      <td>20.0</td>\n",
              "      <td>3.4</td>\n",
              "      <td>3</td>\n",
              "      <td>22.96</td>\n",
              "    </tr>\n",
              "  </tbody>\n",
              "</table>\n",
              "</div>\n",
              "    <div class=\"colab-df-buttons\">\n",
              "\n",
              "  <div class=\"colab-df-container\">\n",
              "    <button class=\"colab-df-convert\" onclick=\"convertToInteractive('df-c4bcd6a2-2a37-4a3e-8171-7a36b2a45a0c')\"\n",
              "            title=\"Convert this dataframe to an interactive table.\"\n",
              "            style=\"display:none;\">\n",
              "\n",
              "  <svg xmlns=\"http://www.w3.org/2000/svg\" height=\"24px\" viewBox=\"0 -960 960 960\">\n",
              "    <path d=\"M120-120v-720h720v720H120Zm60-500h600v-160H180v160Zm220 220h160v-160H400v160Zm0 220h160v-160H400v160ZM180-400h160v-160H180v160Zm440 0h160v-160H620v160ZM180-180h160v-160H180v160Zm440 0h160v-160H620v160Z\"/>\n",
              "  </svg>\n",
              "    </button>\n",
              "\n",
              "  <style>\n",
              "    .colab-df-container {\n",
              "      display:flex;\n",
              "      gap: 12px;\n",
              "    }\n",
              "\n",
              "    .colab-df-convert {\n",
              "      background-color: #E8F0FE;\n",
              "      border: none;\n",
              "      border-radius: 50%;\n",
              "      cursor: pointer;\n",
              "      display: none;\n",
              "      fill: #1967D2;\n",
              "      height: 32px;\n",
              "      padding: 0 0 0 0;\n",
              "      width: 32px;\n",
              "    }\n",
              "\n",
              "    .colab-df-convert:hover {\n",
              "      background-color: #E2EBFA;\n",
              "      box-shadow: 0px 1px 2px rgba(60, 64, 67, 0.3), 0px 1px 3px 1px rgba(60, 64, 67, 0.15);\n",
              "      fill: #174EA6;\n",
              "    }\n",
              "\n",
              "    .colab-df-buttons div {\n",
              "      margin-bottom: 4px;\n",
              "    }\n",
              "\n",
              "    [theme=dark] .colab-df-convert {\n",
              "      background-color: #3B4455;\n",
              "      fill: #D2E3FC;\n",
              "    }\n",
              "\n",
              "    [theme=dark] .colab-df-convert:hover {\n",
              "      background-color: #434B5C;\n",
              "      box-shadow: 0px 1px 3px 1px rgba(0, 0, 0, 0.15);\n",
              "      filter: drop-shadow(0px 1px 2px rgba(0, 0, 0, 0.3));\n",
              "      fill: #FFFFFF;\n",
              "    }\n",
              "  </style>\n",
              "\n",
              "    <script>\n",
              "      const buttonEl =\n",
              "        document.querySelector('#df-c4bcd6a2-2a37-4a3e-8171-7a36b2a45a0c button.colab-df-convert');\n",
              "      buttonEl.style.display =\n",
              "        google.colab.kernel.accessAllowed ? 'block' : 'none';\n",
              "\n",
              "      async function convertToInteractive(key) {\n",
              "        const element = document.querySelector('#df-c4bcd6a2-2a37-4a3e-8171-7a36b2a45a0c');\n",
              "        const dataTable =\n",
              "          await google.colab.kernel.invokeFunction('convertToInteractive',\n",
              "                                                    [key], {});\n",
              "        if (!dataTable) return;\n",
              "\n",
              "        const docLinkHtml = 'Like what you see? Visit the ' +\n",
              "          '<a target=\"_blank\" href=https://colab.research.google.com/notebooks/data_table.ipynb>data table notebook</a>'\n",
              "          + ' to learn more about interactive tables.';\n",
              "        element.innerHTML = '';\n",
              "        dataTable['output_type'] = 'display_data';\n",
              "        await google.colab.output.renderOutput(dataTable, element);\n",
              "        const docLink = document.createElement('div');\n",
              "        docLink.innerHTML = docLinkHtml;\n",
              "        element.appendChild(docLink);\n",
              "      }\n",
              "    </script>\n",
              "  </div>\n",
              "\n",
              "\n",
              "<div id=\"df-2324b4f4-fbee-498d-ae63-d8cafaa09b83\">\n",
              "  <button class=\"colab-df-quickchart\" onclick=\"quickchart('df-2324b4f4-fbee-498d-ae63-d8cafaa09b83')\"\n",
              "            title=\"Suggest charts\"\n",
              "            style=\"display:none;\">\n",
              "\n",
              "<svg xmlns=\"http://www.w3.org/2000/svg\" height=\"24px\"viewBox=\"0 0 24 24\"\n",
              "     width=\"24px\">\n",
              "    <g>\n",
              "        <path d=\"M19 3H5c-1.1 0-2 .9-2 2v14c0 1.1.9 2 2 2h14c1.1 0 2-.9 2-2V5c0-1.1-.9-2-2-2zM9 17H7v-7h2v7zm4 0h-2V7h2v10zm4 0h-2v-4h2v4z\"/>\n",
              "    </g>\n",
              "</svg>\n",
              "  </button>\n",
              "\n",
              "<style>\n",
              "  .colab-df-quickchart {\n",
              "      --bg-color: #E8F0FE;\n",
              "      --fill-color: #1967D2;\n",
              "      --hover-bg-color: #E2EBFA;\n",
              "      --hover-fill-color: #174EA6;\n",
              "      --disabled-fill-color: #AAA;\n",
              "      --disabled-bg-color: #DDD;\n",
              "  }\n",
              "\n",
              "  [theme=dark] .colab-df-quickchart {\n",
              "      --bg-color: #3B4455;\n",
              "      --fill-color: #D2E3FC;\n",
              "      --hover-bg-color: #434B5C;\n",
              "      --hover-fill-color: #FFFFFF;\n",
              "      --disabled-bg-color: #3B4455;\n",
              "      --disabled-fill-color: #666;\n",
              "  }\n",
              "\n",
              "  .colab-df-quickchart {\n",
              "    background-color: var(--bg-color);\n",
              "    border: none;\n",
              "    border-radius: 50%;\n",
              "    cursor: pointer;\n",
              "    display: none;\n",
              "    fill: var(--fill-color);\n",
              "    height: 32px;\n",
              "    padding: 0;\n",
              "    width: 32px;\n",
              "  }\n",
              "\n",
              "  .colab-df-quickchart:hover {\n",
              "    background-color: var(--hover-bg-color);\n",
              "    box-shadow: 0 1px 2px rgba(60, 64, 67, 0.3), 0 1px 3px 1px rgba(60, 64, 67, 0.15);\n",
              "    fill: var(--button-hover-fill-color);\n",
              "  }\n",
              "\n",
              "  .colab-df-quickchart-complete:disabled,\n",
              "  .colab-df-quickchart-complete:disabled:hover {\n",
              "    background-color: var(--disabled-bg-color);\n",
              "    fill: var(--disabled-fill-color);\n",
              "    box-shadow: none;\n",
              "  }\n",
              "\n",
              "  .colab-df-spinner {\n",
              "    border: 2px solid var(--fill-color);\n",
              "    border-color: transparent;\n",
              "    border-bottom-color: var(--fill-color);\n",
              "    animation:\n",
              "      spin 1s steps(1) infinite;\n",
              "  }\n",
              "\n",
              "  @keyframes spin {\n",
              "    0% {\n",
              "      border-color: transparent;\n",
              "      border-bottom-color: var(--fill-color);\n",
              "      border-left-color: var(--fill-color);\n",
              "    }\n",
              "    20% {\n",
              "      border-color: transparent;\n",
              "      border-left-color: var(--fill-color);\n",
              "      border-top-color: var(--fill-color);\n",
              "    }\n",
              "    30% {\n",
              "      border-color: transparent;\n",
              "      border-left-color: var(--fill-color);\n",
              "      border-top-color: var(--fill-color);\n",
              "      border-right-color: var(--fill-color);\n",
              "    }\n",
              "    40% {\n",
              "      border-color: transparent;\n",
              "      border-right-color: var(--fill-color);\n",
              "      border-top-color: var(--fill-color);\n",
              "    }\n",
              "    60% {\n",
              "      border-color: transparent;\n",
              "      border-right-color: var(--fill-color);\n",
              "    }\n",
              "    80% {\n",
              "      border-color: transparent;\n",
              "      border-right-color: var(--fill-color);\n",
              "      border-bottom-color: var(--fill-color);\n",
              "    }\n",
              "    90% {\n",
              "      border-color: transparent;\n",
              "      border-bottom-color: var(--fill-color);\n",
              "    }\n",
              "  }\n",
              "</style>\n",
              "\n",
              "  <script>\n",
              "    async function quickchart(key) {\n",
              "      const quickchartButtonEl =\n",
              "        document.querySelector('#' + key + ' button');\n",
              "      quickchartButtonEl.disabled = true;  // To prevent multiple clicks.\n",
              "      quickchartButtonEl.classList.add('colab-df-spinner');\n",
              "      try {\n",
              "        const charts = await google.colab.kernel.invokeFunction(\n",
              "            'suggestCharts', [key], {});\n",
              "      } catch (error) {\n",
              "        console.error('Error during call to suggestCharts:', error);\n",
              "      }\n",
              "      quickchartButtonEl.classList.remove('colab-df-spinner');\n",
              "      quickchartButtonEl.classList.add('colab-df-quickchart-complete');\n",
              "    }\n",
              "    (() => {\n",
              "      let quickchartButtonEl =\n",
              "        document.querySelector('#df-2324b4f4-fbee-498d-ae63-d8cafaa09b83 button');\n",
              "      quickchartButtonEl.style.display =\n",
              "        google.colab.kernel.accessAllowed ? 'block' : 'none';\n",
              "    })();\n",
              "  </script>\n",
              "</div>\n",
              "    </div>\n",
              "  </div>\n"
            ],
            "application/vnd.google.colaboratory.intrinsic+json": {
              "type": "dataframe",
              "variable_name": "X_train_classification",
              "summary": "{\n  \"name\": \"X_train_classification\",\n  \"rows\": 729,\n  \"fields\": [\n    {\n      \"column\": \"Age\",\n      \"properties\": {\n        \"dtype\": \"number\",\n        \"std\": 12,\n        \"min\": 18,\n        \"max\": 59,\n        \"num_unique_values\": 42,\n        \"samples\": [\n          22,\n          47,\n          50\n        ],\n        \"semantic_type\": \"\",\n        \"description\": \"\"\n      }\n    },\n    {\n      \"column\": \"Gender\",\n      \"properties\": {\n        \"dtype\": \"category\",\n        \"num_unique_values\": 2,\n        \"samples\": [\n          \"Female\",\n          \"Male\"\n        ],\n        \"semantic_type\": \"\",\n        \"description\": \"\"\n      }\n    },\n    {\n      \"column\": \"Weight (kg)\",\n      \"properties\": {\n        \"dtype\": \"number\",\n        \"std\": 21.671972575262117,\n        \"min\": 40.0,\n        \"max\": 129.9,\n        \"num_unique_values\": 451,\n        \"samples\": [\n          83.1,\n          51.5\n        ],\n        \"semantic_type\": \"\",\n        \"description\": \"\"\n      }\n    },\n    {\n      \"column\": \"Height (m)\",\n      \"properties\": {\n        \"dtype\": \"number\",\n        \"std\": 0.12635076859561212,\n        \"min\": 1.5,\n        \"max\": 2.0,\n        \"num_unique_values\": 51,\n        \"samples\": [\n          1.59,\n          1.85\n        ],\n        \"semantic_type\": \"\",\n        \"description\": \"\"\n      }\n    },\n    {\n      \"column\": \"Max_BPM\",\n      \"properties\": {\n        \"dtype\": \"number\",\n        \"std\": 11,\n        \"min\": 160,\n        \"max\": 199,\n        \"num_unique_values\": 40,\n        \"samples\": [\n          197,\n          166\n        ],\n        \"semantic_type\": \"\",\n        \"description\": \"\"\n      }\n    },\n    {\n      \"column\": \"Avg_BPM\",\n      \"properties\": {\n        \"dtype\": \"number\",\n        \"std\": 14,\n        \"min\": 120,\n        \"max\": 169,\n        \"num_unique_values\": 50,\n        \"samples\": [\n          143,\n          151\n        ],\n        \"semantic_type\": \"\",\n        \"description\": \"\"\n      }\n    },\n    {\n      \"column\": \"Resting_BPM\",\n      \"properties\": {\n        \"dtype\": \"number\",\n        \"std\": 7,\n        \"min\": 50,\n        \"max\": 74,\n        \"num_unique_values\": 25,\n        \"samples\": [\n          66,\n          58\n        ],\n        \"semantic_type\": \"\",\n        \"description\": \"\"\n      }\n    },\n    {\n      \"column\": \"Session_Duration (hours)\",\n      \"properties\": {\n        \"dtype\": \"number\",\n        \"std\": 0.3444150346742706,\n        \"min\": 0.5,\n        \"max\": 1.99,\n        \"num_unique_values\": 145,\n        \"samples\": [\n          1.6,\n          1.68\n        ],\n        \"semantic_type\": \"\",\n        \"description\": \"\"\n      }\n    },\n    {\n      \"column\": \"Calories_Burned\",\n      \"properties\": {\n        \"dtype\": \"number\",\n        \"std\": 272.188171047627,\n        \"min\": 319.0,\n        \"max\": 1766.0,\n        \"num_unique_values\": 520,\n        \"samples\": [\n          979.0,\n          530.0\n        ],\n        \"semantic_type\": \"\",\n        \"description\": \"\"\n      }\n    },\n    {\n      \"column\": \"Workout_Type\",\n      \"properties\": {\n        \"dtype\": \"category\",\n        \"num_unique_values\": 4,\n        \"samples\": [\n          \"Cardio\",\n          \"HIIT\"\n        ],\n        \"semantic_type\": \"\",\n        \"description\": \"\"\n      }\n    },\n    {\n      \"column\": \"Fat_Percentage\",\n      \"properties\": {\n        \"dtype\": \"number\",\n        \"std\": 6.3037983987393105,\n        \"min\": 10.0,\n        \"max\": 35.0,\n        \"num_unique_values\": 220,\n        \"samples\": [\n          27.3,\n          31.8\n        ],\n        \"semantic_type\": \"\",\n        \"description\": \"\"\n      }\n    },\n    {\n      \"column\": \"Water_Intake (liters)\",\n      \"properties\": {\n        \"dtype\": \"number\",\n        \"std\": 0.6123843435141444,\n        \"min\": 1.5,\n        \"max\": 3.7,\n        \"num_unique_values\": 23,\n        \"samples\": [\n          3.1,\n          2.1\n        ],\n        \"semantic_type\": \"\",\n        \"description\": \"\"\n      }\n    },\n    {\n      \"column\": \"Workout_Frequency (days/week)\",\n      \"properties\": {\n        \"dtype\": \"number\",\n        \"std\": 0,\n        \"min\": 2,\n        \"max\": 5,\n        \"num_unique_values\": 4,\n        \"samples\": [\n          4,\n          5\n        ],\n        \"semantic_type\": \"\",\n        \"description\": \"\"\n      }\n    },\n    {\n      \"column\": \"BMI\",\n      \"properties\": {\n        \"dtype\": \"number\",\n        \"std\": 6.877812679782278,\n        \"min\": 12.32,\n        \"max\": 49.84,\n        \"num_unique_values\": 616,\n        \"samples\": [\n          16.5,\n          28.87\n        ],\n        \"semantic_type\": \"\",\n        \"description\": \"\"\n      }\n    }\n  ]\n}"
            }
          },
          "metadata": {},
          "execution_count": 16
        }
      ]
    },
    {
      "cell_type": "code",
      "source": [
        "y_test_classification"
      ],
      "metadata": {
        "colab": {
          "base_uri": "https://localhost:8080/",
          "height": 458
        },
        "id": "TpNUPnMpFL4x",
        "outputId": "f5b404d6-e857-44f2-c965-17d02bc6d9cd"
      },
      "execution_count": null,
      "outputs": [
        {
          "output_type": "execute_result",
          "data": {
            "text/plain": [
              "138    1\n",
              "279    1\n",
              "361    1\n",
              "929    1\n",
              "629    2\n",
              "      ..\n",
              "516    2\n",
              "544    2\n",
              "773    1\n",
              "749    2\n",
              "728    3\n",
              "Name: Experience_Level, Length: 244, dtype: int64"
            ],
            "text/html": [
              "<div>\n",
              "<style scoped>\n",
              "    .dataframe tbody tr th:only-of-type {\n",
              "        vertical-align: middle;\n",
              "    }\n",
              "\n",
              "    .dataframe tbody tr th {\n",
              "        vertical-align: top;\n",
              "    }\n",
              "\n",
              "    .dataframe thead th {\n",
              "        text-align: right;\n",
              "    }\n",
              "</style>\n",
              "<table border=\"1\" class=\"dataframe\">\n",
              "  <thead>\n",
              "    <tr style=\"text-align: right;\">\n",
              "      <th></th>\n",
              "      <th>Experience_Level</th>\n",
              "    </tr>\n",
              "  </thead>\n",
              "  <tbody>\n",
              "    <tr>\n",
              "      <th>138</th>\n",
              "      <td>1</td>\n",
              "    </tr>\n",
              "    <tr>\n",
              "      <th>279</th>\n",
              "      <td>1</td>\n",
              "    </tr>\n",
              "    <tr>\n",
              "      <th>361</th>\n",
              "      <td>1</td>\n",
              "    </tr>\n",
              "    <tr>\n",
              "      <th>929</th>\n",
              "      <td>1</td>\n",
              "    </tr>\n",
              "    <tr>\n",
              "      <th>629</th>\n",
              "      <td>2</td>\n",
              "    </tr>\n",
              "    <tr>\n",
              "      <th>...</th>\n",
              "      <td>...</td>\n",
              "    </tr>\n",
              "    <tr>\n",
              "      <th>516</th>\n",
              "      <td>2</td>\n",
              "    </tr>\n",
              "    <tr>\n",
              "      <th>544</th>\n",
              "      <td>2</td>\n",
              "    </tr>\n",
              "    <tr>\n",
              "      <th>773</th>\n",
              "      <td>1</td>\n",
              "    </tr>\n",
              "    <tr>\n",
              "      <th>749</th>\n",
              "      <td>2</td>\n",
              "    </tr>\n",
              "    <tr>\n",
              "      <th>728</th>\n",
              "      <td>3</td>\n",
              "    </tr>\n",
              "  </tbody>\n",
              "</table>\n",
              "<p>244 rows × 1 columns</p>\n",
              "</div><br><label><b>dtype:</b> int64</label>"
            ]
          },
          "metadata": {},
          "execution_count": 17
        }
      ]
    },
    {
      "cell_type": "code",
      "source": [
        "X_train_regression_nans, X_test_regression_nans, y_train_regression_nans, y_test_regression_nans = train_test_split(data_with_nans.drop(columns=['Calories_Burned']), data_with_nans.Calories_Burned, test_size=0.25)\n",
        "X_train_regression, X_test_regression, y_train_regression, y_test_regression = train_test_split(data.drop(columns=['Calories_Burned']), data.Calories_Burned, test_size=0.25)\n",
        "\n",
        "X_train_regression.head()"
      ],
      "metadata": {
        "colab": {
          "base_uri": "https://localhost:8080/",
          "height": 243
        },
        "id": "L07h1Uun1WQx",
        "outputId": "3e2a8524-3d20-4791-b3cf-b42bf1923df2"
      },
      "execution_count": null,
      "outputs": [
        {
          "output_type": "execute_result",
          "data": {
            "text/plain": [
              "     Age  Gender  Weight (kg)  Height (m)  Max_BPM  Avg_BPM  Resting_BPM  \\\n",
              "809   54  Female         58.4        1.59      186      166           73   \n",
              "492   52    Male         85.5        1.80      190      136           66   \n",
              "891   30    Male         90.0        1.66      165      152           71   \n",
              "687   18    Male        125.9        1.67      172      153           60   \n",
              "174   49    Male         79.2        1.72      194      128           69   \n",
              "\n",
              "     Session_Duration (hours) Workout_Type  Fat_Percentage  \\\n",
              "809                      1.08       Cardio            32.5   \n",
              "492                      1.70     Strength            10.1   \n",
              "891                      1.32       Cardio            26.6   \n",
              "687                      1.46         Yoga            20.6   \n",
              "174                      1.46         Yoga            29.9   \n",
              "\n",
              "     Water_Intake (liters)  Workout_Frequency (days/week)  Experience_Level  \\\n",
              "809                    1.9                              2                 1   \n",
              "492                    3.5                              5                 3   \n",
              "891                    2.1                              4                 2   \n",
              "687                    2.2                              3                 2   \n",
              "174                    3.3                              3                 1   \n",
              "\n",
              "       BMI  \n",
              "809  23.10  \n",
              "492  26.39  \n",
              "891  32.66  \n",
              "687  45.14  \n",
              "174  26.77  "
            ],
            "text/html": [
              "\n",
              "  <div id=\"df-3a454b99-55b4-4df1-aea5-7d6989d86125\" class=\"colab-df-container\">\n",
              "    <div>\n",
              "<style scoped>\n",
              "    .dataframe tbody tr th:only-of-type {\n",
              "        vertical-align: middle;\n",
              "    }\n",
              "\n",
              "    .dataframe tbody tr th {\n",
              "        vertical-align: top;\n",
              "    }\n",
              "\n",
              "    .dataframe thead th {\n",
              "        text-align: right;\n",
              "    }\n",
              "</style>\n",
              "<table border=\"1\" class=\"dataframe\">\n",
              "  <thead>\n",
              "    <tr style=\"text-align: right;\">\n",
              "      <th></th>\n",
              "      <th>Age</th>\n",
              "      <th>Gender</th>\n",
              "      <th>Weight (kg)</th>\n",
              "      <th>Height (m)</th>\n",
              "      <th>Max_BPM</th>\n",
              "      <th>Avg_BPM</th>\n",
              "      <th>Resting_BPM</th>\n",
              "      <th>Session_Duration (hours)</th>\n",
              "      <th>Workout_Type</th>\n",
              "      <th>Fat_Percentage</th>\n",
              "      <th>Water_Intake (liters)</th>\n",
              "      <th>Workout_Frequency (days/week)</th>\n",
              "      <th>Experience_Level</th>\n",
              "      <th>BMI</th>\n",
              "    </tr>\n",
              "  </thead>\n",
              "  <tbody>\n",
              "    <tr>\n",
              "      <th>809</th>\n",
              "      <td>54</td>\n",
              "      <td>Female</td>\n",
              "      <td>58.4</td>\n",
              "      <td>1.59</td>\n",
              "      <td>186</td>\n",
              "      <td>166</td>\n",
              "      <td>73</td>\n",
              "      <td>1.08</td>\n",
              "      <td>Cardio</td>\n",
              "      <td>32.5</td>\n",
              "      <td>1.9</td>\n",
              "      <td>2</td>\n",
              "      <td>1</td>\n",
              "      <td>23.10</td>\n",
              "    </tr>\n",
              "    <tr>\n",
              "      <th>492</th>\n",
              "      <td>52</td>\n",
              "      <td>Male</td>\n",
              "      <td>85.5</td>\n",
              "      <td>1.80</td>\n",
              "      <td>190</td>\n",
              "      <td>136</td>\n",
              "      <td>66</td>\n",
              "      <td>1.70</td>\n",
              "      <td>Strength</td>\n",
              "      <td>10.1</td>\n",
              "      <td>3.5</td>\n",
              "      <td>5</td>\n",
              "      <td>3</td>\n",
              "      <td>26.39</td>\n",
              "    </tr>\n",
              "    <tr>\n",
              "      <th>891</th>\n",
              "      <td>30</td>\n",
              "      <td>Male</td>\n",
              "      <td>90.0</td>\n",
              "      <td>1.66</td>\n",
              "      <td>165</td>\n",
              "      <td>152</td>\n",
              "      <td>71</td>\n",
              "      <td>1.32</td>\n",
              "      <td>Cardio</td>\n",
              "      <td>26.6</td>\n",
              "      <td>2.1</td>\n",
              "      <td>4</td>\n",
              "      <td>2</td>\n",
              "      <td>32.66</td>\n",
              "    </tr>\n",
              "    <tr>\n",
              "      <th>687</th>\n",
              "      <td>18</td>\n",
              "      <td>Male</td>\n",
              "      <td>125.9</td>\n",
              "      <td>1.67</td>\n",
              "      <td>172</td>\n",
              "      <td>153</td>\n",
              "      <td>60</td>\n",
              "      <td>1.46</td>\n",
              "      <td>Yoga</td>\n",
              "      <td>20.6</td>\n",
              "      <td>2.2</td>\n",
              "      <td>3</td>\n",
              "      <td>2</td>\n",
              "      <td>45.14</td>\n",
              "    </tr>\n",
              "    <tr>\n",
              "      <th>174</th>\n",
              "      <td>49</td>\n",
              "      <td>Male</td>\n",
              "      <td>79.2</td>\n",
              "      <td>1.72</td>\n",
              "      <td>194</td>\n",
              "      <td>128</td>\n",
              "      <td>69</td>\n",
              "      <td>1.46</td>\n",
              "      <td>Yoga</td>\n",
              "      <td>29.9</td>\n",
              "      <td>3.3</td>\n",
              "      <td>3</td>\n",
              "      <td>1</td>\n",
              "      <td>26.77</td>\n",
              "    </tr>\n",
              "  </tbody>\n",
              "</table>\n",
              "</div>\n",
              "    <div class=\"colab-df-buttons\">\n",
              "\n",
              "  <div class=\"colab-df-container\">\n",
              "    <button class=\"colab-df-convert\" onclick=\"convertToInteractive('df-3a454b99-55b4-4df1-aea5-7d6989d86125')\"\n",
              "            title=\"Convert this dataframe to an interactive table.\"\n",
              "            style=\"display:none;\">\n",
              "\n",
              "  <svg xmlns=\"http://www.w3.org/2000/svg\" height=\"24px\" viewBox=\"0 -960 960 960\">\n",
              "    <path d=\"M120-120v-720h720v720H120Zm60-500h600v-160H180v160Zm220 220h160v-160H400v160Zm0 220h160v-160H400v160ZM180-400h160v-160H180v160Zm440 0h160v-160H620v160ZM180-180h160v-160H180v160Zm440 0h160v-160H620v160Z\"/>\n",
              "  </svg>\n",
              "    </button>\n",
              "\n",
              "  <style>\n",
              "    .colab-df-container {\n",
              "      display:flex;\n",
              "      gap: 12px;\n",
              "    }\n",
              "\n",
              "    .colab-df-convert {\n",
              "      background-color: #E8F0FE;\n",
              "      border: none;\n",
              "      border-radius: 50%;\n",
              "      cursor: pointer;\n",
              "      display: none;\n",
              "      fill: #1967D2;\n",
              "      height: 32px;\n",
              "      padding: 0 0 0 0;\n",
              "      width: 32px;\n",
              "    }\n",
              "\n",
              "    .colab-df-convert:hover {\n",
              "      background-color: #E2EBFA;\n",
              "      box-shadow: 0px 1px 2px rgba(60, 64, 67, 0.3), 0px 1px 3px 1px rgba(60, 64, 67, 0.15);\n",
              "      fill: #174EA6;\n",
              "    }\n",
              "\n",
              "    .colab-df-buttons div {\n",
              "      margin-bottom: 4px;\n",
              "    }\n",
              "\n",
              "    [theme=dark] .colab-df-convert {\n",
              "      background-color: #3B4455;\n",
              "      fill: #D2E3FC;\n",
              "    }\n",
              "\n",
              "    [theme=dark] .colab-df-convert:hover {\n",
              "      background-color: #434B5C;\n",
              "      box-shadow: 0px 1px 3px 1px rgba(0, 0, 0, 0.15);\n",
              "      filter: drop-shadow(0px 1px 2px rgba(0, 0, 0, 0.3));\n",
              "      fill: #FFFFFF;\n",
              "    }\n",
              "  </style>\n",
              "\n",
              "    <script>\n",
              "      const buttonEl =\n",
              "        document.querySelector('#df-3a454b99-55b4-4df1-aea5-7d6989d86125 button.colab-df-convert');\n",
              "      buttonEl.style.display =\n",
              "        google.colab.kernel.accessAllowed ? 'block' : 'none';\n",
              "\n",
              "      async function convertToInteractive(key) {\n",
              "        const element = document.querySelector('#df-3a454b99-55b4-4df1-aea5-7d6989d86125');\n",
              "        const dataTable =\n",
              "          await google.colab.kernel.invokeFunction('convertToInteractive',\n",
              "                                                    [key], {});\n",
              "        if (!dataTable) return;\n",
              "\n",
              "        const docLinkHtml = 'Like what you see? Visit the ' +\n",
              "          '<a target=\"_blank\" href=https://colab.research.google.com/notebooks/data_table.ipynb>data table notebook</a>'\n",
              "          + ' to learn more about interactive tables.';\n",
              "        element.innerHTML = '';\n",
              "        dataTable['output_type'] = 'display_data';\n",
              "        await google.colab.output.renderOutput(dataTable, element);\n",
              "        const docLink = document.createElement('div');\n",
              "        docLink.innerHTML = docLinkHtml;\n",
              "        element.appendChild(docLink);\n",
              "      }\n",
              "    </script>\n",
              "  </div>\n",
              "\n",
              "\n",
              "<div id=\"df-154d5cad-ac07-4089-8c65-1f6fcfd07946\">\n",
              "  <button class=\"colab-df-quickchart\" onclick=\"quickchart('df-154d5cad-ac07-4089-8c65-1f6fcfd07946')\"\n",
              "            title=\"Suggest charts\"\n",
              "            style=\"display:none;\">\n",
              "\n",
              "<svg xmlns=\"http://www.w3.org/2000/svg\" height=\"24px\"viewBox=\"0 0 24 24\"\n",
              "     width=\"24px\">\n",
              "    <g>\n",
              "        <path d=\"M19 3H5c-1.1 0-2 .9-2 2v14c0 1.1.9 2 2 2h14c1.1 0 2-.9 2-2V5c0-1.1-.9-2-2-2zM9 17H7v-7h2v7zm4 0h-2V7h2v10zm4 0h-2v-4h2v4z\"/>\n",
              "    </g>\n",
              "</svg>\n",
              "  </button>\n",
              "\n",
              "<style>\n",
              "  .colab-df-quickchart {\n",
              "      --bg-color: #E8F0FE;\n",
              "      --fill-color: #1967D2;\n",
              "      --hover-bg-color: #E2EBFA;\n",
              "      --hover-fill-color: #174EA6;\n",
              "      --disabled-fill-color: #AAA;\n",
              "      --disabled-bg-color: #DDD;\n",
              "  }\n",
              "\n",
              "  [theme=dark] .colab-df-quickchart {\n",
              "      --bg-color: #3B4455;\n",
              "      --fill-color: #D2E3FC;\n",
              "      --hover-bg-color: #434B5C;\n",
              "      --hover-fill-color: #FFFFFF;\n",
              "      --disabled-bg-color: #3B4455;\n",
              "      --disabled-fill-color: #666;\n",
              "  }\n",
              "\n",
              "  .colab-df-quickchart {\n",
              "    background-color: var(--bg-color);\n",
              "    border: none;\n",
              "    border-radius: 50%;\n",
              "    cursor: pointer;\n",
              "    display: none;\n",
              "    fill: var(--fill-color);\n",
              "    height: 32px;\n",
              "    padding: 0;\n",
              "    width: 32px;\n",
              "  }\n",
              "\n",
              "  .colab-df-quickchart:hover {\n",
              "    background-color: var(--hover-bg-color);\n",
              "    box-shadow: 0 1px 2px rgba(60, 64, 67, 0.3), 0 1px 3px 1px rgba(60, 64, 67, 0.15);\n",
              "    fill: var(--button-hover-fill-color);\n",
              "  }\n",
              "\n",
              "  .colab-df-quickchart-complete:disabled,\n",
              "  .colab-df-quickchart-complete:disabled:hover {\n",
              "    background-color: var(--disabled-bg-color);\n",
              "    fill: var(--disabled-fill-color);\n",
              "    box-shadow: none;\n",
              "  }\n",
              "\n",
              "  .colab-df-spinner {\n",
              "    border: 2px solid var(--fill-color);\n",
              "    border-color: transparent;\n",
              "    border-bottom-color: var(--fill-color);\n",
              "    animation:\n",
              "      spin 1s steps(1) infinite;\n",
              "  }\n",
              "\n",
              "  @keyframes spin {\n",
              "    0% {\n",
              "      border-color: transparent;\n",
              "      border-bottom-color: var(--fill-color);\n",
              "      border-left-color: var(--fill-color);\n",
              "    }\n",
              "    20% {\n",
              "      border-color: transparent;\n",
              "      border-left-color: var(--fill-color);\n",
              "      border-top-color: var(--fill-color);\n",
              "    }\n",
              "    30% {\n",
              "      border-color: transparent;\n",
              "      border-left-color: var(--fill-color);\n",
              "      border-top-color: var(--fill-color);\n",
              "      border-right-color: var(--fill-color);\n",
              "    }\n",
              "    40% {\n",
              "      border-color: transparent;\n",
              "      border-right-color: var(--fill-color);\n",
              "      border-top-color: var(--fill-color);\n",
              "    }\n",
              "    60% {\n",
              "      border-color: transparent;\n",
              "      border-right-color: var(--fill-color);\n",
              "    }\n",
              "    80% {\n",
              "      border-color: transparent;\n",
              "      border-right-color: var(--fill-color);\n",
              "      border-bottom-color: var(--fill-color);\n",
              "    }\n",
              "    90% {\n",
              "      border-color: transparent;\n",
              "      border-bottom-color: var(--fill-color);\n",
              "    }\n",
              "  }\n",
              "</style>\n",
              "\n",
              "  <script>\n",
              "    async function quickchart(key) {\n",
              "      const quickchartButtonEl =\n",
              "        document.querySelector('#' + key + ' button');\n",
              "      quickchartButtonEl.disabled = true;  // To prevent multiple clicks.\n",
              "      quickchartButtonEl.classList.add('colab-df-spinner');\n",
              "      try {\n",
              "        const charts = await google.colab.kernel.invokeFunction(\n",
              "            'suggestCharts', [key], {});\n",
              "      } catch (error) {\n",
              "        console.error('Error during call to suggestCharts:', error);\n",
              "      }\n",
              "      quickchartButtonEl.classList.remove('colab-df-spinner');\n",
              "      quickchartButtonEl.classList.add('colab-df-quickchart-complete');\n",
              "    }\n",
              "    (() => {\n",
              "      let quickchartButtonEl =\n",
              "        document.querySelector('#df-154d5cad-ac07-4089-8c65-1f6fcfd07946 button');\n",
              "      quickchartButtonEl.style.display =\n",
              "        google.colab.kernel.accessAllowed ? 'block' : 'none';\n",
              "    })();\n",
              "  </script>\n",
              "</div>\n",
              "    </div>\n",
              "  </div>\n"
            ],
            "application/vnd.google.colaboratory.intrinsic+json": {
              "type": "dataframe",
              "variable_name": "X_train_regression",
              "summary": "{\n  \"name\": \"X_train_regression\",\n  \"rows\": 729,\n  \"fields\": [\n    {\n      \"column\": \"Age\",\n      \"properties\": {\n        \"dtype\": \"number\",\n        \"std\": 12,\n        \"min\": 18,\n        \"max\": 59,\n        \"num_unique_values\": 42,\n        \"samples\": [\n          39,\n          59,\n          34\n        ],\n        \"semantic_type\": \"\",\n        \"description\": \"\"\n      }\n    },\n    {\n      \"column\": \"Gender\",\n      \"properties\": {\n        \"dtype\": \"category\",\n        \"num_unique_values\": 2,\n        \"samples\": [\n          \"Male\",\n          \"Female\"\n        ],\n        \"semantic_type\": \"\",\n        \"description\": \"\"\n      }\n    },\n    {\n      \"column\": \"Weight (kg)\",\n      \"properties\": {\n        \"dtype\": \"number\",\n        \"std\": 21.067821440534132,\n        \"min\": 40.0,\n        \"max\": 129.5,\n        \"num_unique_values\": 443,\n        \"samples\": [\n          61.4,\n          56.4\n        ],\n        \"semantic_type\": \"\",\n        \"description\": \"\"\n      }\n    },\n    {\n      \"column\": \"Height (m)\",\n      \"properties\": {\n        \"dtype\": \"number\",\n        \"std\": 0.12646759920502684,\n        \"min\": 1.5,\n        \"max\": 2.0,\n        \"num_unique_values\": 51,\n        \"samples\": [\n          1.88,\n          1.99\n        ],\n        \"semantic_type\": \"\",\n        \"description\": \"\"\n      }\n    },\n    {\n      \"column\": \"Max_BPM\",\n      \"properties\": {\n        \"dtype\": \"number\",\n        \"std\": 11,\n        \"min\": 160,\n        \"max\": 199,\n        \"num_unique_values\": 40,\n        \"samples\": [\n          161,\n          192\n        ],\n        \"semantic_type\": \"\",\n        \"description\": \"\"\n      }\n    },\n    {\n      \"column\": \"Avg_BPM\",\n      \"properties\": {\n        \"dtype\": \"number\",\n        \"std\": 14,\n        \"min\": 120,\n        \"max\": 169,\n        \"num_unique_values\": 50,\n        \"samples\": [\n          164,\n          131\n        ],\n        \"semantic_type\": \"\",\n        \"description\": \"\"\n      }\n    },\n    {\n      \"column\": \"Resting_BPM\",\n      \"properties\": {\n        \"dtype\": \"number\",\n        \"std\": 7,\n        \"min\": 50,\n        \"max\": 74,\n        \"num_unique_values\": 25,\n        \"samples\": [\n          58,\n          53\n        ],\n        \"semantic_type\": \"\",\n        \"description\": \"\"\n      }\n    },\n    {\n      \"column\": \"Session_Duration (hours)\",\n      \"properties\": {\n        \"dtype\": \"number\",\n        \"std\": 0.3461868323420022,\n        \"min\": 0.5,\n        \"max\": 2.0,\n        \"num_unique_values\": 147,\n        \"samples\": [\n          0.9,\n          1.56\n        ],\n        \"semantic_type\": \"\",\n        \"description\": \"\"\n      }\n    },\n    {\n      \"column\": \"Workout_Type\",\n      \"properties\": {\n        \"dtype\": \"category\",\n        \"num_unique_values\": 4,\n        \"samples\": [\n          \"Strength\",\n          \"HIIT\"\n        ],\n        \"semantic_type\": \"\",\n        \"description\": \"\"\n      }\n    },\n    {\n      \"column\": \"Fat_Percentage\",\n      \"properties\": {\n        \"dtype\": \"number\",\n        \"std\": 6.174296919255482,\n        \"min\": 10.0,\n        \"max\": 35.0,\n        \"num_unique_values\": 219,\n        \"samples\": [\n          11.4,\n          10.9\n        ],\n        \"semantic_type\": \"\",\n        \"description\": \"\"\n      }\n    },\n    {\n      \"column\": \"Water_Intake (liters)\",\n      \"properties\": {\n        \"dtype\": \"number\",\n        \"std\": 0.6023251324683133,\n        \"min\": 1.5,\n        \"max\": 3.7,\n        \"num_unique_values\": 23,\n        \"samples\": [\n          1.8,\n          2.0\n        ],\n        \"semantic_type\": \"\",\n        \"description\": \"\"\n      }\n    },\n    {\n      \"column\": \"Workout_Frequency (days/week)\",\n      \"properties\": {\n        \"dtype\": \"number\",\n        \"std\": 0,\n        \"min\": 2,\n        \"max\": 5,\n        \"num_unique_values\": 4,\n        \"samples\": [\n          5,\n          3\n        ],\n        \"semantic_type\": \"\",\n        \"description\": \"\"\n      }\n    },\n    {\n      \"column\": \"Experience_Level\",\n      \"properties\": {\n        \"dtype\": \"number\",\n        \"std\": 0,\n        \"min\": 1,\n        \"max\": 3,\n        \"num_unique_values\": 3,\n        \"samples\": [\n          1,\n          3\n        ],\n        \"semantic_type\": \"\",\n        \"description\": \"\"\n      }\n    },\n    {\n      \"column\": \"BMI\",\n      \"properties\": {\n        \"dtype\": \"number\",\n        \"std\": 6.647329203875959,\n        \"min\": 12.32,\n        \"max\": 49.84,\n        \"num_unique_values\": 619,\n        \"samples\": [\n          19.01,\n          24.36\n        ],\n        \"semantic_type\": \"\",\n        \"description\": \"\"\n      }\n    }\n  ]\n}"
            }
          },
          "metadata": {},
          "execution_count": 25
        }
      ]
    },
    {
      "cell_type": "markdown",
      "source": [
        "## ID3 дерево: классификация"
      ],
      "metadata": {
        "id": "z-IEDQV_KDIH"
      }
    },
    {
      "cell_type": "markdown",
      "source": [
        "### Реализация"
      ],
      "metadata": {
        "id": "JkwQ5o_uKSMJ"
      }
    },
    {
      "cell_type": "markdown",
      "source": [
        "#### Предикаты и их генерация"
      ],
      "metadata": {
        "id": "Dkl6DitsIegN"
      }
    },
    {
      "cell_type": "code",
      "source": [
        "class Predicate:\n",
        "  def __init__(self, func: Callable, possible_values = {0, 1}):\n",
        "    self.func = func\n",
        "    self.possible_values = possible_values\n",
        "\n",
        "  def __call__(self, x) -> Any:\n",
        "    if pd.isnull(np.array(x)).any():\n",
        "      raise ValueError(\"Nan значение передано в предикат\")\n",
        "    return self.func(x)"
      ],
      "metadata": {
        "id": "yhJKYCqRx2R4"
      },
      "execution_count": null,
      "outputs": []
    },
    {
      "cell_type": "markdown",
      "source": [
        "Предикаты генерируются, как проверка на равенство заданному значению для категориальных признаков и как проверка на принадлежность интервалу для числовых признаков. Интервалы генерируются, как полуотрезки равной длинны в заданном количестве на отрезке определения признака."
      ],
      "metadata": {
        "id": "_NChVaJlNEXl"
      }
    },
    {
      "cell_type": "code",
      "source": [
        "def is_categorical(data, feature_index_or_name) -> bool:\n",
        "    if isinstance(data, pd.DataFrame):\n",
        "        return data.dtypes[feature_index_or_name].name == 'object' or data.dtypes[feature_index_or_name].name == 'category'\n",
        "    else:\n",
        "        # Для массивов предполагаем, что все строковые данные категориальные\n",
        "        return isinstance(data[0][feature_index_or_name], str)\n",
        "\n",
        "def make_predicate_function(feature, bin_range, eq_value=None) -> Callable:\n",
        "    if eq_value is not None:\n",
        "        return lambda x: x[feature] == eq_value\n",
        "    else:\n",
        "        return lambda x: bin_range[0] <= x[feature] < bin_range[1]\n",
        "\n",
        "def generate_predicates(data, n_bins=3) -> Iterable:\n",
        "    if isinstance(data, pd.DataFrame):\n",
        "        columns = data.columns\n",
        "    else:\n",
        "        columns = range(len(data[0]))\n",
        "\n",
        "    for feature_index_or_name in columns:\n",
        "        feature_data = data[feature_index_or_name] if isinstance(data, pd.DataFrame) else list(zip(*data))[feature_index_or_name]\n",
        "        if is_categorical(data, feature_index_or_name):\n",
        "            unique_values = np.unique(feature_data, return_counts=False)\n",
        "            for value in unique_values:\n",
        "                yield make_predicate_function(feature_index_or_name, None, eq_value=value)\n",
        "        else:\n",
        "            min_val, max_val = min(feature_data), max(feature_data)\n",
        "            bin_edges = np.linspace(min_val, max_val, num=n_bins+1)\n",
        "            for i in range(len(bin_edges) - 1):\n",
        "                yield make_predicate_function(feature_index_or_name, (bin_edges[i], bin_edges[i+1]))\n",
        "\n",
        "data_frame = pd.DataFrame({\n",
        "    'age': [25, 45, 35, 29],\n",
        "    'gender': ['male', 'female', 'female', 'male'],\n",
        "    'number': [50000, 54000, 62000, 59000]\n",
        "})\n",
        "\n",
        "data_list = [\n",
        "    [25, 'male', 50000],\n",
        "    [45, 'female', 54000],\n",
        "    [35, 'female', 62000],\n",
        "    [29, 'male', 59000]\n",
        "]\n",
        "\n",
        "predicate_iterator = generate_predicates(data_frame, n_bins=2)\n",
        "for predicate in predicate_iterator:\n",
        "    print([predicate(row) for index, row in data_frame.iterrows()])\n",
        "print()\n",
        "predicate_iterator = generate_predicates(data_list, n_bins=5)\n",
        "for predicate in predicate_iterator:\n",
        "    print([predicate(row) for row in data_list])"
      ],
      "metadata": {
        "colab": {
          "base_uri": "https://localhost:8080/"
        },
        "id": "UeS1f-njFWZo",
        "outputId": "51a566f1-069f-4425-c9c4-aa9b27e2f112"
      },
      "execution_count": null,
      "outputs": [
        {
          "output_type": "stream",
          "name": "stdout",
          "text": [
            "[True, False, False, True]\n",
            "[False, False, True, False]\n",
            "[False, True, True, False]\n",
            "[True, False, False, True]\n",
            "[True, True, False, False]\n",
            "[False, False, False, True]\n",
            "\n",
            "[True, False, False, False]\n",
            "[False, False, False, True]\n",
            "[False, False, True, False]\n",
            "[False, False, False, False]\n",
            "[False, False, False, False]\n",
            "[False, True, True, False]\n",
            "[True, False, False, True]\n",
            "[True, False, False, False]\n",
            "[False, True, False, False]\n",
            "[False, False, False, False]\n",
            "[False, False, False, True]\n",
            "[False, False, False, False]\n"
          ]
        }
      ]
    },
    {
      "cell_type": "code",
      "source": [
        "max(1, -2, *[-1, -5])"
      ],
      "metadata": {
        "colab": {
          "base_uri": "https://localhost:8080/"
        },
        "id": "FgPvhIk90otg",
        "outputId": "036985b2-fd7a-4638-cd26-5b32ab742881"
      },
      "execution_count": null,
      "outputs": [
        {
          "output_type": "execute_result",
          "data": {
            "text/plain": [
              "1"
            ]
          },
          "metadata": {},
          "execution_count": 21
        }
      ]
    },
    {
      "cell_type": "markdown",
      "source": [
        "#### Дерево"
      ],
      "metadata": {
        "id": "UEUHITCAIoTC"
      }
    },
    {
      "cell_type": "code",
      "source": [
        "class ID3ClassifierNode:\n",
        "  def __init__(self):\n",
        "    self.predicate = None\n",
        "    self.children = {}\n",
        "    self.children_probas = {}\n",
        "    self.child_sub_samples = {}\n",
        "    # лист от внутренней вершины отличается тем, что у листа class_label != None\n",
        "    self.class_label = None\n",
        "    self.major_class = None\n",
        "    # после стрижки здесь может быть дочерняя вершина, которая заменяет данную\n",
        "    self.prunned_by = None\n",
        "\n",
        "  def predict_probas(self, x) -> dict[int, Any]:\n",
        "    # если листовая вершина\n",
        "    if self.class_label:\n",
        "      # для листовой children probas - это вероятности классов\n",
        "      return self.children_probas\n",
        "\n",
        "    if self.predicate:\n",
        "      try:\n",
        "        predicate_value = self.predicate(x)\n",
        "      except Exception:\n",
        "        # βv (x) не определено =⇒ пропорциональное распределение\n",
        "        probas = {}\n",
        "        for child_predicate_value, child in self.children.items():\n",
        "          child_probas = child.predict_probas(x)\n",
        "          for class_label, class_label_proba in child_probas.items():\n",
        "            probas.setdefault(class_label, 0)\n",
        "            probas[class_label] += (\n",
        "                class_label_proba *\n",
        "                self.children_probas.get(child_predicate_value, 0)\n",
        "                )\n",
        "        return probas\n",
        "      else:\n",
        "        # значение из параллельной ветки не учитывается\n",
        "        return self.children[predicate_value].predict_probas(x)\n",
        "    else:\n",
        "      if self.prunned_by:\n",
        "        return self.prunned_by.predict_probas(x)\n",
        "      raise ValueError(\n",
        "          \"Не задан ни класс для листовой, ни предикат для внутренней вершины\"\n",
        "          )\n",
        "\n",
        "  def forward(self, x) -> Any:\n",
        "    probas = self.predict_probas(x)\n",
        "    return max(probas, key=probas.get)\n",
        "\n",
        "  def accuracy(self, X, y) -> float:\n",
        "    hits_n = 0\n",
        "    for i in range(len(X)):\n",
        "      hits_n += int(self.forward(X.to_numpy()[i]) == y.iloc[i])\n",
        "    return hits_n / len(y)\n",
        "\n",
        "  def prune(self, X, y) -> None:\n",
        "    # X := подмножество объектов Xk, дошедших до текущей вершины\n",
        "\n",
        "    # для всех v ∈ Vвнутр\n",
        "    if self.class_label or not self.predicate:\n",
        "      return\n",
        "\n",
        "    # если Sv = ∅ то\n",
        "    if not len(X):\n",
        "      self.class_label = self.major_class\n",
        "      self.children_probas = {self.class_label: 1}\n",
        "\n",
        "    # Оцениваем ошибку текущего узла, если бы он был листом\n",
        "    class_labels, counts = np.unique(y, return_counts=True)\n",
        "    major_class = class_labels[np.argmax(counts)]\n",
        "    error_leaf = np.sum(y != major_class)  # ошибка, если бы узел был листом\n",
        "\n",
        "    # Рассчитываем ошибку для текущего дерева и каждого из детей\n",
        "    v_error = 1 - self.accuracy(X, y)\n",
        "    v_children = [1 - child.accuracy(X, y) for child in self.children.values()]\n",
        "\n",
        "    # Сравниваем ошибки и принимаем решение о прунинге\n",
        "    if (min_error := min(error_leaf, v_error, *v_children)) == error_leaf:\n",
        "      # Превратить узел в лист\n",
        "      self.class_label = major_class\n",
        "      self.children_probas = {self.class_label: 1}\n",
        "      return\n",
        "\n",
        "    if min_error == v_error:\n",
        "      for child in self.children.values():\n",
        "        for child_predicate_value, child in self.children.items():\n",
        "          mask = (\n",
        "              np.apply_along_axis(self.predicate, 1, X) == child_predicate_value\n",
        "          )\n",
        "          sub_X = X[mask]\n",
        "          sub_y = y[mask]\n",
        "          child.prune(sub_X, sub_y)\n",
        "      return\n",
        "\n",
        "    for v_child, child in zip(v_children, self.children.values()):\n",
        "      if min_error == v_child:\n",
        "        self.predicate = None\n",
        "        self.prunned_by = child\n",
        "        return\n",
        "\n",
        "  @staticmethod\n",
        "  def major_method(x: np.array) -> Any:\n",
        "    return stats.mode(x).mode\n",
        "\n",
        "  def backward(\n",
        "      self, X: np.array, y: np.array, betas: Iterable[Predicate], criterium\n",
        "      ) -> None:\n",
        "    betas = list(betas)\n",
        "    # если все объекты из U лежат в одном классе c ∈ Y,\n",
        "    # то вернуть новый лист v, cv := c\n",
        "    if len(np.unique(y)) == 1:\n",
        "      self.class_label = y[0]\n",
        "      self.children_probas = {self.class_label: 1}\n",
        "      self.major_class = y[0]\n",
        "      return\n",
        "\n",
        "    # если β(xi) не определено,\n",
        "    # то при вычислении I(β,U) объект xi исключается из выборки U\n",
        "    nan_mask = pd.isnull(y)\n",
        "    X = X[~nan_mask]\n",
        "    y = y[~nan_mask]\n",
        "    self.major_class = self.major_method(y)\n",
        "\n",
        "    calc_mask = pd.isnull(X).any(axis=1)\n",
        "    X_calc = X[~calc_mask]\n",
        "    y_calc = y[~calc_mask]\n",
        "\n",
        "    # найти предикат с максимальной информативностью\n",
        "    predicate = Predicate(\n",
        "        max(betas, key=lambda beta: criterium(beta, X_calc, y_calc))\n",
        "        )\n",
        "    predicate_values = predicate.possible_values\n",
        "\n",
        "    # разбить выборку на две части U = U0 ∪ U1 по предикату β\n",
        "    for el, el_class in zip(X, y):\n",
        "      # если предикат не вычислился,\n",
        "      # то разбить на данном уровне по данному признаку невозможно\n",
        "      try:\n",
        "        predicate_el = predicate(el)\n",
        "        self.child_sub_samples.setdefault(predicate_el, [])\n",
        "        self.child_sub_samples[predicate_el].append((el, el_class))\n",
        "      except Exception:\n",
        "        ...\n",
        "\n",
        "    total_length = sum(\n",
        "        len(list(used_lines)) for used_lines in self.child_sub_samples.values()\n",
        "        )\n",
        "\n",
        "    # если U0 = ∅ или U1 = ∅,\n",
        "    # то вернуть новый лист v, cv := Мажоритарный класс(U);\n",
        "    for predicate_value in predicate_values:\n",
        "      child_sub_sample = self.child_sub_samples.get(predicate_value)\n",
        "      if not child_sub_sample:\n",
        "        self.class_label = self.major_class\n",
        "        self.children_probas = {self.class_label: 1}\n",
        "        return\n",
        "\n",
        "    # создать новую внутреннюю вершину v: βv := β\n",
        "    self.predicate = predicate\n",
        "\n",
        "    # построить левое поддерево: Lv := LearnID3(U0);\n",
        "    # построить правое поддерево: Rv := LearnID3(U1)\n",
        "    for predicate_value, child_sub_sample in self.child_sub_samples.items():\n",
        "      child_node = self.__class__()\n",
        "      child_X, child_y = zip(*child_sub_sample)\n",
        "      child_node.backward(\n",
        "          np.array(child_X),\n",
        "          np.array(child_y),\n",
        "          betas,\n",
        "          criterium\n",
        "      )\n",
        "      self.children[predicate_value] = child_node\n",
        "      self.children_probas[predicate_value] = len(child_X) / total_length\n"
      ],
      "metadata": {
        "id": "uQCITCMRec2j"
      },
      "execution_count": null,
      "outputs": []
    },
    {
      "cell_type": "markdown",
      "source": [
        "#### Критерий Донского"
      ],
      "metadata": {
        "id": "vy-wZDZ5KGJ6"
      }
    },
    {
      "cell_type": "code",
      "source": [
        "def Donskoj_criterium(beta: Callable, X: np.array, y: np.array) -> float:\n",
        "  # I(β, X) = #{(xi, xj) : β(xi) = β(xj) и yi = yj}\n",
        "  count = 0\n",
        "  n = len(X)\n",
        "  for i in range(n):\n",
        "    for j in range(i + 1, n):\n",
        "      x_i, y_i = X[i], y[i]\n",
        "      x_j, y_j = X[j], y[j]\n",
        "      if beta(x_i) != beta(x_j) and y_i != y_j:\n",
        "        count += 1\n",
        "  return count"
      ],
      "metadata": {
        "id": "OxP5KUeM8yau"
      },
      "execution_count": null,
      "outputs": []
    },
    {
      "cell_type": "markdown",
      "source": [
        "#### Многоклассовый энтропийный критерий"
      ],
      "metadata": {
        "id": "8rLJ2jb6KJlv"
      }
    },
    {
      "cell_type": "code",
      "source": [
        "def entropy(p: float) -> float:\n",
        "  # -p log2(p)\n",
        "  return -p * np.log2(p)\n",
        "\n",
        "def multiclass_ent_criterium(beta: Callable, X: np.array, y: np.array) -> float:\n",
        "  # I(β, Xl), Pc = #{xi: yi = c}, p = #{xi: β(xi) = 1}, h(z) = −z log2z\n",
        "  unique_classes = np.unique(y)\n",
        "  P_c = {c: np.sum(y == c) for c in unique_classes}\n",
        "  p_c = {\n",
        "      c: np.sum((y == c) & (np.array(beta(x) for x in X) == 1))\n",
        "      for c in unique_classes\n",
        "      }\n",
        "  p = np.sum(np.array(beta(x) for x in X) == 1)\n",
        "  l = len(X)\n",
        "\n",
        "  res = 0\n",
        "  for c in unique_classes:\n",
        "    res += (\n",
        "        entropy(P_c[c] / l)\n",
        "        - (p / l) * entropy(P_c[c] / (p + 0.001))\n",
        "        - ((l - p) / l) * entropy((P_c[c] - p_c[c]) / (l - p + 0.001))\n",
        "        )\n",
        "  return res"
      ],
      "metadata": {
        "id": "Amp2loM26myJ"
      },
      "execution_count": null,
      "outputs": []
    },
    {
      "cell_type": "markdown",
      "source": [
        "### Оценка качества"
      ],
      "metadata": {
        "id": "Cvk4uoJcKPEH"
      }
    },
    {
      "cell_type": "markdown",
      "source": [
        "Данные без пропусков с разбиением числовых признаков на 20 полуотрезков:"
      ],
      "metadata": {
        "id": "cfg4GvHMN27v"
      }
    },
    {
      "cell_type": "code",
      "source": [
        "id3_classifier = ID3ClassifierNode()\n",
        "id3_classifier.backward(\n",
        "    X_train_classification.to_numpy(),\n",
        "    y_train_classification.to_numpy(),\n",
        "    generate_predicates(X_train_classification.to_numpy(), n_bins=20),\n",
        "    Donskoj_criterium\n",
        ")"
      ],
      "metadata": {
        "id": "83eh44MRERs5"
      },
      "execution_count": null,
      "outputs": []
    },
    {
      "cell_type": "code",
      "source": [
        "id3_classifier.children_probas"
      ],
      "metadata": {
        "colab": {
          "base_uri": "https://localhost:8080/"
        },
        "id": "KVwT_r-i2qlh",
        "outputId": "df338262-a16b-4bf8-992c-b885fb5bf9f3"
      },
      "execution_count": null,
      "outputs": [
        {
          "output_type": "execute_result",
          "data": {
            "text/plain": [
              "{True: 0.32510288065843623, False: 0.6748971193415638}"
            ]
          },
          "metadata": {},
          "execution_count": 78
        }
      ]
    },
    {
      "cell_type": "code",
      "source": [
        "id3_classifier.accuracy(X_test_classification, y_test_classification)"
      ],
      "metadata": {
        "colab": {
          "base_uri": "https://localhost:8080/"
        },
        "id": "qawXKtAQrdsP",
        "outputId": "7bd3f596-2388-4e10-8869-68620816b10e"
      },
      "execution_count": null,
      "outputs": [
        {
          "output_type": "execute_result",
          "data": {
            "text/plain": [
              "0.8073770491803278"
            ]
          },
          "metadata": {},
          "execution_count": 79
        }
      ]
    },
    {
      "cell_type": "markdown",
      "source": [
        "Данные без пропусков с разбиением числовых признаков на 2 полуотрезка:"
      ],
      "metadata": {
        "id": "sYBvDqruOAXv"
      }
    },
    {
      "cell_type": "code",
      "source": [
        "id3_classifier_little_bins = ID3ClassifierNode()\n",
        "id3_classifier_little_bins.backward(\n",
        "    X_train_classification.to_numpy(),\n",
        "    y_train_classification.to_numpy(),\n",
        "    generate_predicates(X_train_classification.to_numpy(), n_bins=2),\n",
        "    Donskoj_criterium\n",
        ")\n",
        "\n",
        "id3_classifier_little_bins.accuracy(X_test_classification, y_test_classification)"
      ],
      "metadata": {
        "colab": {
          "base_uri": "https://localhost:8080/"
        },
        "id": "oA5eZTIsBBod",
        "outputId": "f0c033f6-1469-4722-e5ca-e6931b4c2aad"
      },
      "execution_count": null,
      "outputs": [
        {
          "output_type": "execute_result",
          "data": {
            "text/plain": [
              "0.7540983606557377"
            ]
          },
          "metadata": {},
          "execution_count": 66
        }
      ]
    },
    {
      "cell_type": "markdown",
      "source": [
        "Видно, что качество упало, но незначительно"
      ],
      "metadata": {
        "id": "V7dEOoPqOTbW"
      }
    },
    {
      "cell_type": "markdown",
      "source": [
        "Данные с пропусками с разбиением числовых признаков на 20 полуотрезков и критерием ветвления Донского:"
      ],
      "metadata": {
        "id": "AEy8Zy-2OISl"
      }
    },
    {
      "cell_type": "code",
      "source": [
        "id3_classifier_nans = ID3ClassifierNode()\n",
        "id3_classifier_nans.backward(\n",
        "    X_train_classification_nans.to_numpy(),\n",
        "    y_train_classification_nans.to_numpy(),\n",
        "    generate_predicates(X_train_classification_nans.to_numpy(), n_bins=20),\n",
        "    Donskoj_criterium\n",
        ")\n",
        "\n",
        "id3_classifier_nans.accuracy(X_test_classification_nans, y_test_classification_nans)"
      ],
      "metadata": {
        "colab": {
          "base_uri": "https://localhost:8080/"
        },
        "id": "zNOvXQmdDpax",
        "outputId": "89784d8e-7d87-4c53-8c46-27b4737bed1e"
      },
      "execution_count": null,
      "outputs": [
        {
          "output_type": "execute_result",
          "data": {
            "text/plain": [
              "0.5368852459016393"
            ]
          },
          "metadata": {},
          "execution_count": 118
        }
      ]
    },
    {
      "cell_type": "markdown",
      "source": [
        "Пропуски сильно влияют на качество предсказаний."
      ],
      "metadata": {
        "id": "L1Fq1nk1Oq1D"
      }
    },
    {
      "cell_type": "markdown",
      "source": [
        "Данные с пропусками с разбиением числовых признаков на 20 полуотрезков и многоклассовым энтропийным критерием ветвления:"
      ],
      "metadata": {
        "id": "6oBU-rXQON9F"
      }
    },
    {
      "cell_type": "code",
      "source": [
        "id3_classifier_multi_ent = ID3ClassifierNode()\n",
        "id3_classifier_multi_ent.backward(\n",
        "    X_train_classification_nans.to_numpy(),\n",
        "    y_train_classification_nans.to_numpy(),\n",
        "    generate_predicates(X_train_classification_nans.to_numpy(), n_bins=2),\n",
        "    multiclass_ent_criterium\n",
        ")\n",
        "\n",
        "id3_classifier_multi_ent.accuracy(X_test_classification_nans, y_test_classification_nans)"
      ],
      "metadata": {
        "colab": {
          "base_uri": "https://localhost:8080/"
        },
        "id": "dotCarnffsoa",
        "outputId": "dc869d56-afa7-4e6c-8efb-695a354d6b62"
      },
      "execution_count": null,
      "outputs": [
        {
          "output_type": "execute_result",
          "data": {
            "text/plain": [
              "0.4098360655737705"
            ]
          },
          "metadata": {},
          "execution_count": 100
        }
      ]
    },
    {
      "cell_type": "markdown",
      "source": [
        "Критерий Донского работает лучше на рассматриваемом наборе данных."
      ],
      "metadata": {
        "id": "kqQ4rBp0PDkc"
      }
    },
    {
      "cell_type": "markdown",
      "source": [
        "Данные с удалёнными строками с пропусками с разбиением числовых признаков на 20 полуотрезков и критерием ветвления Донского:"
      ],
      "metadata": {
        "id": "yl7WZzN2PPu_"
      }
    },
    {
      "cell_type": "code",
      "source": [
        "id3_classifier_cleaned_nans = ID3ClassifierNode()\n",
        "id3_classifier_cleaned_nans.backward(\n",
        "    X_train_classification_cleaned_nans.to_numpy(),\n",
        "    y_train_classification_cleaned_nans.to_numpy(),\n",
        "    generate_predicates(X_train_classification_cleaned_nans.to_numpy(), n_bins=20),\n",
        "    Donskoj_criterium\n",
        ")\n",
        "\n",
        "id3_classifier_cleaned_nans.accuracy(X_test_classification_cleaned_nans, y_test_classification_cleaned_nans)"
      ],
      "metadata": {
        "colab": {
          "base_uri": "https://localhost:8080/"
        },
        "id": "9auY9-yKMNlL",
        "outputId": "731e8123-b7fe-4688-cd7a-e82db7a62e7d"
      },
      "execution_count": null,
      "outputs": [
        {
          "output_type": "execute_result",
          "data": {
            "text/plain": [
              "0.7727272727272727"
            ]
          },
          "metadata": {},
          "execution_count": 106
        }
      ]
    },
    {
      "cell_type": "code",
      "source": [
        "X_train_classification_cleaned_nans.shape, X_train_classification_nans.shape"
      ],
      "metadata": {
        "colab": {
          "base_uri": "https://localhost:8080/"
        },
        "id": "dlF0X0KfIgY2",
        "outputId": "8f16a91f-3d07-45e8-eb88-0a2fe8e36710"
      },
      "execution_count": null,
      "outputs": [
        {
          "output_type": "execute_result",
          "data": {
            "text/plain": [
              "((328, 14), (729, 14))"
            ]
          },
          "metadata": {},
          "execution_count": 88
        }
      ]
    },
    {
      "cell_type": "markdown",
      "source": [
        "Уменьшение набора данных почти в 2 раза не привело к значительному падению качества."
      ],
      "metadata": {
        "id": "nJFaq_uJPVn5"
      }
    },
    {
      "cell_type": "markdown",
      "source": [
        "## ID3 дерево: регрессия"
      ],
      "metadata": {
        "id": "ZR8i4_QQKe-o"
      }
    },
    {
      "cell_type": "markdown",
      "source": [
        "### Реализация"
      ],
      "metadata": {
        "id": "W6ktk6FDqSfO"
      }
    },
    {
      "cell_type": "markdown",
      "source": [
        "#### Критерий для регрессии"
      ],
      "metadata": {
        "id": "TW2gMuYgL9O4"
      }
    },
    {
      "cell_type": "code",
      "source": [
        "def uncertainty(y) -> float:\n",
        "  return np.mean((np.mean(y) - y) ** 2)"
      ],
      "metadata": {
        "id": "VxBZzWNeoh5n"
      },
      "execution_count": null,
      "outputs": []
    },
    {
      "cell_type": "code",
      "source": [
        "def regression_criterium(beta: Callable, X: np.array, y: np.array) -> float:\n",
        "  beta_X_values = np.apply_along_axis(beta, 1, X)\n",
        "  f_u_b = 0\n",
        "  for predicate_value in {0, 1}:\n",
        "    if len(y_part := y[beta_X_values == predicate_value]):\n",
        "      f_u_b += uncertainty(y) * (len(y_part) / len(y))\n",
        "  return uncertainty(y) - f_u_b"
      ],
      "metadata": {
        "id": "azEkLefPo_kJ"
      },
      "execution_count": null,
      "outputs": []
    },
    {
      "cell_type": "markdown",
      "source": [
        "#### Дерево"
      ],
      "metadata": {
        "id": "e_EWlw42p8d6"
      }
    },
    {
      "cell_type": "code",
      "source": [
        "class ID3RegressorNode(ID3ClassifierNode):\n",
        "  def mse(self, X, y) -> float:\n",
        "    return mean_squared_error(np.apply_along_axis(self.forward, 1, X), y)\n",
        "\n",
        "  @staticmethod\n",
        "  def major_method(x: np.array) -> float:\n",
        "    return np.mean(x)\n",
        "\n",
        "  def prune(self, X, y) -> None:\n",
        "    # X := подмножество объектов Xk, дошедших до текущей вершины\n",
        "\n",
        "    # для всех v ∈ Vвнутр\n",
        "    if self.class_label or not self.predicate:\n",
        "      return\n",
        "\n",
        "    # если Sv = ∅ то\n",
        "    if not len(X):\n",
        "      self.class_label = self.major_class\n",
        "      self.children_probas = {self.class_label: 1}\n",
        "\n",
        "    # Оцениваем ошибку текущего узла, если бы он был листом\n",
        "    error_leaf = mean_squared_error(np.array([self.major_class for _ in y]), y)\n",
        "\n",
        "    # Рассчитываем ошибку для текущего дерева и каждого из детей\n",
        "    v_error = self.mse(X, y)\n",
        "    v_children = [child.mse(X, y) for child in self.children.values()]\n",
        "\n",
        "    # Сравниваем ошибки и принимаем решение о прунинге\n",
        "    if (min_error := min(error_leaf, v_error, *v_children)) == error_leaf:\n",
        "      # Превратить узел в лист\n",
        "      self.class_label = self.major_class\n",
        "      self.children_probas = {self.class_label: 1}\n",
        "      return\n",
        "\n",
        "    if min_error == v_error:\n",
        "      for child in self.children.values():\n",
        "        for child_predicate_value, child in self.children.items():\n",
        "          mask = (\n",
        "              np.apply_along_axis(self.predicate, 1, X) == child_predicate_value\n",
        "          )\n",
        "          sub_X = X[mask]\n",
        "          sub_y = y[mask]\n",
        "          child.prune(sub_X, sub_y)\n",
        "      return\n",
        "\n",
        "    for v_child, child in zip(v_children, self.children.values()):\n",
        "      if min_error == v_child:\n",
        "        self.predicate = None\n",
        "        self.prunned_by = child\n",
        "        return\n"
      ],
      "metadata": {
        "id": "_DpzhdeYMBT2"
      },
      "execution_count": null,
      "outputs": []
    },
    {
      "cell_type": "markdown",
      "source": [
        "### Оценка качества"
      ],
      "metadata": {
        "id": "8_y2jfGmqVvQ"
      }
    },
    {
      "cell_type": "code",
      "source": [
        "id3_regressor = ID3RegressorNode()\n",
        "id3_regressor.backward(\n",
        "    X_train_regression.to_numpy(),\n",
        "    y_train_regression.to_numpy(),\n",
        "    generate_predicates(X_train_regression.to_numpy(), n_bins=20),\n",
        "    regression_criterium\n",
        ")\n",
        "\n",
        "id3_regressor.mse(X_test_regression, y_test_regression)"
      ],
      "metadata": {
        "colab": {
          "base_uri": "https://localhost:8080/"
        },
        "id": "CgAe3s_jHKgG",
        "outputId": "bba1d66b-074f-4147-d338-3b9553e74986"
      },
      "execution_count": null,
      "outputs": [
        {
          "output_type": "execute_result",
          "data": {
            "text/plain": [
              "14819.49534686533"
            ]
          },
          "metadata": {},
          "execution_count": 2
        }
      ]
    },
    {
      "cell_type": "code",
      "source": [
        "id3_regressor_little_bins = ID3RegressorNode()\n",
        "id3_regressor_little_bins.backward(\n",
        "    X_train_regression.to_numpy(),\n",
        "    y_train_regression.to_numpy(),\n",
        "    generate_predicates(X_train_regression.to_numpy(), n_bins=2),\n",
        "    regression_criterium\n",
        ")\n",
        "\n",
        "id3_regressor_little_bins.mse(X_test_regression, y_test_regression)"
      ],
      "metadata": {
        "colab": {
          "base_uri": "https://localhost:8080/"
        },
        "id": "_uBc4Y0nEFW1",
        "outputId": "06368d98-17bc-429a-f415-e2c5e7eb48a4"
      },
      "execution_count": null,
      "outputs": [
        {
          "output_type": "execute_result",
          "data": {
            "text/plain": [
              "62277.92797589185"
            ]
          },
          "metadata": {},
          "execution_count": 59
        }
      ]
    },
    {
      "cell_type": "markdown",
      "source": [
        "## Редукция дерева"
      ],
      "metadata": {
        "id": "R9d9Mn36KnNo"
      }
    },
    {
      "cell_type": "code",
      "source": [
        "X_train_classification_prun, X_test_classification_prun, y_train_classification_prun, y_test_classification_prun = train_test_split(data.drop(columns=['Experience_Level']), data.Experience_Level, test_size=0.35)\n",
        "X_val_classification_prun, X_test_classification_prun, y_val_classification_prun, y_test_classification_prun = train_test_split(X_test_classification_prun, y_test_classification_prun, test_size=0.75)"
      ],
      "metadata": {
        "id": "FmyBkZYyFu2Q"
      },
      "execution_count": null,
      "outputs": []
    },
    {
      "cell_type": "code",
      "source": [
        "id3_classifier_cleaned_prun = ID3ClassifierNode()\n",
        "id3_classifier_cleaned_prun.backward(\n",
        "    X_train_classification_prun.to_numpy(),\n",
        "    y_train_classification_prun.to_numpy(),\n",
        "    generate_predicates(X_train_classification_prun.to_numpy(), n_bins=2),\n",
        "    Donskoj_criterium\n",
        ")\n",
        "\n",
        "id3_classifier_cleaned_prun.accuracy(X_test_classification_prun, y_test_classification_prun)"
      ],
      "metadata": {
        "colab": {
          "base_uri": "https://localhost:8080/"
        },
        "id": "akRrdsuhFma6",
        "outputId": "a8a2c0fb-4aab-4546-bcd4-f851f74ac150"
      },
      "execution_count": null,
      "outputs": [
        {
          "output_type": "execute_result",
          "data": {
            "text/plain": [
              "0.7578125"
            ]
          },
          "metadata": {},
          "execution_count": 169
        }
      ]
    },
    {
      "cell_type": "code",
      "source": [
        "id3_classifier_cleaned_prun.prune(X_val_classification_prun, y_val_classification_prun)"
      ],
      "metadata": {
        "id": "FdcZzgbLGrmU"
      },
      "execution_count": null,
      "outputs": []
    },
    {
      "cell_type": "code",
      "source": [
        "id3_classifier_cleaned_prun.accuracy(X_test_classification_prun, y_test_classification_prun)"
      ],
      "metadata": {
        "colab": {
          "base_uri": "https://localhost:8080/"
        },
        "id": "xPyXEQptLCyr",
        "outputId": "96e74ed2-9343-47a1-bb11-75d314018566"
      },
      "execution_count": null,
      "outputs": [
        {
          "output_type": "execute_result",
          "data": {
            "text/plain": [
              "0.7734375"
            ]
          },
          "metadata": {},
          "execution_count": 171
        }
      ]
    },
    {
      "cell_type": "markdown",
      "source": [
        "Видно, что редукция повысила качество предсказаний. Дерево немного переобучилось."
      ],
      "metadata": {
        "id": "rLU6tb5xPqPY"
      }
    },
    {
      "cell_type": "markdown",
      "source": [
        "## Библиотечная версия"
      ],
      "metadata": {
        "id": "F2ftvPFNKpzq"
      }
    },
    {
      "cell_type": "code",
      "source": [
        "def lib_accuracy(lib_data, target_column, classification: bool = True):\n",
        "  X_lib_train_classification, X_lib_test_classification, y_lib_train_classification, y_lib_test_classification = train_test_split(lib_data.drop(columns=[target_column]), lib_data[target_column], test_size=0.25)\n",
        "\n",
        "  for cat_col in ['Workout_Type', 'Gender']:\n",
        "    labelencoder = LabelEncoder()\n",
        "    if target_column != cat_col:\n",
        "      X_lib_train_classification[cat_col] = labelencoder.fit_transform(X_lib_train_classification[cat_col])\n",
        "      X_lib_test_classification[cat_col] = labelencoder.transform(X_lib_test_classification[cat_col])\n",
        "    else:\n",
        "      y_lib_train_classification = labelencoder.fit_transform(y_lib_train_classification)\n",
        "      y_lib_test_classification = labelencoder.transform(y_lib_test_classification)\n",
        "\n",
        "  if classification:\n",
        "    lib_id3_clf = DecisionTreeClassifier(criterion='entropy')\n",
        "\n",
        "    start_time = perf_counter()\n",
        "    lib_id3_clf.fit(X_lib_train_classification.dropna(), y_lib_train_classification.dropna())\n",
        "\n",
        "    lib_clf_predict = lib_id3_clf.predict(X_lib_test_classification)\n",
        "    return sum(lib_clf_predict == y_lib_test_classification) / len(y_test_classification), perf_counter() - start_time\n",
        "\n",
        "  lib_id3_reg = DecisionTreeClassifier(criterion='entropy')\n",
        "\n",
        "  start_time = perf_counter()\n",
        "  lib_id3_reg.fit(X_lib_train_classification.dropna(), y_lib_train_classification.dropna())\n",
        "\n",
        "  lib_clf_predict = lib_id3_reg.predict(X_lib_test_classification)\n",
        "  return mean_squared_error(lib_clf_predict, y_lib_test_classification), perf_counter() - start_time"
      ],
      "metadata": {
        "id": "NBqGfBv7ScTJ"
      },
      "execution_count": null,
      "outputs": []
    },
    {
      "cell_type": "code",
      "source": [
        "lib_accuracy(data, 'Experience_Level')"
      ],
      "metadata": {
        "colab": {
          "base_uri": "https://localhost:8080/"
        },
        "id": "FfNa7OImSu1T",
        "outputId": "9efdf6eb-71ae-4d1c-bbc5-17f885bc440a"
      },
      "execution_count": null,
      "outputs": [
        {
          "output_type": "execute_result",
          "data": {
            "text/plain": [
              "(0.860655737704918, 0.015299848000722704)"
            ]
          },
          "metadata": {},
          "execution_count": 70
        }
      ]
    },
    {
      "cell_type": "markdown",
      "source": [
        "Качество сопоставимо с реализованным вручную алгоритмом. При этом библиотечная версия требует категориальные признаки кодировать в числовые. Приведённая выше ручная реализация же допускает категориальные признаки любого типа данных.\n",
        "Однако библиотечная версия работает гораздо быстрее ручной реализации: 10 мс против 5 мин."
      ],
      "metadata": {
        "id": "ibYUnkgKP7lS"
      }
    },
    {
      "cell_type": "code",
      "source": [
        "lib_accuracy(data_with_nans.dropna(), 'Experience_Level')"
      ],
      "metadata": {
        "id": "pYDZyUOt6gZE",
        "colab": {
          "base_uri": "https://localhost:8080/"
        },
        "outputId": "2eda18ad-9c6b-4046-ed69-1f211e8a09c7"
      },
      "execution_count": null,
      "outputs": [
        {
          "output_type": "execute_result",
          "data": {
            "text/plain": [
              "0.3770491803278688"
            ]
          },
          "metadata": {},
          "execution_count": 63
        }
      ]
    },
    {
      "cell_type": "markdown",
      "source": [
        "Библиотечный алгоритм чувствителен к потере данных. Аналогичное уменьшение кол-ва тренировочной выборки для приведённой выше реализации не привели к значительному падению качества. Библиотечный же аналог стал хуже в 2 раза."
      ],
      "metadata": {
        "id": "i68TBRJXR2C3"
      }
    },
    {
      "cell_type": "code",
      "source": [
        "lib_accuracy(data, 'Calories_Burned', classification=False)"
      ],
      "metadata": {
        "colab": {
          "base_uri": "https://localhost:8080/"
        },
        "id": "kGNIxWuoF7vI",
        "outputId": "ba599e59-4b30-4c00-94da-ec6cd0be94d7"
      },
      "execution_count": null,
      "outputs": [
        {
          "output_type": "execute_result",
          "data": {
            "text/plain": [
              "14817.540983606557"
            ]
          },
          "metadata": {},
          "execution_count": 64
        }
      ]
    }
  ]
}