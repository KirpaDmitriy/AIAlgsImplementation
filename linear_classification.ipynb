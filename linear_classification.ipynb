{
  "nbformat": 4,
  "nbformat_minor": 0,
  "metadata": {
    "colab": {
      "provenance": [],
      "toc_visible": true,
      "authorship_tag": "ABX9TyNx0F1ZNyhcplKiywXRmgTV",
      "include_colab_link": true
    },
    "kernelspec": {
      "name": "python3",
      "display_name": "Python 3"
    },
    "language_info": {
      "name": "python"
    }
  },
  "cells": [
    {
      "cell_type": "markdown",
      "metadata": {
        "id": "view-in-github",
        "colab_type": "text"
      },
      "source": [
        "<a href=\"https://colab.research.google.com/github/KirpaDmitriy/AIAlgsImplementation/blob/main/linear_classification.ipynb\" target=\"_parent\"><img src=\"https://colab.research.google.com/assets/colab-badge.svg\" alt=\"Open In Colab\"/></a>"
      ]
    },
    {
      "cell_type": "markdown",
      "source": [
        "# Лабораторная работа №4 \"Линейная классификация\"\n",
        "## Студент: Кирпа Дмитрий\n",
        "## Преподаватель: Мангараков Александр"
      ],
      "metadata": {
        "id": "DeNjPRIyC51s"
      }
    },
    {
      "cell_type": "markdown",
      "source": [
        "## Подключение зависимостей"
      ],
      "metadata": {
        "id": "4EpiLW96Zyyw"
      }
    },
    {
      "cell_type": "code",
      "source": [
        "import pandas as pd\n",
        "from sklearn.model_selection import train_test_split\n",
        "import numpy as np\n",
        "from sklearn.metrics import accuracy_score\n",
        "from sklearn.preprocessing import LabelEncoder, StandardScaler\n",
        "import matplotlib.pyplot as plt\n",
        "from sklearn.linear_model import SGDClassifier"
      ],
      "metadata": {
        "id": "oFbTRXhBE040"
      },
      "execution_count": null,
      "outputs": []
    },
    {
      "cell_type": "markdown",
      "source": [
        "## Набор данных"
      ],
      "metadata": {
        "id": "j09Z87K_Zyo8"
      }
    },
    {
      "cell_type": "code",
      "execution_count": null,
      "metadata": {
        "colab": {
          "base_uri": "https://localhost:8080/",
          "height": 243
        },
        "id": "SuY3PTYVExcg",
        "outputId": "f336fe00-8129-4b77-d15f-ad9ee2edbd51"
      },
      "outputs": [
        {
          "output_type": "execute_result",
          "data": {
            "text/plain": [
              "   Age  Gender  Weight (kg)  Height (m)  Max_BPM  Avg_BPM  Resting_BPM  \\\n",
              "0   56    Male         88.3        1.71      180      157           60   \n",
              "1   46  Female         74.9        1.53      179      151           66   \n",
              "2   32  Female         68.1        1.66      167      122           54   \n",
              "3   25    Male         53.2        1.70      190      164           56   \n",
              "4   38    Male         46.1        1.79      188      158           68   \n",
              "\n",
              "   Session_Duration (hours)  Calories_Burned Workout_Type  Fat_Percentage  \\\n",
              "0                      1.69           1313.0         Yoga            12.6   \n",
              "1                      1.30            883.0         HIIT            33.9   \n",
              "2                      1.11            677.0       Cardio            33.4   \n",
              "3                      0.59            532.0     Strength            28.8   \n",
              "4                      0.64            556.0     Strength            29.2   \n",
              "\n",
              "   Water_Intake (liters)  Workout_Frequency (days/week)  Experience_Level  \\\n",
              "0                    3.5                              4                 3   \n",
              "1                    2.1                              4                 2   \n",
              "2                    2.3                              4                 2   \n",
              "3                    2.1                              3                 1   \n",
              "4                    2.8                              3                 1   \n",
              "\n",
              "     BMI  \n",
              "0  30.20  \n",
              "1  32.00  \n",
              "2  24.71  \n",
              "3  18.41  \n",
              "4  14.39  "
            ],
            "text/html": [
              "\n",
              "  <div id=\"df-37eb124c-b92c-4e4c-bd20-73a5da697d6c\" class=\"colab-df-container\">\n",
              "    <div>\n",
              "<style scoped>\n",
              "    .dataframe tbody tr th:only-of-type {\n",
              "        vertical-align: middle;\n",
              "    }\n",
              "\n",
              "    .dataframe tbody tr th {\n",
              "        vertical-align: top;\n",
              "    }\n",
              "\n",
              "    .dataframe thead th {\n",
              "        text-align: right;\n",
              "    }\n",
              "</style>\n",
              "<table border=\"1\" class=\"dataframe\">\n",
              "  <thead>\n",
              "    <tr style=\"text-align: right;\">\n",
              "      <th></th>\n",
              "      <th>Age</th>\n",
              "      <th>Gender</th>\n",
              "      <th>Weight (kg)</th>\n",
              "      <th>Height (m)</th>\n",
              "      <th>Max_BPM</th>\n",
              "      <th>Avg_BPM</th>\n",
              "      <th>Resting_BPM</th>\n",
              "      <th>Session_Duration (hours)</th>\n",
              "      <th>Calories_Burned</th>\n",
              "      <th>Workout_Type</th>\n",
              "      <th>Fat_Percentage</th>\n",
              "      <th>Water_Intake (liters)</th>\n",
              "      <th>Workout_Frequency (days/week)</th>\n",
              "      <th>Experience_Level</th>\n",
              "      <th>BMI</th>\n",
              "    </tr>\n",
              "  </thead>\n",
              "  <tbody>\n",
              "    <tr>\n",
              "      <th>0</th>\n",
              "      <td>56</td>\n",
              "      <td>Male</td>\n",
              "      <td>88.3</td>\n",
              "      <td>1.71</td>\n",
              "      <td>180</td>\n",
              "      <td>157</td>\n",
              "      <td>60</td>\n",
              "      <td>1.69</td>\n",
              "      <td>1313.0</td>\n",
              "      <td>Yoga</td>\n",
              "      <td>12.6</td>\n",
              "      <td>3.5</td>\n",
              "      <td>4</td>\n",
              "      <td>3</td>\n",
              "      <td>30.20</td>\n",
              "    </tr>\n",
              "    <tr>\n",
              "      <th>1</th>\n",
              "      <td>46</td>\n",
              "      <td>Female</td>\n",
              "      <td>74.9</td>\n",
              "      <td>1.53</td>\n",
              "      <td>179</td>\n",
              "      <td>151</td>\n",
              "      <td>66</td>\n",
              "      <td>1.30</td>\n",
              "      <td>883.0</td>\n",
              "      <td>HIIT</td>\n",
              "      <td>33.9</td>\n",
              "      <td>2.1</td>\n",
              "      <td>4</td>\n",
              "      <td>2</td>\n",
              "      <td>32.00</td>\n",
              "    </tr>\n",
              "    <tr>\n",
              "      <th>2</th>\n",
              "      <td>32</td>\n",
              "      <td>Female</td>\n",
              "      <td>68.1</td>\n",
              "      <td>1.66</td>\n",
              "      <td>167</td>\n",
              "      <td>122</td>\n",
              "      <td>54</td>\n",
              "      <td>1.11</td>\n",
              "      <td>677.0</td>\n",
              "      <td>Cardio</td>\n",
              "      <td>33.4</td>\n",
              "      <td>2.3</td>\n",
              "      <td>4</td>\n",
              "      <td>2</td>\n",
              "      <td>24.71</td>\n",
              "    </tr>\n",
              "    <tr>\n",
              "      <th>3</th>\n",
              "      <td>25</td>\n",
              "      <td>Male</td>\n",
              "      <td>53.2</td>\n",
              "      <td>1.70</td>\n",
              "      <td>190</td>\n",
              "      <td>164</td>\n",
              "      <td>56</td>\n",
              "      <td>0.59</td>\n",
              "      <td>532.0</td>\n",
              "      <td>Strength</td>\n",
              "      <td>28.8</td>\n",
              "      <td>2.1</td>\n",
              "      <td>3</td>\n",
              "      <td>1</td>\n",
              "      <td>18.41</td>\n",
              "    </tr>\n",
              "    <tr>\n",
              "      <th>4</th>\n",
              "      <td>38</td>\n",
              "      <td>Male</td>\n",
              "      <td>46.1</td>\n",
              "      <td>1.79</td>\n",
              "      <td>188</td>\n",
              "      <td>158</td>\n",
              "      <td>68</td>\n",
              "      <td>0.64</td>\n",
              "      <td>556.0</td>\n",
              "      <td>Strength</td>\n",
              "      <td>29.2</td>\n",
              "      <td>2.8</td>\n",
              "      <td>3</td>\n",
              "      <td>1</td>\n",
              "      <td>14.39</td>\n",
              "    </tr>\n",
              "  </tbody>\n",
              "</table>\n",
              "</div>\n",
              "    <div class=\"colab-df-buttons\">\n",
              "\n",
              "  <div class=\"colab-df-container\">\n",
              "    <button class=\"colab-df-convert\" onclick=\"convertToInteractive('df-37eb124c-b92c-4e4c-bd20-73a5da697d6c')\"\n",
              "            title=\"Convert this dataframe to an interactive table.\"\n",
              "            style=\"display:none;\">\n",
              "\n",
              "  <svg xmlns=\"http://www.w3.org/2000/svg\" height=\"24px\" viewBox=\"0 -960 960 960\">\n",
              "    <path d=\"M120-120v-720h720v720H120Zm60-500h600v-160H180v160Zm220 220h160v-160H400v160Zm0 220h160v-160H400v160ZM180-400h160v-160H180v160Zm440 0h160v-160H620v160ZM180-180h160v-160H180v160Zm440 0h160v-160H620v160Z\"/>\n",
              "  </svg>\n",
              "    </button>\n",
              "\n",
              "  <style>\n",
              "    .colab-df-container {\n",
              "      display:flex;\n",
              "      gap: 12px;\n",
              "    }\n",
              "\n",
              "    .colab-df-convert {\n",
              "      background-color: #E8F0FE;\n",
              "      border: none;\n",
              "      border-radius: 50%;\n",
              "      cursor: pointer;\n",
              "      display: none;\n",
              "      fill: #1967D2;\n",
              "      height: 32px;\n",
              "      padding: 0 0 0 0;\n",
              "      width: 32px;\n",
              "    }\n",
              "\n",
              "    .colab-df-convert:hover {\n",
              "      background-color: #E2EBFA;\n",
              "      box-shadow: 0px 1px 2px rgba(60, 64, 67, 0.3), 0px 1px 3px 1px rgba(60, 64, 67, 0.15);\n",
              "      fill: #174EA6;\n",
              "    }\n",
              "\n",
              "    .colab-df-buttons div {\n",
              "      margin-bottom: 4px;\n",
              "    }\n",
              "\n",
              "    [theme=dark] .colab-df-convert {\n",
              "      background-color: #3B4455;\n",
              "      fill: #D2E3FC;\n",
              "    }\n",
              "\n",
              "    [theme=dark] .colab-df-convert:hover {\n",
              "      background-color: #434B5C;\n",
              "      box-shadow: 0px 1px 3px 1px rgba(0, 0, 0, 0.15);\n",
              "      filter: drop-shadow(0px 1px 2px rgba(0, 0, 0, 0.3));\n",
              "      fill: #FFFFFF;\n",
              "    }\n",
              "  </style>\n",
              "\n",
              "    <script>\n",
              "      const buttonEl =\n",
              "        document.querySelector('#df-37eb124c-b92c-4e4c-bd20-73a5da697d6c button.colab-df-convert');\n",
              "      buttonEl.style.display =\n",
              "        google.colab.kernel.accessAllowed ? 'block' : 'none';\n",
              "\n",
              "      async function convertToInteractive(key) {\n",
              "        const element = document.querySelector('#df-37eb124c-b92c-4e4c-bd20-73a5da697d6c');\n",
              "        const dataTable =\n",
              "          await google.colab.kernel.invokeFunction('convertToInteractive',\n",
              "                                                    [key], {});\n",
              "        if (!dataTable) return;\n",
              "\n",
              "        const docLinkHtml = 'Like what you see? Visit the ' +\n",
              "          '<a target=\"_blank\" href=https://colab.research.google.com/notebooks/data_table.ipynb>data table notebook</a>'\n",
              "          + ' to learn more about interactive tables.';\n",
              "        element.innerHTML = '';\n",
              "        dataTable['output_type'] = 'display_data';\n",
              "        await google.colab.output.renderOutput(dataTable, element);\n",
              "        const docLink = document.createElement('div');\n",
              "        docLink.innerHTML = docLinkHtml;\n",
              "        element.appendChild(docLink);\n",
              "      }\n",
              "    </script>\n",
              "  </div>\n",
              "\n",
              "\n",
              "<div id=\"df-71210b84-56b8-4857-8660-8f956e30bb35\">\n",
              "  <button class=\"colab-df-quickchart\" onclick=\"quickchart('df-71210b84-56b8-4857-8660-8f956e30bb35')\"\n",
              "            title=\"Suggest charts\"\n",
              "            style=\"display:none;\">\n",
              "\n",
              "<svg xmlns=\"http://www.w3.org/2000/svg\" height=\"24px\"viewBox=\"0 0 24 24\"\n",
              "     width=\"24px\">\n",
              "    <g>\n",
              "        <path d=\"M19 3H5c-1.1 0-2 .9-2 2v14c0 1.1.9 2 2 2h14c1.1 0 2-.9 2-2V5c0-1.1-.9-2-2-2zM9 17H7v-7h2v7zm4 0h-2V7h2v10zm4 0h-2v-4h2v4z\"/>\n",
              "    </g>\n",
              "</svg>\n",
              "  </button>\n",
              "\n",
              "<style>\n",
              "  .colab-df-quickchart {\n",
              "      --bg-color: #E8F0FE;\n",
              "      --fill-color: #1967D2;\n",
              "      --hover-bg-color: #E2EBFA;\n",
              "      --hover-fill-color: #174EA6;\n",
              "      --disabled-fill-color: #AAA;\n",
              "      --disabled-bg-color: #DDD;\n",
              "  }\n",
              "\n",
              "  [theme=dark] .colab-df-quickchart {\n",
              "      --bg-color: #3B4455;\n",
              "      --fill-color: #D2E3FC;\n",
              "      --hover-bg-color: #434B5C;\n",
              "      --hover-fill-color: #FFFFFF;\n",
              "      --disabled-bg-color: #3B4455;\n",
              "      --disabled-fill-color: #666;\n",
              "  }\n",
              "\n",
              "  .colab-df-quickchart {\n",
              "    background-color: var(--bg-color);\n",
              "    border: none;\n",
              "    border-radius: 50%;\n",
              "    cursor: pointer;\n",
              "    display: none;\n",
              "    fill: var(--fill-color);\n",
              "    height: 32px;\n",
              "    padding: 0;\n",
              "    width: 32px;\n",
              "  }\n",
              "\n",
              "  .colab-df-quickchart:hover {\n",
              "    background-color: var(--hover-bg-color);\n",
              "    box-shadow: 0 1px 2px rgba(60, 64, 67, 0.3), 0 1px 3px 1px rgba(60, 64, 67, 0.15);\n",
              "    fill: var(--button-hover-fill-color);\n",
              "  }\n",
              "\n",
              "  .colab-df-quickchart-complete:disabled,\n",
              "  .colab-df-quickchart-complete:disabled:hover {\n",
              "    background-color: var(--disabled-bg-color);\n",
              "    fill: var(--disabled-fill-color);\n",
              "    box-shadow: none;\n",
              "  }\n",
              "\n",
              "  .colab-df-spinner {\n",
              "    border: 2px solid var(--fill-color);\n",
              "    border-color: transparent;\n",
              "    border-bottom-color: var(--fill-color);\n",
              "    animation:\n",
              "      spin 1s steps(1) infinite;\n",
              "  }\n",
              "\n",
              "  @keyframes spin {\n",
              "    0% {\n",
              "      border-color: transparent;\n",
              "      border-bottom-color: var(--fill-color);\n",
              "      border-left-color: var(--fill-color);\n",
              "    }\n",
              "    20% {\n",
              "      border-color: transparent;\n",
              "      border-left-color: var(--fill-color);\n",
              "      border-top-color: var(--fill-color);\n",
              "    }\n",
              "    30% {\n",
              "      border-color: transparent;\n",
              "      border-left-color: var(--fill-color);\n",
              "      border-top-color: var(--fill-color);\n",
              "      border-right-color: var(--fill-color);\n",
              "    }\n",
              "    40% {\n",
              "      border-color: transparent;\n",
              "      border-right-color: var(--fill-color);\n",
              "      border-top-color: var(--fill-color);\n",
              "    }\n",
              "    60% {\n",
              "      border-color: transparent;\n",
              "      border-right-color: var(--fill-color);\n",
              "    }\n",
              "    80% {\n",
              "      border-color: transparent;\n",
              "      border-right-color: var(--fill-color);\n",
              "      border-bottom-color: var(--fill-color);\n",
              "    }\n",
              "    90% {\n",
              "      border-color: transparent;\n",
              "      border-bottom-color: var(--fill-color);\n",
              "    }\n",
              "  }\n",
              "</style>\n",
              "\n",
              "  <script>\n",
              "    async function quickchart(key) {\n",
              "      const quickchartButtonEl =\n",
              "        document.querySelector('#' + key + ' button');\n",
              "      quickchartButtonEl.disabled = true;  // To prevent multiple clicks.\n",
              "      quickchartButtonEl.classList.add('colab-df-spinner');\n",
              "      try {\n",
              "        const charts = await google.colab.kernel.invokeFunction(\n",
              "            'suggestCharts', [key], {});\n",
              "      } catch (error) {\n",
              "        console.error('Error during call to suggestCharts:', error);\n",
              "      }\n",
              "      quickchartButtonEl.classList.remove('colab-df-spinner');\n",
              "      quickchartButtonEl.classList.add('colab-df-quickchart-complete');\n",
              "    }\n",
              "    (() => {\n",
              "      let quickchartButtonEl =\n",
              "        document.querySelector('#df-71210b84-56b8-4857-8660-8f956e30bb35 button');\n",
              "      quickchartButtonEl.style.display =\n",
              "        google.colab.kernel.accessAllowed ? 'block' : 'none';\n",
              "    })();\n",
              "  </script>\n",
              "</div>\n",
              "    </div>\n",
              "  </div>\n"
            ],
            "application/vnd.google.colaboratory.intrinsic+json": {
              "type": "dataframe",
              "variable_name": "data",
              "summary": "{\n  \"name\": \"data\",\n  \"rows\": 973,\n  \"fields\": [\n    {\n      \"column\": \"Age\",\n      \"properties\": {\n        \"dtype\": \"number\",\n        \"std\": 12,\n        \"min\": 18,\n        \"max\": 59,\n        \"num_unique_values\": 42,\n        \"samples\": [\n          26,\n          19,\n          41\n        ],\n        \"semantic_type\": \"\",\n        \"description\": \"\"\n      }\n    },\n    {\n      \"column\": \"Gender\",\n      \"properties\": {\n        \"dtype\": \"category\",\n        \"num_unique_values\": 2,\n        \"samples\": [\n          \"Female\",\n          \"Male\"\n        ],\n        \"semantic_type\": \"\",\n        \"description\": \"\"\n      }\n    },\n    {\n      \"column\": \"Weight (kg)\",\n      \"properties\": {\n        \"dtype\": \"number\",\n        \"std\": 21.20750049840718,\n        \"min\": 40.0,\n        \"max\": 129.9,\n        \"num_unique_values\": 532,\n        \"samples\": [\n          70.3,\n          127.1\n        ],\n        \"semantic_type\": \"\",\n        \"description\": \"\"\n      }\n    },\n    {\n      \"column\": \"Height (m)\",\n      \"properties\": {\n        \"dtype\": \"number\",\n        \"std\": 0.12771989460721703,\n        \"min\": 1.5,\n        \"max\": 2.0,\n        \"num_unique_values\": 51,\n        \"samples\": [\n          1.92,\n          1.96\n        ],\n        \"semantic_type\": \"\",\n        \"description\": \"\"\n      }\n    },\n    {\n      \"column\": \"Max_BPM\",\n      \"properties\": {\n        \"dtype\": \"number\",\n        \"std\": 11,\n        \"min\": 160,\n        \"max\": 199,\n        \"num_unique_values\": 40,\n        \"samples\": [\n          173,\n          199\n        ],\n        \"semantic_type\": \"\",\n        \"description\": \"\"\n      }\n    },\n    {\n      \"column\": \"Avg_BPM\",\n      \"properties\": {\n        \"dtype\": \"number\",\n        \"std\": 14,\n        \"min\": 120,\n        \"max\": 169,\n        \"num_unique_values\": 50,\n        \"samples\": [\n          161,\n          130\n        ],\n        \"semantic_type\": \"\",\n        \"description\": \"\"\n      }\n    },\n    {\n      \"column\": \"Resting_BPM\",\n      \"properties\": {\n        \"dtype\": \"number\",\n        \"std\": 7,\n        \"min\": 50,\n        \"max\": 74,\n        \"num_unique_values\": 25,\n        \"samples\": [\n          52,\n          62\n        ],\n        \"semantic_type\": \"\",\n        \"description\": \"\"\n      }\n    },\n    {\n      \"column\": \"Session_Duration (hours)\",\n      \"properties\": {\n        \"dtype\": \"number\",\n        \"std\": 0.3430334803899634,\n        \"min\": 0.5,\n        \"max\": 2.0,\n        \"num_unique_values\": 147,\n        \"samples\": [\n          1.9,\n          1.81\n        ],\n        \"semantic_type\": \"\",\n        \"description\": \"\"\n      }\n    },\n    {\n      \"column\": \"Calories_Burned\",\n      \"properties\": {\n        \"dtype\": \"number\",\n        \"std\": 272.64151645225877,\n        \"min\": 303.0,\n        \"max\": 1783.0,\n        \"num_unique_values\": 621,\n        \"samples\": [\n          1122.0,\n          494.0\n        ],\n        \"semantic_type\": \"\",\n        \"description\": \"\"\n      }\n    },\n    {\n      \"column\": \"Workout_Type\",\n      \"properties\": {\n        \"dtype\": \"category\",\n        \"num_unique_values\": 4,\n        \"samples\": [\n          \"HIIT\",\n          \"Strength\"\n        ],\n        \"semantic_type\": \"\",\n        \"description\": \"\"\n      }\n    },\n    {\n      \"column\": \"Fat_Percentage\",\n      \"properties\": {\n        \"dtype\": \"number\",\n        \"std\": 6.259418834269056,\n        \"min\": 10.0,\n        \"max\": 35.0,\n        \"num_unique_values\": 239,\n        \"samples\": [\n          26.1,\n          21.3\n        ],\n        \"semantic_type\": \"\",\n        \"description\": \"\"\n      }\n    },\n    {\n      \"column\": \"Water_Intake (liters)\",\n      \"properties\": {\n        \"dtype\": \"number\",\n        \"std\": 0.6001719365613234,\n        \"min\": 1.5,\n        \"max\": 3.7,\n        \"num_unique_values\": 23,\n        \"samples\": [\n          1.8,\n          3.3\n        ],\n        \"semantic_type\": \"\",\n        \"description\": \"\"\n      }\n    },\n    {\n      \"column\": \"Workout_Frequency (days/week)\",\n      \"properties\": {\n        \"dtype\": \"number\",\n        \"std\": 0,\n        \"min\": 2,\n        \"max\": 5,\n        \"num_unique_values\": 4,\n        \"samples\": [\n          3,\n          2\n        ],\n        \"semantic_type\": \"\",\n        \"description\": \"\"\n      }\n    },\n    {\n      \"column\": \"Experience_Level\",\n      \"properties\": {\n        \"dtype\": \"number\",\n        \"std\": 0,\n        \"min\": 1,\n        \"max\": 3,\n        \"num_unique_values\": 3,\n        \"samples\": [\n          3,\n          2\n        ],\n        \"semantic_type\": \"\",\n        \"description\": \"\"\n      }\n    },\n    {\n      \"column\": \"BMI\",\n      \"properties\": {\n        \"dtype\": \"number\",\n        \"std\": 6.660879393631086,\n        \"min\": 12.32,\n        \"max\": 49.84,\n        \"num_unique_values\": 771,\n        \"samples\": [\n          22.67,\n          23.94\n        ],\n        \"semantic_type\": \"\",\n        \"description\": \"\"\n      }\n    }\n  ]\n}"
            }
          },
          "metadata": {},
          "execution_count": 2
        }
      ],
      "source": [
        "data = pd.read_csv(\"gym_members_exercise_tracking.csv\")\n",
        "data.head()"
      ]
    },
    {
      "cell_type": "code",
      "source": [
        "features = data[['Age', 'Weight (kg)', 'Height (m)', 'Max_BPM', 'Avg_BPM',\n",
        "       'Resting_BPM', 'Session_Duration (hours)', 'Calories_Burned',\n",
        "       'Fat_Percentage', 'Water_Intake (liters)',\n",
        "       'Workout_Frequency (days/week)', 'Experience_Level', 'BMI']]\n",
        "\n",
        "scaler = StandardScaler()\n",
        "normalized_features = scaler.fit_transform(features)\n",
        "\n",
        "data[['Age', 'Weight (kg)', 'Height (m)', 'Max_BPM', 'Avg_BPM',\n",
        "       'Resting_BPM', 'Session_Duration (hours)', 'Calories_Burned',\n",
        "       'Fat_Percentage', 'Water_Intake (liters)',\n",
        "       'Workout_Frequency (days/week)', 'Experience_Level', 'BMI']\n",
        "              ] = normalized_features"
      ],
      "metadata": {
        "id": "AyLHXRGdYhlU"
      },
      "execution_count": null,
      "outputs": []
    },
    {
      "cell_type": "code",
      "source": [
        "X = data.drop(columns=['Gender'])\n",
        "y = data.Gender"
      ],
      "metadata": {
        "id": "m9aagOOQHjSP"
      },
      "execution_count": null,
      "outputs": []
    },
    {
      "cell_type": "code",
      "source": [
        "labelencoder = LabelEncoder()\n",
        "X['Workout_Type'] = labelencoder.fit_transform(X['Workout_Type'])\n",
        "y = np.where(y == 'Male', 1, -1)\n",
        "\n",
        "X_train, X_test, y_train, y_test = train_test_split(X, y, test_size=0.3, random_state=42)\n",
        "X_train.head()"
      ],
      "metadata": {
        "colab": {
          "base_uri": "https://localhost:8080/",
          "height": 243
        },
        "id": "ufmYFNe9Yj7y",
        "outputId": "112820e3-5aa4-4654-a91e-8d8ec04083ea"
      },
      "execution_count": null,
      "outputs": [
        {
          "output_type": "execute_result",
          "data": {
            "text/plain": [
              "          Age  Weight (kg)  Height (m)   Max_BPM   Avg_BPM  Resting_BPM  \\\n",
              "514  1.175929    -0.271491   -1.351930 -1.378836 -0.890427     0.379198   \n",
              "583  0.518827    -1.540562   -1.116921  1.312192  1.690177     1.198501   \n",
              "926  0.026000     1.341976    1.703197  1.051770 -0.681189    -1.669061   \n",
              "850  0.765240    -0.224313   -0.960247  0.964962  1.550685    -1.259409   \n",
              "423  0.354552     1.040041    0.998168  0.530926  0.922970     0.242647   \n",
              "\n",
              "     Session_Duration (hours)  Calories_Burned  Workout_Type  Fat_Percentage  \\\n",
              "514                  0.447932        -0.273108             1        0.179538   \n",
              "583                  0.622932         0.754409             1        0.595126   \n",
              "926                 -1.068735        -0.915307             3       -0.331954   \n",
              "850                  0.243765         0.350742             2        0.179538   \n",
              "423                  0.068765         0.328723             3        0.435284   \n",
              "\n",
              "     Water_Intake (liters)  Workout_Frequency (days/week)  Experience_Level  \\\n",
              "514              -0.711193                       0.743295          0.257176   \n",
              "583              -0.044375                      -1.448299         -1.095432   \n",
              "926              -0.377784                      -0.352502         -1.095432   \n",
              "850              -1.044602                       0.743295          0.257176   \n",
              "423               1.289262                      -1.448299         -1.095432   \n",
              "\n",
              "          BMI  \n",
              "514  0.516394  \n",
              "583 -1.263565  \n",
              "926  0.340652  \n",
              "850  0.312112  \n",
              "423  0.466826  "
            ],
            "text/html": [
              "\n",
              "  <div id=\"df-97cd6046-8d1b-4d38-9ba6-8d3ec35dac9a\" class=\"colab-df-container\">\n",
              "    <div>\n",
              "<style scoped>\n",
              "    .dataframe tbody tr th:only-of-type {\n",
              "        vertical-align: middle;\n",
              "    }\n",
              "\n",
              "    .dataframe tbody tr th {\n",
              "        vertical-align: top;\n",
              "    }\n",
              "\n",
              "    .dataframe thead th {\n",
              "        text-align: right;\n",
              "    }\n",
              "</style>\n",
              "<table border=\"1\" class=\"dataframe\">\n",
              "  <thead>\n",
              "    <tr style=\"text-align: right;\">\n",
              "      <th></th>\n",
              "      <th>Age</th>\n",
              "      <th>Weight (kg)</th>\n",
              "      <th>Height (m)</th>\n",
              "      <th>Max_BPM</th>\n",
              "      <th>Avg_BPM</th>\n",
              "      <th>Resting_BPM</th>\n",
              "      <th>Session_Duration (hours)</th>\n",
              "      <th>Calories_Burned</th>\n",
              "      <th>Workout_Type</th>\n",
              "      <th>Fat_Percentage</th>\n",
              "      <th>Water_Intake (liters)</th>\n",
              "      <th>Workout_Frequency (days/week)</th>\n",
              "      <th>Experience_Level</th>\n",
              "      <th>BMI</th>\n",
              "    </tr>\n",
              "  </thead>\n",
              "  <tbody>\n",
              "    <tr>\n",
              "      <th>514</th>\n",
              "      <td>1.175929</td>\n",
              "      <td>-0.271491</td>\n",
              "      <td>-1.351930</td>\n",
              "      <td>-1.378836</td>\n",
              "      <td>-0.890427</td>\n",
              "      <td>0.379198</td>\n",
              "      <td>0.447932</td>\n",
              "      <td>-0.273108</td>\n",
              "      <td>1</td>\n",
              "      <td>0.179538</td>\n",
              "      <td>-0.711193</td>\n",
              "      <td>0.743295</td>\n",
              "      <td>0.257176</td>\n",
              "      <td>0.516394</td>\n",
              "    </tr>\n",
              "    <tr>\n",
              "      <th>583</th>\n",
              "      <td>0.518827</td>\n",
              "      <td>-1.540562</td>\n",
              "      <td>-1.116921</td>\n",
              "      <td>1.312192</td>\n",
              "      <td>1.690177</td>\n",
              "      <td>1.198501</td>\n",
              "      <td>0.622932</td>\n",
              "      <td>0.754409</td>\n",
              "      <td>1</td>\n",
              "      <td>0.595126</td>\n",
              "      <td>-0.044375</td>\n",
              "      <td>-1.448299</td>\n",
              "      <td>-1.095432</td>\n",
              "      <td>-1.263565</td>\n",
              "    </tr>\n",
              "    <tr>\n",
              "      <th>926</th>\n",
              "      <td>0.026000</td>\n",
              "      <td>1.341976</td>\n",
              "      <td>1.703197</td>\n",
              "      <td>1.051770</td>\n",
              "      <td>-0.681189</td>\n",
              "      <td>-1.669061</td>\n",
              "      <td>-1.068735</td>\n",
              "      <td>-0.915307</td>\n",
              "      <td>3</td>\n",
              "      <td>-0.331954</td>\n",
              "      <td>-0.377784</td>\n",
              "      <td>-0.352502</td>\n",
              "      <td>-1.095432</td>\n",
              "      <td>0.340652</td>\n",
              "    </tr>\n",
              "    <tr>\n",
              "      <th>850</th>\n",
              "      <td>0.765240</td>\n",
              "      <td>-0.224313</td>\n",
              "      <td>-0.960247</td>\n",
              "      <td>0.964962</td>\n",
              "      <td>1.550685</td>\n",
              "      <td>-1.259409</td>\n",
              "      <td>0.243765</td>\n",
              "      <td>0.350742</td>\n",
              "      <td>2</td>\n",
              "      <td>0.179538</td>\n",
              "      <td>-1.044602</td>\n",
              "      <td>0.743295</td>\n",
              "      <td>0.257176</td>\n",
              "      <td>0.312112</td>\n",
              "    </tr>\n",
              "    <tr>\n",
              "      <th>423</th>\n",
              "      <td>0.354552</td>\n",
              "      <td>1.040041</td>\n",
              "      <td>0.998168</td>\n",
              "      <td>0.530926</td>\n",
              "      <td>0.922970</td>\n",
              "      <td>0.242647</td>\n",
              "      <td>0.068765</td>\n",
              "      <td>0.328723</td>\n",
              "      <td>3</td>\n",
              "      <td>0.435284</td>\n",
              "      <td>1.289262</td>\n",
              "      <td>-1.448299</td>\n",
              "      <td>-1.095432</td>\n",
              "      <td>0.466826</td>\n",
              "    </tr>\n",
              "  </tbody>\n",
              "</table>\n",
              "</div>\n",
              "    <div class=\"colab-df-buttons\">\n",
              "\n",
              "  <div class=\"colab-df-container\">\n",
              "    <button class=\"colab-df-convert\" onclick=\"convertToInteractive('df-97cd6046-8d1b-4d38-9ba6-8d3ec35dac9a')\"\n",
              "            title=\"Convert this dataframe to an interactive table.\"\n",
              "            style=\"display:none;\">\n",
              "\n",
              "  <svg xmlns=\"http://www.w3.org/2000/svg\" height=\"24px\" viewBox=\"0 -960 960 960\">\n",
              "    <path d=\"M120-120v-720h720v720H120Zm60-500h600v-160H180v160Zm220 220h160v-160H400v160Zm0 220h160v-160H400v160ZM180-400h160v-160H180v160Zm440 0h160v-160H620v160ZM180-180h160v-160H180v160Zm440 0h160v-160H620v160Z\"/>\n",
              "  </svg>\n",
              "    </button>\n",
              "\n",
              "  <style>\n",
              "    .colab-df-container {\n",
              "      display:flex;\n",
              "      gap: 12px;\n",
              "    }\n",
              "\n",
              "    .colab-df-convert {\n",
              "      background-color: #E8F0FE;\n",
              "      border: none;\n",
              "      border-radius: 50%;\n",
              "      cursor: pointer;\n",
              "      display: none;\n",
              "      fill: #1967D2;\n",
              "      height: 32px;\n",
              "      padding: 0 0 0 0;\n",
              "      width: 32px;\n",
              "    }\n",
              "\n",
              "    .colab-df-convert:hover {\n",
              "      background-color: #E2EBFA;\n",
              "      box-shadow: 0px 1px 2px rgba(60, 64, 67, 0.3), 0px 1px 3px 1px rgba(60, 64, 67, 0.15);\n",
              "      fill: #174EA6;\n",
              "    }\n",
              "\n",
              "    .colab-df-buttons div {\n",
              "      margin-bottom: 4px;\n",
              "    }\n",
              "\n",
              "    [theme=dark] .colab-df-convert {\n",
              "      background-color: #3B4455;\n",
              "      fill: #D2E3FC;\n",
              "    }\n",
              "\n",
              "    [theme=dark] .colab-df-convert:hover {\n",
              "      background-color: #434B5C;\n",
              "      box-shadow: 0px 1px 3px 1px rgba(0, 0, 0, 0.15);\n",
              "      filter: drop-shadow(0px 1px 2px rgba(0, 0, 0, 0.3));\n",
              "      fill: #FFFFFF;\n",
              "    }\n",
              "  </style>\n",
              "\n",
              "    <script>\n",
              "      const buttonEl =\n",
              "        document.querySelector('#df-97cd6046-8d1b-4d38-9ba6-8d3ec35dac9a button.colab-df-convert');\n",
              "      buttonEl.style.display =\n",
              "        google.colab.kernel.accessAllowed ? 'block' : 'none';\n",
              "\n",
              "      async function convertToInteractive(key) {\n",
              "        const element = document.querySelector('#df-97cd6046-8d1b-4d38-9ba6-8d3ec35dac9a');\n",
              "        const dataTable =\n",
              "          await google.colab.kernel.invokeFunction('convertToInteractive',\n",
              "                                                    [key], {});\n",
              "        if (!dataTable) return;\n",
              "\n",
              "        const docLinkHtml = 'Like what you see? Visit the ' +\n",
              "          '<a target=\"_blank\" href=https://colab.research.google.com/notebooks/data_table.ipynb>data table notebook</a>'\n",
              "          + ' to learn more about interactive tables.';\n",
              "        element.innerHTML = '';\n",
              "        dataTable['output_type'] = 'display_data';\n",
              "        await google.colab.output.renderOutput(dataTable, element);\n",
              "        const docLink = document.createElement('div');\n",
              "        docLink.innerHTML = docLinkHtml;\n",
              "        element.appendChild(docLink);\n",
              "      }\n",
              "    </script>\n",
              "  </div>\n",
              "\n",
              "\n",
              "<div id=\"df-96fe3672-3429-4d58-b2da-b9e26f368c3c\">\n",
              "  <button class=\"colab-df-quickchart\" onclick=\"quickchart('df-96fe3672-3429-4d58-b2da-b9e26f368c3c')\"\n",
              "            title=\"Suggest charts\"\n",
              "            style=\"display:none;\">\n",
              "\n",
              "<svg xmlns=\"http://www.w3.org/2000/svg\" height=\"24px\"viewBox=\"0 0 24 24\"\n",
              "     width=\"24px\">\n",
              "    <g>\n",
              "        <path d=\"M19 3H5c-1.1 0-2 .9-2 2v14c0 1.1.9 2 2 2h14c1.1 0 2-.9 2-2V5c0-1.1-.9-2-2-2zM9 17H7v-7h2v7zm4 0h-2V7h2v10zm4 0h-2v-4h2v4z\"/>\n",
              "    </g>\n",
              "</svg>\n",
              "  </button>\n",
              "\n",
              "<style>\n",
              "  .colab-df-quickchart {\n",
              "      --bg-color: #E8F0FE;\n",
              "      --fill-color: #1967D2;\n",
              "      --hover-bg-color: #E2EBFA;\n",
              "      --hover-fill-color: #174EA6;\n",
              "      --disabled-fill-color: #AAA;\n",
              "      --disabled-bg-color: #DDD;\n",
              "  }\n",
              "\n",
              "  [theme=dark] .colab-df-quickchart {\n",
              "      --bg-color: #3B4455;\n",
              "      --fill-color: #D2E3FC;\n",
              "      --hover-bg-color: #434B5C;\n",
              "      --hover-fill-color: #FFFFFF;\n",
              "      --disabled-bg-color: #3B4455;\n",
              "      --disabled-fill-color: #666;\n",
              "  }\n",
              "\n",
              "  .colab-df-quickchart {\n",
              "    background-color: var(--bg-color);\n",
              "    border: none;\n",
              "    border-radius: 50%;\n",
              "    cursor: pointer;\n",
              "    display: none;\n",
              "    fill: var(--fill-color);\n",
              "    height: 32px;\n",
              "    padding: 0;\n",
              "    width: 32px;\n",
              "  }\n",
              "\n",
              "  .colab-df-quickchart:hover {\n",
              "    background-color: var(--hover-bg-color);\n",
              "    box-shadow: 0 1px 2px rgba(60, 64, 67, 0.3), 0 1px 3px 1px rgba(60, 64, 67, 0.15);\n",
              "    fill: var(--button-hover-fill-color);\n",
              "  }\n",
              "\n",
              "  .colab-df-quickchart-complete:disabled,\n",
              "  .colab-df-quickchart-complete:disabled:hover {\n",
              "    background-color: var(--disabled-bg-color);\n",
              "    fill: var(--disabled-fill-color);\n",
              "    box-shadow: none;\n",
              "  }\n",
              "\n",
              "  .colab-df-spinner {\n",
              "    border: 2px solid var(--fill-color);\n",
              "    border-color: transparent;\n",
              "    border-bottom-color: var(--fill-color);\n",
              "    animation:\n",
              "      spin 1s steps(1) infinite;\n",
              "  }\n",
              "\n",
              "  @keyframes spin {\n",
              "    0% {\n",
              "      border-color: transparent;\n",
              "      border-bottom-color: var(--fill-color);\n",
              "      border-left-color: var(--fill-color);\n",
              "    }\n",
              "    20% {\n",
              "      border-color: transparent;\n",
              "      border-left-color: var(--fill-color);\n",
              "      border-top-color: var(--fill-color);\n",
              "    }\n",
              "    30% {\n",
              "      border-color: transparent;\n",
              "      border-left-color: var(--fill-color);\n",
              "      border-top-color: var(--fill-color);\n",
              "      border-right-color: var(--fill-color);\n",
              "    }\n",
              "    40% {\n",
              "      border-color: transparent;\n",
              "      border-right-color: var(--fill-color);\n",
              "      border-top-color: var(--fill-color);\n",
              "    }\n",
              "    60% {\n",
              "      border-color: transparent;\n",
              "      border-right-color: var(--fill-color);\n",
              "    }\n",
              "    80% {\n",
              "      border-color: transparent;\n",
              "      border-right-color: var(--fill-color);\n",
              "      border-bottom-color: var(--fill-color);\n",
              "    }\n",
              "    90% {\n",
              "      border-color: transparent;\n",
              "      border-bottom-color: var(--fill-color);\n",
              "    }\n",
              "  }\n",
              "</style>\n",
              "\n",
              "  <script>\n",
              "    async function quickchart(key) {\n",
              "      const quickchartButtonEl =\n",
              "        document.querySelector('#' + key + ' button');\n",
              "      quickchartButtonEl.disabled = true;  // To prevent multiple clicks.\n",
              "      quickchartButtonEl.classList.add('colab-df-spinner');\n",
              "      try {\n",
              "        const charts = await google.colab.kernel.invokeFunction(\n",
              "            'suggestCharts', [key], {});\n",
              "      } catch (error) {\n",
              "        console.error('Error during call to suggestCharts:', error);\n",
              "      }\n",
              "      quickchartButtonEl.classList.remove('colab-df-spinner');\n",
              "      quickchartButtonEl.classList.add('colab-df-quickchart-complete');\n",
              "    }\n",
              "    (() => {\n",
              "      let quickchartButtonEl =\n",
              "        document.querySelector('#df-96fe3672-3429-4d58-b2da-b9e26f368c3c button');\n",
              "      quickchartButtonEl.style.display =\n",
              "        google.colab.kernel.accessAllowed ? 'block' : 'none';\n",
              "    })();\n",
              "  </script>\n",
              "</div>\n",
              "    </div>\n",
              "  </div>\n"
            ],
            "application/vnd.google.colaboratory.intrinsic+json": {
              "type": "dataframe",
              "variable_name": "X_train",
              "summary": "{\n  \"name\": \"X_train\",\n  \"rows\": 681,\n  \"fields\": [\n    {\n      \"column\": \"Age\",\n      \"properties\": {\n        \"dtype\": \"number\",\n        \"std\": 0.9951059033398316,\n        \"min\": -1.698892757981861,\n        \"max\": 1.6687558777533134,\n        \"num_unique_values\": 42,\n        \"samples\": [\n          -1.534617214775267,\n          -1.616754986378564,\n          0.6009648469104533\n        ],\n        \"semantic_type\": \"\",\n        \"description\": \"\"\n      }\n    },\n    {\n      \"column\": \"Weight (kg)\",\n      \"properties\": {\n        \"dtype\": \"number\",\n        \"std\": 0.9913374716602608,\n        \"min\": -1.5971748646950277,\n        \"max\": 2.644071432792229,\n        \"num_unique_values\": 439,\n        \"samples\": [\n          -0.8517722896082797,\n          1.5354030457961165,\n          -1.163142985530592\n        ],\n        \"semantic_type\": \"\",\n        \"description\": \"\"\n      }\n    },\n    {\n      \"column\": \"Height (m)\",\n      \"properties\": {\n        \"dtype\": \"number\",\n        \"std\": 1.0014878184561766,\n        \"min\": -1.7436133777106708,\n        \"max\": 2.1732167846213275,\n        \"num_unique_values\": 51,\n        \"samples\": [\n          1.4681873554015674,\n          -0.17688131277787175,\n          0.7631579261818087\n        ],\n        \"semantic_type\": \"\",\n        \"description\": \"\"\n      }\n    },\n    {\n      \"column\": \"Max_BPM\",\n      \"properties\": {\n        \"dtype\": \"number\",\n        \"std\": 1.0091168780703217,\n        \"min\": -1.7260655979977355,\n        \"max\": 1.659421105223438,\n        \"num_unique_values\": 40,\n        \"samples\": [\n          0.7913475915769832,\n          -0.6843773816219898,\n          0.010081429295173942\n        ],\n        \"semantic_type\": \"\",\n        \"description\": \"\"\n      }\n    },\n    {\n      \"column\": \"Avg_BPM\",\n      \"properties\": {\n        \"dtype\": \"number\",\n        \"std\": 1.0091051678621068,\n        \"min\": -1.6576336913519856,\n        \"max\": 1.7599231303815748,\n        \"num_unique_values\": 50,\n        \"samples\": [\n          -1.5878876337655863,\n          0.783478324171986,\n          -0.9601731154879936\n        ],\n        \"semantic_type\": \"\",\n        \"description\": \"\"\n      }\n    },\n    {\n      \"column\": \"Resting_BPM\",\n      \"properties\": {\n        \"dtype\": \"number\",\n        \"std\": 1.0101684672873366,\n        \"min\": -1.6690606711049476,\n        \"max\": 1.608153218716185,\n        \"num_unique_values\": 25,\n        \"samples\": [\n          -0.030453726194381203,\n          0.6522991675183548,\n          0.37919801003326037\n        ],\n        \"semantic_type\": \"\",\n        \"description\": \"\"\n      }\n    },\n    {\n      \"column\": \"Session_Duration (hours)\",\n      \"properties\": {\n        \"dtype\": \"number\",\n        \"std\": 0.9815655068109724,\n        \"min\": -2.206234908903621,\n        \"max\": 2.139598221369752,\n        \"num_unique_values\": 141,\n        \"samples\": [\n          -1.2145682885727844,\n          -2.1187349129920765,\n          -1.4187349456997214\n        ],\n        \"semantic_type\": \"\",\n        \"description\": \"\"\n      }\n    },\n    {\n      \"column\": \"Calories_Burned\",\n      \"properties\": {\n        \"dtype\": \"number\",\n        \"std\": 0.9850863457522236,\n        \"min\": -2.1519979518771915,\n        \"max\": 3.220451966551672,\n        \"num_unique_values\": 480,\n        \"samples\": [\n          -0.6290698670766599,\n          -2.038237058795706,\n          -1.6896149670943796\n        ],\n        \"semantic_type\": \"\",\n        \"description\": \"\"\n      }\n    },\n    {\n      \"column\": \"Workout_Type\",\n      \"properties\": {\n        \"dtype\": \"number\",\n        \"std\": 1,\n        \"min\": 0,\n        \"max\": 3,\n        \"num_unique_values\": 4,\n        \"samples\": [\n          3,\n          0,\n          1\n        ],\n        \"semantic_type\": \"\",\n        \"description\": \"\"\n      }\n    },\n    {\n      \"column\": \"Fat_Percentage\",\n      \"properties\": {\n        \"dtype\": \"number\",\n        \"std\": 1.0043811314076845,\n        \"min\": -2.3779242059352246,\n        \"max\": 1.6021266596295614,\n        \"num_unique_values\": 222,\n        \"samples\": [\n          1.0746500388920595,\n          -1.8984000052647685,\n          0.5152051381098607\n        ],\n        \"semantic_type\": \"\",\n        \"description\": \"\"\n      }\n    },\n    {\n      \"column\": \"Water_Intake (liters)\",\n      \"properties\": {\n        \"dtype\": \"number\",\n        \"std\": 0.9981301783976437,\n        \"min\": -1.8781252900361465,\n        \"max\": 1.7893760745427407,\n        \"num_unique_values\": 23,\n        \"samples\": [\n          -0.21107921522756157,\n          0.7891484296575896,\n          -0.7111930376701368\n        ],\n        \"semantic_type\": \"\",\n        \"description\": \"\"\n      }\n    },\n    {\n      \"column\": \"Workout_Frequency (days/week)\",\n      \"properties\": {\n        \"dtype\": \"number\",\n        \"std\": 0.9950062420056651,\n        \"min\": -1.4482992188580501,\n        \"max\": 1.8390922429200587,\n        \"num_unique_values\": 4,\n        \"samples\": [\n          -1.4482992188580501,\n          1.8390922429200587,\n          0.7432950889940225\n        ],\n        \"semantic_type\": \"\",\n        \"description\": \"\"\n      }\n    },\n    {\n      \"column\": \"Experience_Level\",\n      \"properties\": {\n        \"dtype\": \"number\",\n        \"std\": 0.9978174205945717,\n        \"min\": -1.095431707633773,\n        \"max\": 1.6097841591877016,\n        \"num_unique_values\": 3,\n        \"samples\": [\n          0.2571762257769643,\n          -1.095431707633773,\n          1.6097841591877016\n        ],\n        \"semantic_type\": \"\",\n        \"description\": \"\"\n      }\n    },\n    {\n      \"column\": \"BMI\",\n      \"properties\": {\n        \"dtype\": \"number\",\n        \"std\": 0.9738138322440242,\n        \"min\": -1.891432416508287,\n        \"max\": 3.5325616528535675,\n        \"num_unique_values\": 569,\n        \"samples\": [\n          -0.5771164899805598,\n          -1.5940214982768697,\n          1.6444529446874496\n        ],\n        \"semantic_type\": \"\",\n        \"description\": \"\"\n      }\n    }\n  ]\n}"
            }
          },
          "metadata": {},
          "execution_count": 45
        }
      ]
    },
    {
      "cell_type": "code",
      "source": [
        "X.dtypes"
      ],
      "metadata": {
        "colab": {
          "base_uri": "https://localhost:8080/",
          "height": 523
        },
        "id": "DPO2VC4WUPUR",
        "outputId": "d35d7b8e-fbf6-47a4-9bef-5857ecc89ce3"
      },
      "execution_count": null,
      "outputs": [
        {
          "output_type": "execute_result",
          "data": {
            "text/plain": [
              "Age                              float64\n",
              "Weight (kg)                      float64\n",
              "Height (m)                       float64\n",
              "Max_BPM                          float64\n",
              "Avg_BPM                          float64\n",
              "Resting_BPM                      float64\n",
              "Session_Duration (hours)         float64\n",
              "Calories_Burned                  float64\n",
              "Workout_Type                       int64\n",
              "Fat_Percentage                   float64\n",
              "Water_Intake (liters)            float64\n",
              "Workout_Frequency (days/week)    float64\n",
              "Experience_Level                 float64\n",
              "BMI                              float64\n",
              "dtype: object"
            ],
            "text/html": [
              "<div>\n",
              "<style scoped>\n",
              "    .dataframe tbody tr th:only-of-type {\n",
              "        vertical-align: middle;\n",
              "    }\n",
              "\n",
              "    .dataframe tbody tr th {\n",
              "        vertical-align: top;\n",
              "    }\n",
              "\n",
              "    .dataframe thead th {\n",
              "        text-align: right;\n",
              "    }\n",
              "</style>\n",
              "<table border=\"1\" class=\"dataframe\">\n",
              "  <thead>\n",
              "    <tr style=\"text-align: right;\">\n",
              "      <th></th>\n",
              "      <th>0</th>\n",
              "    </tr>\n",
              "  </thead>\n",
              "  <tbody>\n",
              "    <tr>\n",
              "      <th>Age</th>\n",
              "      <td>float64</td>\n",
              "    </tr>\n",
              "    <tr>\n",
              "      <th>Weight (kg)</th>\n",
              "      <td>float64</td>\n",
              "    </tr>\n",
              "    <tr>\n",
              "      <th>Height (m)</th>\n",
              "      <td>float64</td>\n",
              "    </tr>\n",
              "    <tr>\n",
              "      <th>Max_BPM</th>\n",
              "      <td>float64</td>\n",
              "    </tr>\n",
              "    <tr>\n",
              "      <th>Avg_BPM</th>\n",
              "      <td>float64</td>\n",
              "    </tr>\n",
              "    <tr>\n",
              "      <th>Resting_BPM</th>\n",
              "      <td>float64</td>\n",
              "    </tr>\n",
              "    <tr>\n",
              "      <th>Session_Duration (hours)</th>\n",
              "      <td>float64</td>\n",
              "    </tr>\n",
              "    <tr>\n",
              "      <th>Calories_Burned</th>\n",
              "      <td>float64</td>\n",
              "    </tr>\n",
              "    <tr>\n",
              "      <th>Workout_Type</th>\n",
              "      <td>int64</td>\n",
              "    </tr>\n",
              "    <tr>\n",
              "      <th>Fat_Percentage</th>\n",
              "      <td>float64</td>\n",
              "    </tr>\n",
              "    <tr>\n",
              "      <th>Water_Intake (liters)</th>\n",
              "      <td>float64</td>\n",
              "    </tr>\n",
              "    <tr>\n",
              "      <th>Workout_Frequency (days/week)</th>\n",
              "      <td>float64</td>\n",
              "    </tr>\n",
              "    <tr>\n",
              "      <th>Experience_Level</th>\n",
              "      <td>float64</td>\n",
              "    </tr>\n",
              "    <tr>\n",
              "      <th>BMI</th>\n",
              "      <td>float64</td>\n",
              "    </tr>\n",
              "  </tbody>\n",
              "</table>\n",
              "</div><br><label><b>dtype:</b> object</label>"
            ]
          },
          "metadata": {},
          "execution_count": 46
        }
      ]
    },
    {
      "cell_type": "code",
      "source": [
        "y[:10]"
      ],
      "metadata": {
        "colab": {
          "base_uri": "https://localhost:8080/"
        },
        "id": "dEumCtSoUVUi",
        "outputId": "f40ca121-5449-4382-a7a4-3cfef4f904dd"
      },
      "execution_count": null,
      "outputs": [
        {
          "output_type": "execute_result",
          "data": {
            "text/plain": [
              "array([ 1, -1, -1,  1,  1, -1,  1, -1,  1,  1])"
            ]
          },
          "metadata": {},
          "execution_count": 47
        }
      ]
    },
    {
      "cell_type": "markdown",
      "source": [
        "## Вычисление отступа объекта"
      ],
      "metadata": {
        "id": "a1aCfBIBaeXk"
      }
    },
    {
      "cell_type": "code",
      "source": [
        "def margin(w, x, y):\n",
        "    return y * np.dot(w, x)"
      ],
      "metadata": {
        "id": "joJyzSV3afgL"
      },
      "execution_count": null,
      "outputs": []
    },
    {
      "cell_type": "code",
      "source": [
        "def visualize_margin(w, X, y, title):\n",
        "    margins = sorted([margin(w, x_i, y_i) for x_i, y_i in zip(X, y)])\n",
        "    plt.bar(range(len(margins)), margins, color=['red' if m < 0 else 'blue' for m in margins])\n",
        "    plt.xlabel('Порядковый номер объекта')\n",
        "    plt.ylabel('Отступ')\n",
        "    plt.title(title)\n",
        "    plt.show()\n",
        "\n",
        "visualize_margin(np.random.rand(X.shape[1]), X.to_numpy(), y, title='Отступы со случайной матрицой весов')"
      ],
      "metadata": {
        "colab": {
          "base_uri": "https://localhost:8080/",
          "height": 472
        },
        "id": "U9kSoaRYanT0",
        "outputId": "fd2f0652-7c83-46c1-d6c9-a1f7a91e3ebe"
      },
      "execution_count": null,
      "outputs": [
        {
          "output_type": "display_data",
          "data": {
            "text/plain": [
              "<Figure size 640x480 with 1 Axes>"
            ],
            "image/png": "[encoded data removed]"
          },
          "metadata": {}
        }
      ]
    },
    {
      "cell_type": "markdown",
      "source": [
        "## Классификатор"
      ],
      "metadata": {
        "id": "UM9f_qYObZyn"
      }
    },
    {
      "cell_type": "markdown",
      "source": [
        "### Метод стохастического градиентного спуска с инерцией"
      ],
      "metadata": {
        "id": "srC1QvGAhuJy"
      }
    },
    {
      "cell_type": "code",
      "source": [
        "MAX_VALUE = 500\n",
        "\n",
        "def clip_gradients(gradient, max_value):\n",
        "    return np.clip(gradient, -max_value, max_value)\n",
        "\n",
        "def l2_penalty_gradient(w, alpha=0):\n",
        "    return alpha * w\n",
        "\n",
        "def compute_loss_gradient(w, x, y, reg_alpha=0):\n",
        "    return clip_gradients(2 * (np.dot(w, x) - y) * x + l2_penalty_gradient(w, reg_alpha), MAX_VALUE)"
      ],
      "metadata": {
        "id": "LWJWx0HLu9H3"
      },
      "execution_count": null,
      "outputs": []
    },
    {
      "cell_type": "markdown",
      "source": [
        "Для дальнейшего сравнение сделал через кол-во эпох, а не до сходимости"
      ],
      "metadata": {
        "id": "EmR0KnBcdefL"
      }
    },
    {
      "cell_type": "code",
      "source": [
        "def sgd_momentum(\n",
        "    X, y, lr=0.01, epochs=50, gamma=0.9, initial_weights=None, reg_alpha=0, selection=None\n",
        "    ):\n",
        "    if initial_weights is None:\n",
        "        w = np.zeros(X.shape[1])\n",
        "    else:\n",
        "        w = initial_weights\n",
        "\n",
        "    v = np.zeros(X.shape[1])\n",
        "\n",
        "    for epoch in range(epochs):\n",
        "        if selection:\n",
        "          X, y = selection(X, y, w)\n",
        "        # выбрать объект xi из Xl случайным образом\n",
        "        indices = np.random.permutation(len(y))\n",
        "        for i in indices:\n",
        "            gradient = compute_loss_gradient(\n",
        "                w, X[i], y[i], reg_alpha=reg_alpha\n",
        "                )\n",
        "            v = gamma * v + lr * gradient\n",
        "            w -= v\n",
        "            # рекуррентный для скорости\n",
        "            Q = (1 - alpha) * Q + alpha * (np.dot(w, X[i]) - y[i]) ** 2\n",
        "\n",
        "    return w"
      ],
      "metadata": {
        "id": "IlZseLa9HwBi"
      },
      "execution_count": null,
      "outputs": []
    },
    {
      "cell_type": "markdown",
      "source": [
        "### Скорейший градиентный спуск"
      ],
      "metadata": {
        "id": "jy7sNXmtm0jM"
      }
    },
    {
      "cell_type": "code",
      "source": [
        "def compute_step_length(x, grad, X, y):\n",
        "    num = np.dot(grad.T, grad)\n",
        "    den = np.dot((X.dot(grad)).T, X.dot(grad))\n",
        "    return num / den if den != 0 else 1.0\n",
        "\n",
        "def steepest_gradient_descent(X, y, epochs, initial_weights=None, selection=None):\n",
        "    if initial_weights is None:\n",
        "        w = np.zeros(X.shape[1])\n",
        "    else:\n",
        "        w = initial_weights\n",
        "\n",
        "    for epoch in range(epochs):\n",
        "        if selection:\n",
        "          X, y = selection(X, y, w)\n",
        "        grad = -2 * X.T.dot(y - X.dot(w))\n",
        "        step_length = compute_step_length(w, grad, X, y)\n",
        "        w -= step_length * grad\n",
        "\n",
        "        if np.linalg.norm(step_length * grad) < 1e-6:\n",
        "            break\n",
        "\n",
        "    return w"
      ],
      "metadata": {
        "id": "CaHvVt7umiH0"
      },
      "execution_count": null,
      "outputs": []
    },
    {
      "cell_type": "markdown",
      "source": [
        "### Предъявление объектов по модулю отступа"
      ],
      "metadata": {
        "id": "1RwZWoJFhoRz"
      }
    },
    {
      "cell_type": "markdown",
      "source": [
        "Выбор объектов для обучения на основе величины их отступа. Объекты с малым абсолютным отступом (т.е., те, которые находятся ближе всего к границе решения) представляют больший интерес, так как они являются наиболее трудными случаями классификации."
      ],
      "metadata": {
        "id": "56tHl6yghlQj"
      }
    },
    {
      "cell_type": "code",
      "source": [
        "def margin_based_presentation(X, y, w):\n",
        "    margins = np.array([margin(w, X[i], y[i]) for i in range(len(X))])\n",
        "    indices = np.argsort(np.abs(margins))\n",
        "    return X[indices], y[indices]"
      ],
      "metadata": {
        "id": "4edUiRrhhgG7"
      },
      "execution_count": null,
      "outputs": []
    },
    {
      "cell_type": "markdown",
      "source": [
        "### Инициализация весов через корреляцию"
      ],
      "metadata": {
        "id": "KJ14F_E2iCFH"
      }
    },
    {
      "cell_type": "code",
      "source": [
        "def correlation_based_initialization(X, y):\n",
        "    return np.array([np.corrcoef(X[:, i], y)[0, 1] for i in range(X.shape[1])])"
      ],
      "metadata": {
        "id": "Y1BFMBt8iLCG"
      },
      "execution_count": null,
      "outputs": []
    },
    {
      "cell_type": "markdown",
      "source": [
        "### Случайная инициализация весов через мультистарт"
      ],
      "metadata": {
        "id": "adkr73-7iZmu"
      }
    },
    {
      "cell_type": "code",
      "source": [
        "def multi_start_training(X, y, method, num_starts=10, epochs=50):\n",
        "    best_w = None\n",
        "    best_loss = np.inf\n",
        "\n",
        "    for _ in range(num_starts):\n",
        "        initial_w = np.random.randn(X.shape[1])\n",
        "        w = method(X, y, epochs=epochs, initial_weights=initial_w)\n",
        "        current_loss = np.mean(np.log(1 + np.exp(-y * (X.dot(w)))))\n",
        "        if current_loss < best_loss:\n",
        "            best_loss = current_loss\n",
        "            best_w = w\n",
        "\n",
        "    return best_w"
      ],
      "metadata": {
        "id": "cd-nTY1ViWec"
      },
      "execution_count": null,
      "outputs": []
    },
    {
      "cell_type": "markdown",
      "source": [
        "### Обучение и оценка качества"
      ],
      "metadata": {
        "id": "JWSoqgnYiiGr"
      }
    },
    {
      "cell_type": "markdown",
      "source": [
        "Моментум:"
      ],
      "metadata": {
        "id": "JWiGbzU-4Hh7"
      }
    },
    {
      "cell_type": "code",
      "source": [
        "w_momentum = sgd_momentum(X_train.to_numpy(), y_train, epochs=100)"
      ],
      "metadata": {
        "id": "62Z4NZhFID7J"
      },
      "execution_count": null,
      "outputs": []
    },
    {
      "cell_type": "code",
      "source": [
        "w_momentum_reg = sgd_momentum(X_train.to_numpy(), y_train, epochs=100, reg_alpha=0.01)"
      ],
      "metadata": {
        "id": "-AtK9p5R9ACY"
      },
      "execution_count": null,
      "outputs": []
    },
    {
      "cell_type": "code",
      "source": [
        "w_momentum_corr = sgd_momentum(\n",
        "    X_train.to_numpy(),\n",
        "    y_train,\n",
        "    initial_weights=correlation_based_initialization(\n",
        "        X_train.to_numpy(), y_train\n",
        "        ),\n",
        "    epochs=100\n",
        "    )"
      ],
      "metadata": {
        "id": "8rbaxG5is8t0"
      },
      "execution_count": null,
      "outputs": []
    },
    {
      "cell_type": "code",
      "source": [
        "w_momentum_multistart = multi_start_training(X_train.to_numpy(), y_train, method=sgd_momentum, epochs=100)"
      ],
      "metadata": {
        "colab": {
          "base_uri": "https://localhost:8080/"
        },
        "id": "md9lO2iCzcxO",
        "outputId": "16a94e24-d444-49d8-cabe-a2e5bb62a891"
      },
      "execution_count": null,
      "outputs": [
        {
          "output_type": "stream",
          "name": "stderr",
          "text": [
            "<ipython-input-142-f4ac264a85d5>:8: RuntimeWarning: overflow encountered in exp\n",
            "  current_loss = np.mean(np.log(1 + np.exp(-y * (X.dot(w)))))\n"
          ]
        }
      ]
    },
    {
      "cell_type": "code",
      "source": [
        "w_momentum_selection = sgd_momentum(X_train.to_numpy(), y_train, epochs=100, selection=margin_based_presentation)"
      ],
      "metadata": {
        "id": "m90zBPDd3w5e"
      },
      "execution_count": null,
      "outputs": []
    },
    {
      "cell_type": "markdown",
      "source": [
        "Наискорейший спуск:"
      ],
      "metadata": {
        "id": "ry4e1Fx94Jta"
      }
    },
    {
      "cell_type": "code",
      "source": [
        "w_steepest = steepest_gradient_descent(X, y, 100)"
      ],
      "metadata": {
        "id": "coX02v7Mr2VM"
      },
      "execution_count": null,
      "outputs": []
    },
    {
      "cell_type": "code",
      "source": [
        "w_steepest_corr = steepest_gradient_descent(\n",
        "    X, y, 100, initial_weights=correlation_based_initialization(\n",
        "        X_train.to_numpy(), y_train\n",
        "        )\n",
        "    )"
      ],
      "metadata": {
        "id": "oRt17FmgyyXW"
      },
      "execution_count": null,
      "outputs": []
    },
    {
      "cell_type": "code",
      "source": [
        "w_steepest_multistart = multi_start_training(X_train.to_numpy(), y_train, method=steepest_gradient_descent, epochs=100)"
      ],
      "metadata": {
        "id": "7ukNqnwBziSi"
      },
      "execution_count": null,
      "outputs": []
    },
    {
      "cell_type": "code",
      "source": [
        "w_steepest_selection = steepest_gradient_descent(X_train.to_numpy(), y_train, epochs=100, selection=margin_based_presentation)"
      ],
      "metadata": {
        "id": "JpsLTSpd35dv"
      },
      "execution_count": null,
      "outputs": []
    },
    {
      "cell_type": "markdown",
      "source": [
        "Метод оценки качества:"
      ],
      "metadata": {
        "id": "U_sNa7yc4Rcf"
      }
    },
    {
      "cell_type": "code",
      "source": [
        "def predict(w, X):\n",
        "    return np.sign(np.dot(X, w))\n",
        "\n",
        "def quality(w, X, y):\n",
        "  predictions = predict(w, X)\n",
        "  print('Точность классификации:', accuracy_score(y, predictions))"
      ],
      "metadata": {
        "id": "end5K_HTIEfd"
      },
      "execution_count": null,
      "outputs": []
    },
    {
      "cell_type": "markdown",
      "source": [
        "Моментум:"
      ],
      "metadata": {
        "id": "FHq3o55a4XRn"
      }
    },
    {
      "cell_type": "code",
      "source": [
        "quality(w_momentum, X_test, y_test)"
      ],
      "metadata": {
        "colab": {
          "base_uri": "https://localhost:8080/"
        },
        "id": "17G47qG4seNv",
        "outputId": "82e471f5-afef-499c-c8a7-604774484aad"
      },
      "execution_count": null,
      "outputs": [
        {
          "output_type": "stream",
          "name": "stdout",
          "text": [
            "Точность классификации: 0.4589041095890411\n"
          ]
        }
      ]
    },
    {
      "cell_type": "code",
      "source": [
        "quality(w_momentum_reg, X_test, y_test)"
      ],
      "metadata": {
        "colab": {
          "base_uri": "https://localhost:8080/"
        },
        "id": "cH2bO9rY9RqK",
        "outputId": "04e21aa3-9848-4541-800a-801c6f9aaa03"
      },
      "execution_count": null,
      "outputs": [
        {
          "output_type": "stream",
          "name": "stdout",
          "text": [
            "Точность классификации: 0.6232876712328768\n"
          ]
        }
      ]
    },
    {
      "cell_type": "code",
      "source": [
        "quality(w_momentum_corr, X_test, y_test)"
      ],
      "metadata": {
        "colab": {
          "base_uri": "https://localhost:8080/"
        },
        "id": "xEMDkzlvtuyH",
        "outputId": "2ae3df3a-f788-4715-9db9-a01bfc05591f"
      },
      "execution_count": null,
      "outputs": [
        {
          "output_type": "stream",
          "name": "stdout",
          "text": [
            "Точность классификации: 0.678082191780822\n"
          ]
        }
      ]
    },
    {
      "cell_type": "code",
      "source": [
        "quality(w_momentum_multistart, X_test, y_test)"
      ],
      "metadata": {
        "colab": {
          "base_uri": "https://localhost:8080/"
        },
        "id": "tXNojOsl0Jcc",
        "outputId": "97487140-d237-4a1b-df30-9c6507a57f77"
      },
      "execution_count": null,
      "outputs": [
        {
          "output_type": "stream",
          "name": "stdout",
          "text": [
            "Точность классификации: 0.6917808219178082\n"
          ]
        }
      ]
    },
    {
      "cell_type": "code",
      "source": [
        "quality(w_momentum_selection, X_test, y_test)"
      ],
      "metadata": {
        "colab": {
          "base_uri": "https://localhost:8080/"
        },
        "id": "ikvXMKKI4db2",
        "outputId": "a9bfd600-2648-47b7-b207-cfae4739263a"
      },
      "execution_count": null,
      "outputs": [
        {
          "output_type": "stream",
          "name": "stdout",
          "text": [
            "Точность классификации: 0.702054794520548\n"
          ]
        }
      ]
    },
    {
      "cell_type": "code",
      "source": [
        "visualize_margin(w_momentum_selection, X.to_numpy(), y, title=\"Отступы для моментума с предъявлением\")"
      ],
      "metadata": {
        "colab": {
          "base_uri": "https://localhost:8080/",
          "height": 472
        },
        "id": "W8R4uEtW_MrD",
        "outputId": "55cd1fbc-d110-4d1b-e150-32ec338e9510"
      },
      "execution_count": null,
      "outputs": [
        {
          "output_type": "display_data",
          "data": {
            "text/plain": [
              "<Figure size 640x480 with 1 Axes>"
            ],
            "image/png": "[encoded data removed]"
          },
          "metadata": {}
        }
      ]
    },
    {
      "cell_type": "code",
      "source": [
        "(\n",
        "    np.linalg.norm(w_momentum),\n",
        "    np.linalg.norm(w_momentum_reg),\n",
        "    np.linalg.norm(w_momentum_corr),\n",
        "    np.linalg.norm(w_momentum_multistart),\n",
        "    np.linalg.norm(w_momentum_selection)\n",
        ")"
      ],
      "metadata": {
        "colab": {
          "base_uri": "https://localhost:8080/"
        },
        "id": "DDoqQA9eAOcV",
        "outputId": "d47a9d72-6c79-468b-8d92-ee8671e19aa3"
      },
      "execution_count": null,
      "outputs": [
        {
          "output_type": "execute_result",
          "data": {
            "text/plain": [
              "(489.74929841268585,\n",
              " 147.76011690791185,\n",
              " 481.6858516262057,\n",
              " 412.02530768546546,\n",
              " 173.95312983547805)"
            ]
          },
          "metadata": {},
          "execution_count": 181
        }
      ]
    },
    {
      "cell_type": "code",
      "source": [
        "w_momentum_soft = sgd_momentum(X_train.to_numpy(), y_train, epochs=100, gamma=0.5, lr=0.001)\n",
        "quality(w_momentum_soft, X_test, y_test)"
      ],
      "metadata": {
        "colab": {
          "base_uri": "https://localhost:8080/"
        },
        "id": "vWcg1LKCA7Be",
        "outputId": "05b9a821-8091-42b4-a814-826092331c83"
      },
      "execution_count": null,
      "outputs": [
        {
          "output_type": "stream",
          "name": "stdout",
          "text": [
            "Точность классификации: 0.9657534246575342\n"
          ]
        }
      ]
    },
    {
      "cell_type": "code",
      "source": [
        "np.linalg.norm(w_momentum_soft)"
      ],
      "metadata": {
        "colab": {
          "base_uri": "https://localhost:8080/"
        },
        "id": "Fj5kEspDBCrB",
        "outputId": "efff135b-692d-485a-c6d6-1bcdd0fc1ae6"
      },
      "execution_count": null,
      "outputs": [
        {
          "output_type": "execute_result",
          "data": {
            "text/plain": [
              "2.5945124003080924"
            ]
          },
          "metadata": {},
          "execution_count": 184
        }
      ]
    },
    {
      "cell_type": "code",
      "source": [
        "w_momentum_reg_soft = sgd_momentum(X_train.to_numpy(), y_train, epochs=100, gamma=0.5, lr=0.001, reg_alpha=0.01)\n",
        "quality(w_momentum_reg_soft, X_test, y_test)"
      ],
      "metadata": {
        "colab": {
          "base_uri": "https://localhost:8080/"
        },
        "id": "4hrPOMwWBN31",
        "outputId": "9636f06e-2434-403b-d944-2f278889cbdf"
      },
      "execution_count": null,
      "outputs": [
        {
          "output_type": "stream",
          "name": "stdout",
          "text": [
            "Точность классификации: 0.9691780821917808\n"
          ]
        }
      ]
    },
    {
      "cell_type": "code",
      "source": [
        "np.linalg.norm(w_momentum_reg_soft)"
      ],
      "metadata": {
        "colab": {
          "base_uri": "https://localhost:8080/"
        },
        "id": "sOe4VxO_BbHB",
        "outputId": "2a968b67-b08b-43f5-f625-cfaea67b1ee0"
      },
      "execution_count": null,
      "outputs": [
        {
          "output_type": "execute_result",
          "data": {
            "text/plain": [
              "2.028510574394303"
            ]
          },
          "metadata": {},
          "execution_count": 187
        }
      ]
    },
    {
      "cell_type": "markdown",
      "source": [
        "Наискорейший спуск:"
      ],
      "metadata": {
        "id": "nMXGPSD_4bhQ"
      }
    },
    {
      "cell_type": "code",
      "source": [
        "quality(w_steepest, X_test, y_test)"
      ],
      "metadata": {
        "colab": {
          "base_uri": "https://localhost:8080/"
        },
        "id": "FhSIN2oRskjf",
        "outputId": "d9d07376-d35f-46ad-fcc9-353f52ba0d7f"
      },
      "execution_count": null,
      "outputs": [
        {
          "output_type": "stream",
          "name": "stdout",
          "text": [
            "Точность классификации: 0.6952054794520548\n"
          ]
        }
      ]
    },
    {
      "cell_type": "code",
      "source": [
        "quality(w_steepest_corr, X_test, y_test)"
      ],
      "metadata": {
        "colab": {
          "base_uri": "https://localhost:8080/"
        },
        "id": "MhUy7DF_y67i",
        "outputId": "286bd801-8bfd-499d-8908-f07c0026e2c9"
      },
      "execution_count": null,
      "outputs": [
        {
          "output_type": "stream",
          "name": "stdout",
          "text": [
            "Точность классификации: 0.8253424657534246\n"
          ]
        }
      ]
    },
    {
      "cell_type": "code",
      "source": [
        "quality(w_steepest_multistart, X_test, y_test)"
      ],
      "metadata": {
        "colab": {
          "base_uri": "https://localhost:8080/"
        },
        "id": "nDmPvfGa0s2b",
        "outputId": "1a53fdcc-28d8-49a6-a9f2-7c58f1fd89e4"
      },
      "execution_count": null,
      "outputs": [
        {
          "output_type": "stream",
          "name": "stdout",
          "text": [
            "Точность классификации: 0.7773972602739726\n"
          ]
        }
      ]
    },
    {
      "cell_type": "code",
      "source": [
        "quality(w_steepest_selection, X_test, y_test)"
      ],
      "metadata": {
        "colab": {
          "base_uri": "https://localhost:8080/"
        },
        "id": "3hbP2jOA4k4j",
        "outputId": "df7401d9-9f4e-471d-9813-42204ac47576"
      },
      "execution_count": null,
      "outputs": [
        {
          "output_type": "stream",
          "name": "stdout",
          "text": [
            "Точность классификации: 0.6917808219178082\n"
          ]
        }
      ]
    },
    {
      "cell_type": "code",
      "source": [
        "visualize_margin(w_steepest_corr, X.to_numpy(), y, title=\"Отступы для наискорешего спуска с корреляций\")"
      ],
      "metadata": {
        "colab": {
          "base_uri": "https://localhost:8080/",
          "height": 472
        },
        "id": "IV_975Lm_N7Y",
        "outputId": "4ef8a702-46c6-4365-f916-4ff26b8d647e"
      },
      "execution_count": null,
      "outputs": [
        {
          "output_type": "display_data",
          "data": {
            "text/plain": [
              "<Figure size 640x480 with 1 Axes>"
            ],
            "image/png": "[encoded data removed]"
          },
          "metadata": {}
        }
      ]
    },
    {
      "cell_type": "code",
      "source": [
        "(\n",
        "    np.linalg.norm(w_steepest),\n",
        "    np.linalg.norm(w_steepest_corr),\n",
        "    np.linalg.norm(w_steepest_multistart),\n",
        "    np.linalg.norm(w_steepest_selection)\n",
        ")"
      ],
      "metadata": {
        "colab": {
          "base_uri": "https://localhost:8080/"
        },
        "id": "CL3kO79vAndk",
        "outputId": "996aed13-6d3b-43b1-befa-25f2466c72b8"
      },
      "execution_count": null,
      "outputs": [
        {
          "output_type": "execute_result",
          "data": {
            "text/plain": [
              "(1.4583933423345896, 1.5932927471394165, 1.7662789871700493, 1.54599689257615)"
            ]
          },
          "metadata": {},
          "execution_count": 182
        }
      ]
    },
    {
      "cell_type": "markdown",
      "source": [
        "## Библиотечная версия"
      ],
      "metadata": {
        "id": "NRzs0lhQipIe"
      }
    },
    {
      "cell_type": "code",
      "source": [
        "lib_clf = SGDClassifier(loss=\"squared_error\", penalty=\"l2\", max_iter=100)\n",
        "lib_clf.fit(X_train, y_train)"
      ],
      "metadata": {
        "colab": {
          "base_uri": "https://localhost:8080/",
          "height": 135
        },
        "id": "m3548bQT71x0",
        "outputId": "c6576af0-6dc9-478e-f53b-69c8c623be1a"
      },
      "execution_count": null,
      "outputs": [
        {
          "output_type": "stream",
          "name": "stderr",
          "text": [
            "/usr/local/lib/python3.10/dist-packages/sklearn/linear_model/_stochastic_gradient.py:744: ConvergenceWarning: Maximum number of iteration reached before convergence. Consider increasing max_iter to improve the fit.\n",
            "  warnings.warn(\n"
          ]
        },
        {
          "output_type": "execute_result",
          "data": {
            "text/plain": [
              "SGDClassifier(loss='squared_error', max_iter=100)"
            ],
            "text/html": [
              "<style>#sk-container-id-4 {\n",
              "  /* Definition of color scheme common for light and dark mode */\n",
              "  --sklearn-color-text: black;\n",
              "  --sklearn-color-line: gray;\n",
              "  /* Definition of color scheme for unfitted estimators */\n",
              "  --sklearn-color-unfitted-level-0: #fff5e6;\n",
              "  --sklearn-color-unfitted-level-1: #f6e4d2;\n",
              "  --sklearn-color-unfitted-level-2: #ffe0b3;\n",
              "  --sklearn-color-unfitted-level-3: chocolate;\n",
              "  /* Definition of color scheme for fitted estimators */\n",
              "  --sklearn-color-fitted-level-0: #f0f8ff;\n",
              "  --sklearn-color-fitted-level-1: #d4ebff;\n",
              "  --sklearn-color-fitted-level-2: #b3dbfd;\n",
              "  --sklearn-color-fitted-level-3: cornflowerblue;\n",
              "\n",
              "  /* Specific color for light theme */\n",
              "  --sklearn-color-text-on-default-background: var(--sg-text-color, var(--theme-code-foreground, var(--jp-content-font-color1, black)));\n",
              "  --sklearn-color-background: var(--sg-background-color, var(--theme-background, var(--jp-layout-color0, white)));\n",
              "  --sklearn-color-border-box: var(--sg-text-color, var(--theme-code-foreground, var(--jp-content-font-color1, black)));\n",
              "  --sklearn-color-icon: #696969;\n",
              "\n",
              "  @media (prefers-color-scheme: dark) {\n",
              "    /* Redefinition of color scheme for dark theme */\n",
              "    --sklearn-color-text-on-default-background: var(--sg-text-color, var(--theme-code-foreground, var(--jp-content-font-color1, white)));\n",
              "    --sklearn-color-background: var(--sg-background-color, var(--theme-background, var(--jp-layout-color0, #111)));\n",
              "    --sklearn-color-border-box: var(--sg-text-color, var(--theme-code-foreground, var(--jp-content-font-color1, white)));\n",
              "    --sklearn-color-icon: #878787;\n",
              "  }\n",
              "}\n",
              "\n",
              "#sk-container-id-4 {\n",
              "  color: var(--sklearn-color-text);\n",
              "}\n",
              "\n",
              "#sk-container-id-4 pre {\n",
              "  padding: 0;\n",
              "}\n",
              "\n",
              "#sk-container-id-4 input.sk-hidden--visually {\n",
              "  border: 0;\n",
              "  clip: rect(1px 1px 1px 1px);\n",
              "  clip: rect(1px, 1px, 1px, 1px);\n",
              "  height: 1px;\n",
              "  margin: -1px;\n",
              "  overflow: hidden;\n",
              "  padding: 0;\n",
              "  position: absolute;\n",
              "  width: 1px;\n",
              "}\n",
              "\n",
              "#sk-container-id-4 div.sk-dashed-wrapped {\n",
              "  border: 1px dashed var(--sklearn-color-line);\n",
              "  margin: 0 0.4em 0.5em 0.4em;\n",
              "  box-sizing: border-box;\n",
              "  padding-bottom: 0.4em;\n",
              "  background-color: var(--sklearn-color-background);\n",
              "}\n",
              "\n",
              "#sk-container-id-4 div.sk-container {\n",
              "  /* jupyter's `normalize.less` sets `[hidden] { display: none; }`\n",
              "     but bootstrap.min.css set `[hidden] { display: none !important; }`\n",
              "     so we also need the `!important` here to be able to override the\n",
              "     default hidden behavior on the sphinx rendered scikit-learn.org.\n",
              "     See: https://github.com/scikit-learn/scikit-learn/issues/21755 */\n",
              "  display: inline-block !important;\n",
              "  position: relative;\n",
              "}\n",
              "\n",
              "#sk-container-id-4 div.sk-text-repr-fallback {\n",
              "  display: none;\n",
              "}\n",
              "\n",
              "div.sk-parallel-item,\n",
              "div.sk-serial,\n",
              "div.sk-item {\n",
              "  /* draw centered vertical line to link estimators */\n",
              "  background-image: linear-gradient(var(--sklearn-color-text-on-default-background), var(--sklearn-color-text-on-default-background));\n",
              "  background-size: 2px 100%;\n",
              "  background-repeat: no-repeat;\n",
              "  background-position: center center;\n",
              "}\n",
              "\n",
              "/* Parallel-specific style estimator block */\n",
              "\n",
              "#sk-container-id-4 div.sk-parallel-item::after {\n",
              "  content: \"\";\n",
              "  width: 100%;\n",
              "  border-bottom: 2px solid var(--sklearn-color-text-on-default-background);\n",
              "  flex-grow: 1;\n",
              "}\n",
              "\n",
              "#sk-container-id-4 div.sk-parallel {\n",
              "  display: flex;\n",
              "  align-items: stretch;\n",
              "  justify-content: center;\n",
              "  background-color: var(--sklearn-color-background);\n",
              "  position: relative;\n",
              "}\n",
              "\n",
              "#sk-container-id-4 div.sk-parallel-item {\n",
              "  display: flex;\n",
              "  flex-direction: column;\n",
              "}\n",
              "\n",
              "#sk-container-id-4 div.sk-parallel-item:first-child::after {\n",
              "  align-self: flex-end;\n",
              "  width: 50%;\n",
              "}\n",
              "\n",
              "#sk-container-id-4 div.sk-parallel-item:last-child::after {\n",
              "  align-self: flex-start;\n",
              "  width: 50%;\n",
              "}\n",
              "\n",
              "#sk-container-id-4 div.sk-parallel-item:only-child::after {\n",
              "  width: 0;\n",
              "}\n",
              "\n",
              "/* Serial-specific style estimator block */\n",
              "\n",
              "#sk-container-id-4 div.sk-serial {\n",
              "  display: flex;\n",
              "  flex-direction: column;\n",
              "  align-items: center;\n",
              "  background-color: var(--sklearn-color-background);\n",
              "  padding-right: 1em;\n",
              "  padding-left: 1em;\n",
              "}\n",
              "\n",
              "\n",
              "/* Toggleable style: style used for estimator/Pipeline/ColumnTransformer box that is\n",
              "clickable and can be expanded/collapsed.\n",
              "- Pipeline and ColumnTransformer use this feature and define the default style\n",
              "- Estimators will overwrite some part of the style using the `sk-estimator` class\n",
              "*/\n",
              "\n",
              "/* Pipeline and ColumnTransformer style (default) */\n",
              "\n",
              "#sk-container-id-4 div.sk-toggleable {\n",
              "  /* Default theme specific background. It is overwritten whether we have a\n",
              "  specific estimator or a Pipeline/ColumnTransformer */\n",
              "  background-color: var(--sklearn-color-background);\n",
              "}\n",
              "\n",
              "/* Toggleable label */\n",
              "#sk-container-id-4 label.sk-toggleable__label {\n",
              "  cursor: pointer;\n",
              "  display: block;\n",
              "  width: 100%;\n",
              "  margin-bottom: 0;\n",
              "  padding: 0.5em;\n",
              "  box-sizing: border-box;\n",
              "  text-align: center;\n",
              "}\n",
              "\n",
              "#sk-container-id-4 label.sk-toggleable__label-arrow:before {\n",
              "  /* Arrow on the left of the label */\n",
              "  content: \"▸\";\n",
              "  float: left;\n",
              "  margin-right: 0.25em;\n",
              "  color: var(--sklearn-color-icon);\n",
              "}\n",
              "\n",
              "#sk-container-id-4 label.sk-toggleable__label-arrow:hover:before {\n",
              "  color: var(--sklearn-color-text);\n",
              "}\n",
              "\n",
              "/* Toggleable content - dropdown */\n",
              "\n",
              "#sk-container-id-4 div.sk-toggleable__content {\n",
              "  max-height: 0;\n",
              "  max-width: 0;\n",
              "  overflow: hidden;\n",
              "  text-align: left;\n",
              "  /* unfitted */\n",
              "  background-color: var(--sklearn-color-unfitted-level-0);\n",
              "}\n",
              "\n",
              "#sk-container-id-4 div.sk-toggleable__content.fitted {\n",
              "  /* fitted */\n",
              "  background-color: var(--sklearn-color-fitted-level-0);\n",
              "}\n",
              "\n",
              "#sk-container-id-4 div.sk-toggleable__content pre {\n",
              "  margin: 0.2em;\n",
              "  border-radius: 0.25em;\n",
              "  color: var(--sklearn-color-text);\n",
              "  /* unfitted */\n",
              "  background-color: var(--sklearn-color-unfitted-level-0);\n",
              "}\n",
              "\n",
              "#sk-container-id-4 div.sk-toggleable__content.fitted pre {\n",
              "  /* unfitted */\n",
              "  background-color: var(--sklearn-color-fitted-level-0);\n",
              "}\n",
              "\n",
              "#sk-container-id-4 input.sk-toggleable__control:checked~div.sk-toggleable__content {\n",
              "  /* Expand drop-down */\n",
              "  max-height: 200px;\n",
              "  max-width: 100%;\n",
              "  overflow: auto;\n",
              "}\n",
              "\n",
              "#sk-container-id-4 input.sk-toggleable__control:checked~label.sk-toggleable__label-arrow:before {\n",
              "  content: \"▾\";\n",
              "}\n",
              "\n",
              "/* Pipeline/ColumnTransformer-specific style */\n",
              "\n",
              "#sk-container-id-4 div.sk-label input.sk-toggleable__control:checked~label.sk-toggleable__label {\n",
              "  color: var(--sklearn-color-text);\n",
              "  background-color: var(--sklearn-color-unfitted-level-2);\n",
              "}\n",
              "\n",
              "#sk-container-id-4 div.sk-label.fitted input.sk-toggleable__control:checked~label.sk-toggleable__label {\n",
              "  background-color: var(--sklearn-color-fitted-level-2);\n",
              "}\n",
              "\n",
              "/* Estimator-specific style */\n",
              "\n",
              "/* Colorize estimator box */\n",
              "#sk-container-id-4 div.sk-estimator input.sk-toggleable__control:checked~label.sk-toggleable__label {\n",
              "  /* unfitted */\n",
              "  background-color: var(--sklearn-color-unfitted-level-2);\n",
              "}\n",
              "\n",
              "#sk-container-id-4 div.sk-estimator.fitted input.sk-toggleable__control:checked~label.sk-toggleable__label {\n",
              "  /* fitted */\n",
              "  background-color: var(--sklearn-color-fitted-level-2);\n",
              "}\n",
              "\n",
              "#sk-container-id-4 div.sk-label label.sk-toggleable__label,\n",
              "#sk-container-id-4 div.sk-label label {\n",
              "  /* The background is the default theme color */\n",
              "  color: var(--sklearn-color-text-on-default-background);\n",
              "}\n",
              "\n",
              "/* On hover, darken the color of the background */\n",
              "#sk-container-id-4 div.sk-label:hover label.sk-toggleable__label {\n",
              "  color: var(--sklearn-color-text);\n",
              "  background-color: var(--sklearn-color-unfitted-level-2);\n",
              "}\n",
              "\n",
              "/* Label box, darken color on hover, fitted */\n",
              "#sk-container-id-4 div.sk-label.fitted:hover label.sk-toggleable__label.fitted {\n",
              "  color: var(--sklearn-color-text);\n",
              "  background-color: var(--sklearn-color-fitted-level-2);\n",
              "}\n",
              "\n",
              "/* Estimator label */\n",
              "\n",
              "#sk-container-id-4 div.sk-label label {\n",
              "  font-family: monospace;\n",
              "  font-weight: bold;\n",
              "  display: inline-block;\n",
              "  line-height: 1.2em;\n",
              "}\n",
              "\n",
              "#sk-container-id-4 div.sk-label-container {\n",
              "  text-align: center;\n",
              "}\n",
              "\n",
              "/* Estimator-specific */\n",
              "#sk-container-id-4 div.sk-estimator {\n",
              "  font-family: monospace;\n",
              "  border: 1px dotted var(--sklearn-color-border-box);\n",
              "  border-radius: 0.25em;\n",
              "  box-sizing: border-box;\n",
              "  margin-bottom: 0.5em;\n",
              "  /* unfitted */\n",
              "  background-color: var(--sklearn-color-unfitted-level-0);\n",
              "}\n",
              "\n",
              "#sk-container-id-4 div.sk-estimator.fitted {\n",
              "  /* fitted */\n",
              "  background-color: var(--sklearn-color-fitted-level-0);\n",
              "}\n",
              "\n",
              "/* on hover */\n",
              "#sk-container-id-4 div.sk-estimator:hover {\n",
              "  /* unfitted */\n",
              "  background-color: var(--sklearn-color-unfitted-level-2);\n",
              "}\n",
              "\n",
              "#sk-container-id-4 div.sk-estimator.fitted:hover {\n",
              "  /* fitted */\n",
              "  background-color: var(--sklearn-color-fitted-level-2);\n",
              "}\n",
              "\n",
              "/* Specification for estimator info (e.g. \"i\" and \"?\") */\n",
              "\n",
              "/* Common style for \"i\" and \"?\" */\n",
              "\n",
              ".sk-estimator-doc-link,\n",
              "a:link.sk-estimator-doc-link,\n",
              "a:visited.sk-estimator-doc-link {\n",
              "  float: right;\n",
              "  font-size: smaller;\n",
              "  line-height: 1em;\n",
              "  font-family: monospace;\n",
              "  background-color: var(--sklearn-color-background);\n",
              "  border-radius: 1em;\n",
              "  height: 1em;\n",
              "  width: 1em;\n",
              "  text-decoration: none !important;\n",
              "  margin-left: 1ex;\n",
              "  /* unfitted */\n",
              "  border: var(--sklearn-color-unfitted-level-1) 1pt solid;\n",
              "  color: var(--sklearn-color-unfitted-level-1);\n",
              "}\n",
              "\n",
              ".sk-estimator-doc-link.fitted,\n",
              "a:link.sk-estimator-doc-link.fitted,\n",
              "a:visited.sk-estimator-doc-link.fitted {\n",
              "  /* fitted */\n",
              "  border: var(--sklearn-color-fitted-level-1) 1pt solid;\n",
              "  color: var(--sklearn-color-fitted-level-1);\n",
              "}\n",
              "\n",
              "/* On hover */\n",
              "div.sk-estimator:hover .sk-estimator-doc-link:hover,\n",
              ".sk-estimator-doc-link:hover,\n",
              "div.sk-label-container:hover .sk-estimator-doc-link:hover,\n",
              ".sk-estimator-doc-link:hover {\n",
              "  /* unfitted */\n",
              "  background-color: var(--sklearn-color-unfitted-level-3);\n",
              "  color: var(--sklearn-color-background);\n",
              "  text-decoration: none;\n",
              "}\n",
              "\n",
              "div.sk-estimator.fitted:hover .sk-estimator-doc-link.fitted:hover,\n",
              ".sk-estimator-doc-link.fitted:hover,\n",
              "div.sk-label-container:hover .sk-estimator-doc-link.fitted:hover,\n",
              ".sk-estimator-doc-link.fitted:hover {\n",
              "  /* fitted */\n",
              "  background-color: var(--sklearn-color-fitted-level-3);\n",
              "  color: var(--sklearn-color-background);\n",
              "  text-decoration: none;\n",
              "}\n",
              "\n",
              "/* Span, style for the box shown on hovering the info icon */\n",
              ".sk-estimator-doc-link span {\n",
              "  display: none;\n",
              "  z-index: 9999;\n",
              "  position: relative;\n",
              "  font-weight: normal;\n",
              "  right: .2ex;\n",
              "  padding: .5ex;\n",
              "  margin: .5ex;\n",
              "  width: min-content;\n",
              "  min-width: 20ex;\n",
              "  max-width: 50ex;\n",
              "  color: var(--sklearn-color-text);\n",
              "  box-shadow: 2pt 2pt 4pt #999;\n",
              "  /* unfitted */\n",
              "  background: var(--sklearn-color-unfitted-level-0);\n",
              "  border: .5pt solid var(--sklearn-color-unfitted-level-3);\n",
              "}\n",
              "\n",
              ".sk-estimator-doc-link.fitted span {\n",
              "  /* fitted */\n",
              "  background: var(--sklearn-color-fitted-level-0);\n",
              "  border: var(--sklearn-color-fitted-level-3);\n",
              "}\n",
              "\n",
              ".sk-estimator-doc-link:hover span {\n",
              "  display: block;\n",
              "}\n",
              "\n",
              "/* \"?\"-specific style due to the `<a>` HTML tag */\n",
              "\n",
              "#sk-container-id-4 a.estimator_doc_link {\n",
              "  float: right;\n",
              "  font-size: 1rem;\n",
              "  line-height: 1em;\n",
              "  font-family: monospace;\n",
              "  background-color: var(--sklearn-color-background);\n",
              "  border-radius: 1rem;\n",
              "  height: 1rem;\n",
              "  width: 1rem;\n",
              "  text-decoration: none;\n",
              "  /* unfitted */\n",
              "  color: var(--sklearn-color-unfitted-level-1);\n",
              "  border: var(--sklearn-color-unfitted-level-1) 1pt solid;\n",
              "}\n",
              "\n",
              "#sk-container-id-4 a.estimator_doc_link.fitted {\n",
              "  /* fitted */\n",
              "  border: var(--sklearn-color-fitted-level-1) 1pt solid;\n",
              "  color: var(--sklearn-color-fitted-level-1);\n",
              "}\n",
              "\n",
              "/* On hover */\n",
              "#sk-container-id-4 a.estimator_doc_link:hover {\n",
              "  /* unfitted */\n",
              "  background-color: var(--sklearn-color-unfitted-level-3);\n",
              "  color: var(--sklearn-color-background);\n",
              "  text-decoration: none;\n",
              "}\n",
              "\n",
              "#sk-container-id-4 a.estimator_doc_link.fitted:hover {\n",
              "  /* fitted */\n",
              "  background-color: var(--sklearn-color-fitted-level-3);\n",
              "}\n",
              "</style><div id=\"sk-container-id-4\" class=\"sk-top-container\"><div class=\"sk-text-repr-fallback\"><pre>SGDClassifier(loss=&#x27;squared_error&#x27;, max_iter=100)</pre><b>In a Jupyter environment, please rerun this cell to show the HTML representation or trust the notebook. <br />On GitHub, the HTML representation is unable to render, please try loading this page with nbviewer.org.</b></div><div class=\"sk-container\" hidden><div class=\"sk-item\"><div class=\"sk-estimator fitted sk-toggleable\"><input class=\"sk-toggleable__control sk-hidden--visually\" id=\"sk-estimator-id-4\" type=\"checkbox\" checked><label for=\"sk-estimator-id-4\" class=\"sk-toggleable__label fitted sk-toggleable__label-arrow fitted\">&nbsp;&nbsp;SGDClassifier<a class=\"sk-estimator-doc-link fitted\" rel=\"noreferrer\" target=\"_blank\" href=\"https://scikit-learn.org/1.5/modules/generated/sklearn.linear_model.SGDClassifier.html\">?<span>Documentation for SGDClassifier</span></a><span class=\"sk-estimator-doc-link fitted\">i<span>Fitted</span></span></label><div class=\"sk-toggleable__content fitted\"><pre>SGDClassifier(loss=&#x27;squared_error&#x27;, max_iter=100)</pre></div> </div></div></div></div>"
            ]
          },
          "metadata": {},
          "execution_count": 172
        }
      ]
    },
    {
      "cell_type": "code",
      "source": [
        "lib_predictions = lib_clf.predict(X_test)\n",
        "print('Точность классификации:', accuracy_score(y_test, lib_predictions))"
      ],
      "metadata": {
        "colab": {
          "base_uri": "https://localhost:8080/"
        },
        "id": "D-rOtv5z8LbT",
        "outputId": "27172d6a-c5cc-4539-bbf4-5c7afa10a798"
      },
      "execution_count": null,
      "outputs": [
        {
          "output_type": "stream",
          "name": "stdout",
          "text": [
            "Точность классификации: 0.4657534246575342\n"
          ]
        }
      ]
    },
    {
      "cell_type": "code",
      "source": [
        "lib_clf_steepest = SGDClassifier(loss=\"squared_error\", penalty=\"l2\", max_iter=1000, learning_rate='optimal')\n",
        "lib_clf_steepest.fit(X_train, y_train)\n",
        "lib_steepest_predictions = lib_clf_steepest.predict(X_test)\n",
        "print('Точность классификации:', accuracy_score(y_test, lib_steepest_predictions))"
      ],
      "metadata": {
        "colab": {
          "base_uri": "https://localhost:8080/"
        },
        "id": "OtmapCBi-iaP",
        "outputId": "294b550d-dd82-4f35-e790-7fb058dbea65"
      },
      "execution_count": null,
      "outputs": [
        {
          "output_type": "stream",
          "name": "stdout",
          "text": [
            "Точность классификации: 0.565068493150685\n"
          ]
        }
      ]
    }
  ]
}